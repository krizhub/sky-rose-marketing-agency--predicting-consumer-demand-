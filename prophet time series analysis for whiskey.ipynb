{
 "cells": [
  {
   "cell_type": "code",
   "execution_count": 1,
   "id": "c76ba355",
   "metadata": {
    "scrolled": true
   },
   "outputs": [],
   "source": [
    "#!pip install prophet"
   ]
  },
  {
   "cell_type": "code",
   "execution_count": 27,
   "id": "853fb6b7",
   "metadata": {},
   "outputs": [],
   "source": [
    "import pandas as pd\n",
    "from prophet.plot import plot_plotly, plot_components_plotly\n",
    "from prophet import Prophet"
   ]
  },
  {
   "cell_type": "code",
   "execution_count": 28,
   "id": "e4271b9b",
   "metadata": {},
   "outputs": [],
   "source": [
    "df = pd.read_csv(\"whiskey.csv\")"
   ]
  },
  {
   "cell_type": "code",
   "execution_count": 29,
   "id": "b6aaecdb",
   "metadata": {},
   "outputs": [
    {
     "data": {
      "text/html": [
       "<div>\n",
       "<style scoped>\n",
       "    .dataframe tbody tr th:only-of-type {\n",
       "        vertical-align: middle;\n",
       "    }\n",
       "\n",
       "    .dataframe tbody tr th {\n",
       "        vertical-align: top;\n",
       "    }\n",
       "\n",
       "    .dataframe thead th {\n",
       "        text-align: right;\n",
       "    }\n",
       "</style>\n",
       "<table border=\"1\" class=\"dataframe\">\n",
       "  <thead>\n",
       "    <tr style=\"text-align: right;\">\n",
       "      <th></th>\n",
       "      <th>Year</th>\n",
       "      <th>Month</th>\n",
       "      <th>Relative Interest</th>\n",
       "    </tr>\n",
       "  </thead>\n",
       "  <tbody>\n",
       "    <tr>\n",
       "      <th>0</th>\n",
       "      <td>2010</td>\n",
       "      <td>1</td>\n",
       "      <td>41</td>\n",
       "    </tr>\n",
       "    <tr>\n",
       "      <th>1</th>\n",
       "      <td>2010</td>\n",
       "      <td>2</td>\n",
       "      <td>42</td>\n",
       "    </tr>\n",
       "    <tr>\n",
       "      <th>2</th>\n",
       "      <td>2010</td>\n",
       "      <td>3</td>\n",
       "      <td>44</td>\n",
       "    </tr>\n",
       "    <tr>\n",
       "      <th>3</th>\n",
       "      <td>2010</td>\n",
       "      <td>4</td>\n",
       "      <td>41</td>\n",
       "    </tr>\n",
       "    <tr>\n",
       "      <th>4</th>\n",
       "      <td>2010</td>\n",
       "      <td>5</td>\n",
       "      <td>39</td>\n",
       "    </tr>\n",
       "    <tr>\n",
       "      <th>...</th>\n",
       "      <td>...</td>\n",
       "      <td>...</td>\n",
       "      <td>...</td>\n",
       "    </tr>\n",
       "    <tr>\n",
       "      <th>67</th>\n",
       "      <td>2015</td>\n",
       "      <td>8</td>\n",
       "      <td>69</td>\n",
       "    </tr>\n",
       "    <tr>\n",
       "      <th>68</th>\n",
       "      <td>2015</td>\n",
       "      <td>9</td>\n",
       "      <td>63</td>\n",
       "    </tr>\n",
       "    <tr>\n",
       "      <th>69</th>\n",
       "      <td>2015</td>\n",
       "      <td>10</td>\n",
       "      <td>65</td>\n",
       "    </tr>\n",
       "    <tr>\n",
       "      <th>70</th>\n",
       "      <td>2015</td>\n",
       "      <td>11</td>\n",
       "      <td>87</td>\n",
       "    </tr>\n",
       "    <tr>\n",
       "      <th>71</th>\n",
       "      <td>2015</td>\n",
       "      <td>12</td>\n",
       "      <td>100</td>\n",
       "    </tr>\n",
       "  </tbody>\n",
       "</table>\n",
       "<p>72 rows × 3 columns</p>\n",
       "</div>"
      ],
      "text/plain": [
       "    Year  Month  Relative Interest\n",
       "0   2010      1                 41\n",
       "1   2010      2                 42\n",
       "2   2010      3                 44\n",
       "3   2010      4                 41\n",
       "4   2010      5                 39\n",
       "..   ...    ...                ...\n",
       "67  2015      8                 69\n",
       "68  2015      9                 63\n",
       "69  2015     10                 65\n",
       "70  2015     11                 87\n",
       "71  2015     12                100\n",
       "\n",
       "[72 rows x 3 columns]"
      ]
     },
     "execution_count": 29,
     "metadata": {},
     "output_type": "execute_result"
    }
   ],
   "source": [
    "df"
   ]
  },
  {
   "cell_type": "code",
   "execution_count": 30,
   "id": "4caf6e70",
   "metadata": {},
   "outputs": [
    {
     "data": {
      "text/plain": [
       "Year                 int64\n",
       "Month                int64\n",
       "Relative Interest    int64\n",
       "dtype: object"
      ]
     },
     "execution_count": 30,
     "metadata": {},
     "output_type": "execute_result"
    }
   ],
   "source": [
    "df.dtypes"
   ]
  },
  {
   "cell_type": "code",
   "execution_count": 32,
   "id": "df63669d",
   "metadata": {},
   "outputs": [],
   "source": [
    "df['date'] = df['Year'].astype(str) + '-' + df['Month'].astype(str)"
   ]
  },
  {
   "cell_type": "code",
   "execution_count": 33,
   "id": "9815f306",
   "metadata": {},
   "outputs": [
    {
     "data": {
      "text/plain": [
       "Year                  int64\n",
       "Month                 int64\n",
       "Relative Interest     int64\n",
       "date                 object\n",
       "dtype: object"
      ]
     },
     "execution_count": 33,
     "metadata": {},
     "output_type": "execute_result"
    }
   ],
   "source": [
    "df.dtypes"
   ]
  },
  {
   "cell_type": "code",
   "execution_count": 34,
   "id": "c6a35528",
   "metadata": {},
   "outputs": [
    {
     "data": {
      "text/html": [
       "<div>\n",
       "<style scoped>\n",
       "    .dataframe tbody tr th:only-of-type {\n",
       "        vertical-align: middle;\n",
       "    }\n",
       "\n",
       "    .dataframe tbody tr th {\n",
       "        vertical-align: top;\n",
       "    }\n",
       "\n",
       "    .dataframe thead th {\n",
       "        text-align: right;\n",
       "    }\n",
       "</style>\n",
       "<table border=\"1\" class=\"dataframe\">\n",
       "  <thead>\n",
       "    <tr style=\"text-align: right;\">\n",
       "      <th></th>\n",
       "      <th>Year</th>\n",
       "      <th>Month</th>\n",
       "      <th>Relative Interest</th>\n",
       "      <th>date</th>\n",
       "    </tr>\n",
       "  </thead>\n",
       "  <tbody>\n",
       "    <tr>\n",
       "      <th>0</th>\n",
       "      <td>2010</td>\n",
       "      <td>1</td>\n",
       "      <td>41</td>\n",
       "      <td>2010-01-01</td>\n",
       "    </tr>\n",
       "    <tr>\n",
       "      <th>1</th>\n",
       "      <td>2010</td>\n",
       "      <td>2</td>\n",
       "      <td>42</td>\n",
       "      <td>2010-02-01</td>\n",
       "    </tr>\n",
       "    <tr>\n",
       "      <th>2</th>\n",
       "      <td>2010</td>\n",
       "      <td>3</td>\n",
       "      <td>44</td>\n",
       "      <td>2010-03-01</td>\n",
       "    </tr>\n",
       "    <tr>\n",
       "      <th>3</th>\n",
       "      <td>2010</td>\n",
       "      <td>4</td>\n",
       "      <td>41</td>\n",
       "      <td>2010-04-01</td>\n",
       "    </tr>\n",
       "    <tr>\n",
       "      <th>4</th>\n",
       "      <td>2010</td>\n",
       "      <td>5</td>\n",
       "      <td>39</td>\n",
       "      <td>2010-05-01</td>\n",
       "    </tr>\n",
       "  </tbody>\n",
       "</table>\n",
       "</div>"
      ],
      "text/plain": [
       "   Year  Month  Relative Interest       date\n",
       "0  2010      1                 41 2010-01-01\n",
       "1  2010      2                 42 2010-02-01\n",
       "2  2010      3                 44 2010-03-01\n",
       "3  2010      4                 41 2010-04-01\n",
       "4  2010      5                 39 2010-05-01"
      ]
     },
     "execution_count": 34,
     "metadata": {},
     "output_type": "execute_result"
    }
   ],
   "source": [
    "df['date'] = pd.DatetimeIndex(df['date'])\n",
    "df.head()"
   ]
  },
  {
   "cell_type": "code",
   "execution_count": 35,
   "id": "bec6c4b3",
   "metadata": {},
   "outputs": [
    {
     "data": {
      "text/plain": [
       "Year                          int64\n",
       "Month                         int64\n",
       "Relative Interest             int64\n",
       "date                 datetime64[ns]\n",
       "dtype: object"
      ]
     },
     "execution_count": 35,
     "metadata": {},
     "output_type": "execute_result"
    }
   ],
   "source": [
    "df.dtypes"
   ]
  },
  {
   "cell_type": "code",
   "execution_count": 36,
   "id": "bcb30096",
   "metadata": {},
   "outputs": [
    {
     "data": {
      "text/html": [
       "<div>\n",
       "<style scoped>\n",
       "    .dataframe tbody tr th:only-of-type {\n",
       "        vertical-align: middle;\n",
       "    }\n",
       "\n",
       "    .dataframe tbody tr th {\n",
       "        vertical-align: top;\n",
       "    }\n",
       "\n",
       "    .dataframe thead th {\n",
       "        text-align: right;\n",
       "    }\n",
       "</style>\n",
       "<table border=\"1\" class=\"dataframe\">\n",
       "  <thead>\n",
       "    <tr style=\"text-align: right;\">\n",
       "      <th></th>\n",
       "      <th>date</th>\n",
       "      <th>Relative Interest</th>\n",
       "    </tr>\n",
       "  </thead>\n",
       "  <tbody>\n",
       "    <tr>\n",
       "      <th>0</th>\n",
       "      <td>2010-01-01</td>\n",
       "      <td>41</td>\n",
       "    </tr>\n",
       "    <tr>\n",
       "      <th>1</th>\n",
       "      <td>2010-02-01</td>\n",
       "      <td>42</td>\n",
       "    </tr>\n",
       "    <tr>\n",
       "      <th>2</th>\n",
       "      <td>2010-03-01</td>\n",
       "      <td>44</td>\n",
       "    </tr>\n",
       "    <tr>\n",
       "      <th>3</th>\n",
       "      <td>2010-04-01</td>\n",
       "      <td>41</td>\n",
       "    </tr>\n",
       "    <tr>\n",
       "      <th>4</th>\n",
       "      <td>2010-05-01</td>\n",
       "      <td>39</td>\n",
       "    </tr>\n",
       "  </tbody>\n",
       "</table>\n",
       "</div>"
      ],
      "text/plain": [
       "        date  Relative Interest\n",
       "0 2010-01-01                 41\n",
       "1 2010-02-01                 42\n",
       "2 2010-03-01                 44\n",
       "3 2010-04-01                 41\n",
       "4 2010-05-01                 39"
      ]
     },
     "execution_count": 36,
     "metadata": {},
     "output_type": "execute_result"
    }
   ],
   "source": [
    "df=df[[\"date\",\"Relative Interest\"]]\n",
    "df.head()"
   ]
  },
  {
   "cell_type": "code",
   "execution_count": 37,
   "id": "ea96e21b",
   "metadata": {},
   "outputs": [
    {
     "data": {
      "text/plain": [
       "<AxesSubplot:xlabel='date'>"
      ]
     },
     "execution_count": 37,
     "metadata": {},
     "output_type": "execute_result"
    },
    {
     "data": {
      "image/png": "[encoded data removed]",
      "text/plain": [
       "<Figure size 2000x1200 with 1 Axes>"
      ]
     },
     "metadata": {},
     "output_type": "display_data"
    }
   ],
   "source": [
    "df.set_index('date').plot(figsize=(20, 12))"
   ]
  },
  {
   "cell_type": "code",
   "execution_count": 38,
   "id": "c26108a5",
   "metadata": {},
   "outputs": [],
   "source": [
    "df.columns = ['ds','y']"
   ]
  },
  {
   "cell_type": "code",
   "execution_count": 39,
   "id": "a3f64813",
   "metadata": {},
   "outputs": [
    {
     "data": {
      "text/html": [
       "<div>\n",
       "<style scoped>\n",
       "    .dataframe tbody tr th:only-of-type {\n",
       "        vertical-align: middle;\n",
       "    }\n",
       "\n",
       "    .dataframe tbody tr th {\n",
       "        vertical-align: top;\n",
       "    }\n",
       "\n",
       "    .dataframe thead th {\n",
       "        text-align: right;\n",
       "    }\n",
       "</style>\n",
       "<table border=\"1\" class=\"dataframe\">\n",
       "  <thead>\n",
       "    <tr style=\"text-align: right;\">\n",
       "      <th></th>\n",
       "      <th>ds</th>\n",
       "      <th>y</th>\n",
       "    </tr>\n",
       "  </thead>\n",
       "  <tbody>\n",
       "    <tr>\n",
       "      <th>67</th>\n",
       "      <td>2015-08-01</td>\n",
       "      <td>69</td>\n",
       "    </tr>\n",
       "    <tr>\n",
       "      <th>68</th>\n",
       "      <td>2015-09-01</td>\n",
       "      <td>63</td>\n",
       "    </tr>\n",
       "    <tr>\n",
       "      <th>69</th>\n",
       "      <td>2015-10-01</td>\n",
       "      <td>65</td>\n",
       "    </tr>\n",
       "    <tr>\n",
       "      <th>70</th>\n",
       "      <td>2015-11-01</td>\n",
       "      <td>87</td>\n",
       "    </tr>\n",
       "    <tr>\n",
       "      <th>71</th>\n",
       "      <td>2015-12-01</td>\n",
       "      <td>100</td>\n",
       "    </tr>\n",
       "  </tbody>\n",
       "</table>\n",
       "</div>"
      ],
      "text/plain": [
       "           ds    y\n",
       "67 2015-08-01   69\n",
       "68 2015-09-01   63\n",
       "69 2015-10-01   65\n",
       "70 2015-11-01   87\n",
       "71 2015-12-01  100"
      ]
     },
     "execution_count": 39,
     "metadata": {},
     "output_type": "execute_result"
    }
   ],
   "source": [
    "df.tail()"
   ]
  },
  {
   "cell_type": "code",
   "execution_count": 41,
   "id": "220d1312",
   "metadata": {},
   "outputs": [],
   "source": [
    "train = df.iloc[:len(df)-20]\n",
    "test = df.iloc[len(df)-20:]"
   ]
  },
  {
   "cell_type": "code",
   "execution_count": 42,
   "id": "7cec2388",
   "metadata": {},
   "outputs": [
    {
     "name": "stderr",
     "output_type": "stream",
     "text": [
      "20:04:39 - cmdstanpy - INFO - Chain [1] start processing\n",
      "20:04:39 - cmdstanpy - INFO - Chain [1] done processing\n"
     ]
    }
   ],
   "source": [
    "m = Prophet()\n",
    "m.fit(train)\n",
    "future = m.make_future_dataframe(periods=77,freq= 'MS') #MS for monthly, H for hourly\n",
    "forecast = m.predict(future)"
   ]
  },
  {
   "cell_type": "code",
   "execution_count": 43,
   "id": "5be7e6c0",
   "metadata": {},
   "outputs": [
    {
     "data": {
      "text/html": [
       "<div>\n",
       "<style scoped>\n",
       "    .dataframe tbody tr th:only-of-type {\n",
       "        vertical-align: middle;\n",
       "    }\n",
       "\n",
       "    .dataframe tbody tr th {\n",
       "        vertical-align: top;\n",
       "    }\n",
       "\n",
       "    .dataframe thead th {\n",
       "        text-align: right;\n",
       "    }\n",
       "</style>\n",
       "<table border=\"1\" class=\"dataframe\">\n",
       "  <thead>\n",
       "    <tr style=\"text-align: right;\">\n",
       "      <th></th>\n",
       "      <th>ds</th>\n",
       "    </tr>\n",
       "  </thead>\n",
       "  <tbody>\n",
       "    <tr>\n",
       "      <th>124</th>\n",
       "      <td>2020-05-01</td>\n",
       "    </tr>\n",
       "    <tr>\n",
       "      <th>125</th>\n",
       "      <td>2020-06-01</td>\n",
       "    </tr>\n",
       "    <tr>\n",
       "      <th>126</th>\n",
       "      <td>2020-07-01</td>\n",
       "    </tr>\n",
       "    <tr>\n",
       "      <th>127</th>\n",
       "      <td>2020-08-01</td>\n",
       "    </tr>\n",
       "    <tr>\n",
       "      <th>128</th>\n",
       "      <td>2020-09-01</td>\n",
       "    </tr>\n",
       "  </tbody>\n",
       "</table>\n",
       "</div>"
      ],
      "text/plain": [
       "            ds\n",
       "124 2020-05-01\n",
       "125 2020-06-01\n",
       "126 2020-07-01\n",
       "127 2020-08-01\n",
       "128 2020-09-01"
      ]
     },
     "execution_count": 43,
     "metadata": {},
     "output_type": "execute_result"
    }
   ],
   "source": [
    "future.tail()"
   ]
  },
  {
   "cell_type": "code",
   "execution_count": 44,
   "id": "c74a6680",
   "metadata": {},
   "outputs": [
    {
     "data": {
      "text/html": [
       "<div>\n",
       "<style scoped>\n",
       "    .dataframe tbody tr th:only-of-type {\n",
       "        vertical-align: middle;\n",
       "    }\n",
       "\n",
       "    .dataframe tbody tr th {\n",
       "        vertical-align: top;\n",
       "    }\n",
       "\n",
       "    .dataframe thead th {\n",
       "        text-align: right;\n",
       "    }\n",
       "</style>\n",
       "<table border=\"1\" class=\"dataframe\">\n",
       "  <thead>\n",
       "    <tr style=\"text-align: right;\">\n",
       "      <th></th>\n",
       "      <th>ds</th>\n",
       "      <th>trend</th>\n",
       "      <th>yhat_lower</th>\n",
       "      <th>yhat_upper</th>\n",
       "      <th>trend_lower</th>\n",
       "      <th>trend_upper</th>\n",
       "      <th>additive_terms</th>\n",
       "      <th>additive_terms_lower</th>\n",
       "      <th>additive_terms_upper</th>\n",
       "      <th>yearly</th>\n",
       "      <th>yearly_lower</th>\n",
       "      <th>yearly_upper</th>\n",
       "      <th>multiplicative_terms</th>\n",
       "      <th>multiplicative_terms_lower</th>\n",
       "      <th>multiplicative_terms_upper</th>\n",
       "      <th>yhat</th>\n",
       "    </tr>\n",
       "  </thead>\n",
       "  <tbody>\n",
       "    <tr>\n",
       "      <th>124</th>\n",
       "      <td>2020-05-01</td>\n",
       "      <td>107.245850</td>\n",
       "      <td>100.476870</td>\n",
       "      <td>110.375541</td>\n",
       "      <td>103.549868</td>\n",
       "      <td>111.495494</td>\n",
       "      <td>-2.124364</td>\n",
       "      <td>-2.124364</td>\n",
       "      <td>-2.124364</td>\n",
       "      <td>-2.124364</td>\n",
       "      <td>-2.124364</td>\n",
       "      <td>-2.124364</td>\n",
       "      <td>0.0</td>\n",
       "      <td>0.0</td>\n",
       "      <td>0.0</td>\n",
       "      <td>105.121487</td>\n",
       "    </tr>\n",
       "    <tr>\n",
       "      <th>125</th>\n",
       "      <td>2020-06-01</td>\n",
       "      <td>107.762150</td>\n",
       "      <td>101.881900</td>\n",
       "      <td>111.738815</td>\n",
       "      <td>103.990656</td>\n",
       "      <td>112.083964</td>\n",
       "      <td>-1.247227</td>\n",
       "      <td>-1.247227</td>\n",
       "      <td>-1.247227</td>\n",
       "      <td>-1.247227</td>\n",
       "      <td>-1.247227</td>\n",
       "      <td>-1.247227</td>\n",
       "      <td>0.0</td>\n",
       "      <td>0.0</td>\n",
       "      <td>0.0</td>\n",
       "      <td>106.514923</td>\n",
       "    </tr>\n",
       "    <tr>\n",
       "      <th>126</th>\n",
       "      <td>2020-07-01</td>\n",
       "      <td>108.261795</td>\n",
       "      <td>99.739097</td>\n",
       "      <td>109.918510</td>\n",
       "      <td>104.417407</td>\n",
       "      <td>112.667749</td>\n",
       "      <td>-3.565434</td>\n",
       "      <td>-3.565434</td>\n",
       "      <td>-3.565434</td>\n",
       "      <td>-3.565434</td>\n",
       "      <td>-3.565434</td>\n",
       "      <td>-3.565434</td>\n",
       "      <td>0.0</td>\n",
       "      <td>0.0</td>\n",
       "      <td>0.0</td>\n",
       "      <td>104.696360</td>\n",
       "    </tr>\n",
       "    <tr>\n",
       "      <th>127</th>\n",
       "      <td>2020-08-01</td>\n",
       "      <td>108.778094</td>\n",
       "      <td>99.064530</td>\n",
       "      <td>109.322919</td>\n",
       "      <td>104.845419</td>\n",
       "      <td>113.266596</td>\n",
       "      <td>-4.958720</td>\n",
       "      <td>-4.958720</td>\n",
       "      <td>-4.958720</td>\n",
       "      <td>-4.958720</td>\n",
       "      <td>-4.958720</td>\n",
       "      <td>-4.958720</td>\n",
       "      <td>0.0</td>\n",
       "      <td>0.0</td>\n",
       "      <td>0.0</td>\n",
       "      <td>103.819375</td>\n",
       "    </tr>\n",
       "    <tr>\n",
       "      <th>128</th>\n",
       "      <td>2020-09-01</td>\n",
       "      <td>109.294394</td>\n",
       "      <td>96.829201</td>\n",
       "      <td>107.543151</td>\n",
       "      <td>105.278678</td>\n",
       "      <td>113.848667</td>\n",
       "      <td>-7.373849</td>\n",
       "      <td>-7.373849</td>\n",
       "      <td>-7.373849</td>\n",
       "      <td>-7.373849</td>\n",
       "      <td>-7.373849</td>\n",
       "      <td>-7.373849</td>\n",
       "      <td>0.0</td>\n",
       "      <td>0.0</td>\n",
       "      <td>0.0</td>\n",
       "      <td>101.920545</td>\n",
       "    </tr>\n",
       "  </tbody>\n",
       "</table>\n",
       "</div>"
      ],
      "text/plain": [
       "            ds       trend  yhat_lower  yhat_upper  trend_lower  trend_upper  \\\n",
       "124 2020-05-01  107.245850  100.476870  110.375541   103.549868   111.495494   \n",
       "125 2020-06-01  107.762150  101.881900  111.738815   103.990656   112.083964   \n",
       "126 2020-07-01  108.261795   99.739097  109.918510   104.417407   112.667749   \n",
       "127 2020-08-01  108.778094   99.064530  109.322919   104.845419   113.266596   \n",
       "128 2020-09-01  109.294394   96.829201  107.543151   105.278678   113.848667   \n",
       "\n",
       "     additive_terms  additive_terms_lower  additive_terms_upper    yearly  \\\n",
       "124       -2.124364             -2.124364             -2.124364 -2.124364   \n",
       "125       -1.247227             -1.247227             -1.247227 -1.247227   \n",
       "126       -3.565434             -3.565434             -3.565434 -3.565434   \n",
       "127       -4.958720             -4.958720             -4.958720 -4.958720   \n",
       "128       -7.373849             -7.373849             -7.373849 -7.373849   \n",
       "\n",
       "     yearly_lower  yearly_upper  multiplicative_terms  \\\n",
       "124     -2.124364     -2.124364                   0.0   \n",
       "125     -1.247227     -1.247227                   0.0   \n",
       "126     -3.565434     -3.565434                   0.0   \n",
       "127     -4.958720     -4.958720                   0.0   \n",
       "128     -7.373849     -7.373849                   0.0   \n",
       "\n",
       "     multiplicative_terms_lower  multiplicative_terms_upper        yhat  \n",
       "124                         0.0                         0.0  105.121487  \n",
       "125                         0.0                         0.0  106.514923  \n",
       "126                         0.0                         0.0  104.696360  \n",
       "127                         0.0                         0.0  103.819375  \n",
       "128                         0.0                         0.0  101.920545  "
      ]
     },
     "execution_count": 44,
     "metadata": {},
     "output_type": "execute_result"
    }
   ],
   "source": [
    "forecast.tail()"
   ]
  },
  {
   "cell_type": "code",
   "execution_count": 45,
   "id": "6e634bb4",
   "metadata": {},
   "outputs": [
    {
     "data": {
      "text/html": [
       "<div>\n",
       "<style scoped>\n",
       "    .dataframe tbody tr th:only-of-type {\n",
       "        vertical-align: middle;\n",
       "    }\n",
       "\n",
       "    .dataframe tbody tr th {\n",
       "        vertical-align: top;\n",
       "    }\n",
       "\n",
       "    .dataframe thead th {\n",
       "        text-align: right;\n",
       "    }\n",
       "</style>\n",
       "<table border=\"1\" class=\"dataframe\">\n",
       "  <thead>\n",
       "    <tr style=\"text-align: right;\">\n",
       "      <th></th>\n",
       "      <th>ds</th>\n",
       "      <th>y</th>\n",
       "    </tr>\n",
       "  </thead>\n",
       "  <tbody>\n",
       "    <tr>\n",
       "      <th>67</th>\n",
       "      <td>2015-08-01</td>\n",
       "      <td>69</td>\n",
       "    </tr>\n",
       "    <tr>\n",
       "      <th>68</th>\n",
       "      <td>2015-09-01</td>\n",
       "      <td>63</td>\n",
       "    </tr>\n",
       "    <tr>\n",
       "      <th>69</th>\n",
       "      <td>2015-10-01</td>\n",
       "      <td>65</td>\n",
       "    </tr>\n",
       "    <tr>\n",
       "      <th>70</th>\n",
       "      <td>2015-11-01</td>\n",
       "      <td>87</td>\n",
       "    </tr>\n",
       "    <tr>\n",
       "      <th>71</th>\n",
       "      <td>2015-12-01</td>\n",
       "      <td>100</td>\n",
       "    </tr>\n",
       "  </tbody>\n",
       "</table>\n",
       "</div>"
      ],
      "text/plain": [
       "           ds    y\n",
       "67 2015-08-01   69\n",
       "68 2015-09-01   63\n",
       "69 2015-10-01   65\n",
       "70 2015-11-01   87\n",
       "71 2015-12-01  100"
      ]
     },
     "execution_count": 45,
     "metadata": {},
     "output_type": "execute_result"
    }
   ],
   "source": [
    "df.tail()"
   ]
  },
  {
   "cell_type": "code",
   "execution_count": 46,
   "id": "a7085d4e",
   "metadata": {},
   "outputs": [
    {
     "data": {
      "text/html": [
       "<div>\n",
       "<style scoped>\n",
       "    .dataframe tbody tr th:only-of-type {\n",
       "        vertical-align: middle;\n",
       "    }\n",
       "\n",
       "    .dataframe tbody tr th {\n",
       "        vertical-align: top;\n",
       "    }\n",
       "\n",
       "    .dataframe thead th {\n",
       "        text-align: right;\n",
       "    }\n",
       "</style>\n",
       "<table border=\"1\" class=\"dataframe\">\n",
       "  <thead>\n",
       "    <tr style=\"text-align: right;\">\n",
       "      <th></th>\n",
       "      <th>ds</th>\n",
       "      <th>yhat</th>\n",
       "      <th>yhat_lower</th>\n",
       "      <th>yhat_upper</th>\n",
       "    </tr>\n",
       "  </thead>\n",
       "  <tbody>\n",
       "    <tr>\n",
       "      <th>124</th>\n",
       "      <td>2020-05-01</td>\n",
       "      <td>105.121487</td>\n",
       "      <td>100.476870</td>\n",
       "      <td>110.375541</td>\n",
       "    </tr>\n",
       "    <tr>\n",
       "      <th>125</th>\n",
       "      <td>2020-06-01</td>\n",
       "      <td>106.514923</td>\n",
       "      <td>101.881900</td>\n",
       "      <td>111.738815</td>\n",
       "    </tr>\n",
       "    <tr>\n",
       "      <th>126</th>\n",
       "      <td>2020-07-01</td>\n",
       "      <td>104.696360</td>\n",
       "      <td>99.739097</td>\n",
       "      <td>109.918510</td>\n",
       "    </tr>\n",
       "    <tr>\n",
       "      <th>127</th>\n",
       "      <td>2020-08-01</td>\n",
       "      <td>103.819375</td>\n",
       "      <td>99.064530</td>\n",
       "      <td>109.322919</td>\n",
       "    </tr>\n",
       "    <tr>\n",
       "      <th>128</th>\n",
       "      <td>2020-09-01</td>\n",
       "      <td>101.920545</td>\n",
       "      <td>96.829201</td>\n",
       "      <td>107.543151</td>\n",
       "    </tr>\n",
       "  </tbody>\n",
       "</table>\n",
       "</div>"
      ],
      "text/plain": [
       "            ds        yhat  yhat_lower  yhat_upper\n",
       "124 2020-05-01  105.121487  100.476870  110.375541\n",
       "125 2020-06-01  106.514923  101.881900  111.738815\n",
       "126 2020-07-01  104.696360   99.739097  109.918510\n",
       "127 2020-08-01  103.819375   99.064530  109.322919\n",
       "128 2020-09-01  101.920545   96.829201  107.543151"
      ]
     },
     "execution_count": 46,
     "metadata": {},
     "output_type": "execute_result"
    }
   ],
   "source": [
    "forecast[['ds', 'yhat', 'yhat_lower', 'yhat_upper']].tail()"
   ]
  },
  {
   "cell_type": "code",
   "execution_count": 47,
   "id": "5951d7f7",
   "metadata": {},
   "outputs": [
    {
     "data": {
      "text/html": [
       "<div>\n",
       "<style scoped>\n",
       "    .dataframe tbody tr th:only-of-type {\n",
       "        vertical-align: middle;\n",
       "    }\n",
       "\n",
       "    .dataframe tbody tr th {\n",
       "        vertical-align: top;\n",
       "    }\n",
       "\n",
       "    .dataframe thead th {\n",
       "        text-align: right;\n",
       "    }\n",
       "</style>\n",
       "<table border=\"1\" class=\"dataframe\">\n",
       "  <thead>\n",
       "    <tr style=\"text-align: right;\">\n",
       "      <th></th>\n",
       "      <th>ds</th>\n",
       "      <th>y</th>\n",
       "    </tr>\n",
       "  </thead>\n",
       "  <tbody>\n",
       "    <tr>\n",
       "      <th>67</th>\n",
       "      <td>2015-08-01</td>\n",
       "      <td>69</td>\n",
       "    </tr>\n",
       "    <tr>\n",
       "      <th>68</th>\n",
       "      <td>2015-09-01</td>\n",
       "      <td>63</td>\n",
       "    </tr>\n",
       "    <tr>\n",
       "      <th>69</th>\n",
       "      <td>2015-10-01</td>\n",
       "      <td>65</td>\n",
       "    </tr>\n",
       "    <tr>\n",
       "      <th>70</th>\n",
       "      <td>2015-11-01</td>\n",
       "      <td>87</td>\n",
       "    </tr>\n",
       "    <tr>\n",
       "      <th>71</th>\n",
       "      <td>2015-12-01</td>\n",
       "      <td>100</td>\n",
       "    </tr>\n",
       "  </tbody>\n",
       "</table>\n",
       "</div>"
      ],
      "text/plain": [
       "           ds    y\n",
       "67 2015-08-01   69\n",
       "68 2015-09-01   63\n",
       "69 2015-10-01   65\n",
       "70 2015-11-01   87\n",
       "71 2015-12-01  100"
      ]
     },
     "execution_count": 47,
     "metadata": {},
     "output_type": "execute_result"
    }
   ],
   "source": [
    "test.tail()"
   ]
  },
  {
   "cell_type": "code",
   "execution_count": 48,
   "id": "59d07698",
   "metadata": {},
   "outputs": [
    {
     "data": {
      "application/vnd.plotly.v1+json": {
       "config": {
        "plotlyServerURL": "https://plot.ly"
       },
       "data": [
        {
         "marker": {
          "color": "black",
          "size": 4
         },
         "mode": "markers",
         "name": "Actual",
         "type": "scatter",
         "x": [
          "2010-01-01T00:00:00",
          "2010-02-01T00:00:00",
          "2010-03-01T00:00:00",
          "2010-04-01T00:00:00",
          "2010-05-01T00:00:00",
          "2010-06-01T00:00:00",
          "2010-07-01T00:00:00",
          "2010-08-01T00:00:00",
          "2010-09-01T00:00:00",
          "2010-10-01T00:00:00",
          "2010-11-01T00:00:00",
          "2010-12-01T00:00:00",
          "2011-01-01T00:00:00",
          "2011-02-01T00:00:00",
          "2011-03-01T00:00:00",
          "2011-04-01T00:00:00",
          "2011-05-01T00:00:00",
          "2011-06-01T00:00:00",
          "2011-07-01T00:00:00",
          "2011-08-01T00:00:00",
          "2011-09-01T00:00:00",
          "2011-10-01T00:00:00",
          "2011-11-01T00:00:00",
          "2011-12-01T00:00:00",
          "2012-01-01T00:00:00",
          "2012-02-01T00:00:00",
          "2012-03-01T00:00:00",
          "2012-04-01T00:00:00",
          "2012-05-01T00:00:00",
          "2012-06-01T00:00:00",
          "2012-07-01T00:00:00",
          "2012-08-01T00:00:00",
          "2012-09-01T00:00:00",
          "2012-10-01T00:00:00",
          "2012-11-01T00:00:00",
          "2012-12-01T00:00:00",
          "2013-01-01T00:00:00",
          "2013-02-01T00:00:00",
          "2013-03-01T00:00:00",
          "2013-04-01T00:00:00",
          "2013-05-01T00:00:00",
          "2013-06-01T00:00:00",
          "2013-07-01T00:00:00",
          "2013-08-01T00:00:00",
          "2013-09-01T00:00:00",
          "2013-10-01T00:00:00",
          "2013-11-01T00:00:00",
          "2013-12-01T00:00:00",
          "2014-01-01T00:00:00",
          "2014-02-01T00:00:00",
          "2014-03-01T00:00:00",
          "2014-04-01T00:00:00"
         ],
         "y": [
          41,
          42,
          44,
          41,
          39,
          36,
          39,
          39,
          39,
          40,
          43,
          55,
          52,
          51,
          52,
          48,
          47,
          49,
          49,
          46,
          49,
          52,
          60,
          73,
          60,
          55,
          60,
          52,
          58,
          59,
          56,
          53,
          55,
          55,
          65,
          84,
          69,
          65,
          67,
          59,
          58,
          61,
          61,
          63,
          57,
          66,
          73,
          90,
          71,
          66,
          73,
          66
         ]
        },
        {
         "hoverinfo": "skip",
         "line": {
          "width": 0
         },
         "mode": "lines",
         "type": "scatter",
         "x": [
          "2010-01-01T00:00:00",
          "2010-02-01T00:00:00",
          "2010-03-01T00:00:00",
          "2010-04-01T00:00:00",
          "2010-05-01T00:00:00",
          "2010-06-01T00:00:00",
          "2010-07-01T00:00:00",
          "2010-08-01T00:00:00",
          "2010-09-01T00:00:00",
          "2010-10-01T00:00:00",
          "2010-11-01T00:00:00",
          "2010-12-01T00:00:00",
          "2011-01-01T00:00:00",
          "2011-02-01T00:00:00",
          "2011-03-01T00:00:00",
          "2011-04-01T00:00:00",
          "2011-05-01T00:00:00",
          "2011-06-01T00:00:00",
          "2011-07-01T00:00:00",
          "2011-08-01T00:00:00",
          "2011-09-01T00:00:00",
          "2011-10-01T00:00:00",
          "2011-11-01T00:00:00",
          "2011-12-01T00:00:00",
          "2012-01-01T00:00:00",
          "2012-02-01T00:00:00",
          "2012-03-01T00:00:00",
          "2012-04-01T00:00:00",
          "2012-05-01T00:00:00",
          "2012-06-01T00:00:00",
          "2012-07-01T00:00:00",
          "2012-08-01T00:00:00",
          "2012-09-01T00:00:00",
          "2012-10-01T00:00:00",
          "2012-11-01T00:00:00",
          "2012-12-01T00:00:00",
          "2013-01-01T00:00:00",
          "2013-02-01T00:00:00",
          "2013-03-01T00:00:00",
          "2013-04-01T00:00:00",
          "2013-05-01T00:00:00",
          "2013-06-01T00:00:00",
          "2013-07-01T00:00:00",
          "2013-08-01T00:00:00",
          "2013-09-01T00:00:00",
          "2013-10-01T00:00:00",
          "2013-11-01T00:00:00",
          "2013-12-01T00:00:00",
          "2014-01-01T00:00:00",
          "2014-02-01T00:00:00",
          "2014-03-01T00:00:00",
          "2014-04-01T00:00:00",
          "2014-05-01T00:00:00",
          "2014-06-01T00:00:00",
          "2014-07-01T00:00:00",
          "2014-08-01T00:00:00",
          "2014-09-01T00:00:00",
          "2014-10-01T00:00:00",
          "2014-11-01T00:00:00",
          "2014-12-01T00:00:00",
          "2015-01-01T00:00:00",
          "2015-02-01T00:00:00",
          "2015-03-01T00:00:00",
          "2015-04-01T00:00:00",
          "2015-05-01T00:00:00",
          "2015-06-01T00:00:00",
          "2015-07-01T00:00:00",
          "2015-08-01T00:00:00",
          "2015-09-01T00:00:00",
          "2015-10-01T00:00:00",
          "2015-11-01T00:00:00",
          "2015-12-01T00:00:00",
          "2016-01-01T00:00:00",
          "2016-02-01T00:00:00",
          "2016-03-01T00:00:00",
          "2016-04-01T00:00:00",
          "2016-05-01T00:00:00",
          "2016-06-01T00:00:00",
          "2016-07-01T00:00:00",
          "2016-08-01T00:00:00",
          "2016-09-01T00:00:00",
          "2016-10-01T00:00:00",
          "2016-11-01T00:00:00",
          "2016-12-01T00:00:00",
          "2017-01-01T00:00:00",
          "2017-02-01T00:00:00",
          "2017-03-01T00:00:00",
          "2017-04-01T00:00:00",
          "2017-05-01T00:00:00",
          "2017-06-01T00:00:00",
          "2017-07-01T00:00:00",
          "2017-08-01T00:00:00",
          "2017-09-01T00:00:00",
          "2017-10-01T00:00:00",
          "2017-11-01T00:00:00",
          "2017-12-01T00:00:00",
          "2018-01-01T00:00:00",
          "2018-02-01T00:00:00",
          "2018-03-01T00:00:00",
          "2018-04-01T00:00:00",
          "2018-05-01T00:00:00",
          "2018-06-01T00:00:00",
          "2018-07-01T00:00:00",
          "2018-08-01T00:00:00",
          "2018-09-01T00:00:00",
          "2018-10-01T00:00:00",
          "2018-11-01T00:00:00",
          "2018-12-01T00:00:00",
          "2019-01-01T00:00:00",
          "2019-02-01T00:00:00",
          "2019-03-01T00:00:00",
          "2019-04-01T00:00:00",
          "2019-05-01T00:00:00",
          "2019-06-01T00:00:00",
          "2019-07-01T00:00:00",
          "2019-08-01T00:00:00",
          "2019-09-01T00:00:00",
          "2019-10-01T00:00:00",
          "2019-11-01T00:00:00",
          "2019-12-01T00:00:00",
          "2020-01-01T00:00:00",
          "2020-02-01T00:00:00",
          "2020-03-01T00:00:00",
          "2020-04-01T00:00:00",
          "2020-05-01T00:00:00",
          "2020-06-01T00:00:00",
          "2020-07-01T00:00:00",
          "2020-08-01T00:00:00",
          "2020-09-01T00:00:00"
         ],
         "y": [
          39.40345682134227,
          37.005786550379625,
          40.68781825565582,
          35.04872912284295,
          35.09532569578899,
          35.4769094052977,
          36.230647069849205,
          35.347467340735804,
          35.74687419333032,
          38.902575437806604,
          45.97315146177116,
          60.201313203515724,
          48.540896347401414,
          45.50231432277971,
          49.84989583259135,
          45.488718901620025,
          43.15211462731882,
          43.09148264117238,
          44.67048283324834,
          43.974270384072575,
          45.320003799007985,
          48.96797675018759,
          54.87082246285047,
          66.66999201438034,
          57.46022038080798,
          54.09805246739026,
          57.12078802661219,
          49.10906421568273,
          53.79756755776904,
          54.91419065996371,
          53.16658267533108,
          52.44418826625329,
          50.46677378744948,
          53.02975545768209,
          61.17436218804496,
          79.72728721945126,
          63.26569484891601,
          61.11429539786141,
          63.658468114835145,
          56.86735429982104,
          58.854453128532654,
          59.937286615497456,
          58.88834863226933,
          58.002740214674326,
          57.12589714709001,
          60.04067440751102,
          67.45809981582232,
          83.81553809770763,
          69.57170574028325,
          67.08653736381157,
          70.48617905015496,
          64.84543796756928,
          64.3812162784603,
          64.57705818859445,
          65.08133019662095,
          63.92613271103266,
          64.0232995440312,
          67.30296806614525,
          73.63243733763863,
          87.558307806162,
          75.91346526187833,
          72.79277925088421,
          76.81393619535015,
          72.12288943344252,
          69.74310096133654,
          69.48411285563017,
          70.98528142788165,
          69.91736945733098,
          71.14148477589796,
          74.5695482409586,
          80.02834722662182,
          91.57690485399482,
          82.12074770852456,
          78.55272133764772,
          81.39484800277386,
          73.28886552211344,
          77.73363859468209,
          79.29614438806294,
          77.26785629086994,
          76.67282615231089,
          74.64011124462984,
          77.34134230688463,
          85.28644867807331,
          103.79225762197463,
          87.78777697177382,
          85.10612879129381,
          87.8092488566457,
          80.92776940571626,
          83.35972457704739,
          83.9515187109335,
          83.14026380010694,
          82.24283032724945,
          81.1156441553063,
          84.26992007018137,
          91.45599412898287,
          107.6002994277069,
          93.6803783594322,
          90.59827636931504,
          94.25628341195424,
          88.42591863036773,
          87.92652636610353,
          88.24948016501254,
          88.71347995951714,
          87.42810128102359,
          87.65362152033376,
          90.72971138986544,
          97.42836760791945,
          111.24505515690991,
          99.51388080919793,
          96.3761865943013,
          100.28370254170333,
          95.63537744696757,
          92.77501538032355,
          92.46852549081125,
          94.15475180092982,
          92.74079724125265,
          93.74119489394675,
          97.37109712900966,
          102.84291630238455,
          114.79925388546063,
          105.10120495224542,
          101.0947477488124,
          104.09803950917244,
          96.29534881595993,
          100.47686966923987,
          101.88189969243803,
          99.73909687454876,
          99.06453040508504,
          96.82920147203015
         ]
        },
        {
         "fill": "tonexty",
         "fillcolor": "rgba(0, 114, 178, 0.2)",
         "line": {
          "color": "#0072B2",
          "width": 2
         },
         "mode": "lines",
         "name": "Predicted",
         "type": "scatter",
         "x": [
          "2010-01-01T00:00:00",
          "2010-02-01T00:00:00",
          "2010-03-01T00:00:00",
          "2010-04-01T00:00:00",
          "2010-05-01T00:00:00",
          "2010-06-01T00:00:00",
          "2010-07-01T00:00:00",
          "2010-08-01T00:00:00",
          "2010-09-01T00:00:00",
          "2010-10-01T00:00:00",
          "2010-11-01T00:00:00",
          "2010-12-01T00:00:00",
          "2011-01-01T00:00:00",
          "2011-02-01T00:00:00",
          "2011-03-01T00:00:00",
          "2011-04-01T00:00:00",
          "2011-05-01T00:00:00",
          "2011-06-01T00:00:00",
          "2011-07-01T00:00:00",
          "2011-08-01T00:00:00",
          "2011-09-01T00:00:00",
          "2011-10-01T00:00:00",
          "2011-11-01T00:00:00",
          "2011-12-01T00:00:00",
          "2012-01-01T00:00:00",
          "2012-02-01T00:00:00",
          "2012-03-01T00:00:00",
          "2012-04-01T00:00:00",
          "2012-05-01T00:00:00",
          "2012-06-01T00:00:00",
          "2012-07-01T00:00:00",
          "2012-08-01T00:00:00",
          "2012-09-01T00:00:00",
          "2012-10-01T00:00:00",
          "2012-11-01T00:00:00",
          "2012-12-01T00:00:00",
          "2013-01-01T00:00:00",
          "2013-02-01T00:00:00",
          "2013-03-01T00:00:00",
          "2013-04-01T00:00:00",
          "2013-05-01T00:00:00",
          "2013-06-01T00:00:00",
          "2013-07-01T00:00:00",
          "2013-08-01T00:00:00",
          "2013-09-01T00:00:00",
          "2013-10-01T00:00:00",
          "2013-11-01T00:00:00",
          "2013-12-01T00:00:00",
          "2014-01-01T00:00:00",
          "2014-02-01T00:00:00",
          "2014-03-01T00:00:00",
          "2014-04-01T00:00:00",
          "2014-05-01T00:00:00",
          "2014-06-01T00:00:00",
          "2014-07-01T00:00:00",
          "2014-08-01T00:00:00",
          "2014-09-01T00:00:00",
          "2014-10-01T00:00:00",
          "2014-11-01T00:00:00",
          "2014-12-01T00:00:00",
          "2015-01-01T00:00:00",
          "2015-02-01T00:00:00",
          "2015-03-01T00:00:00",
          "2015-04-01T00:00:00",
          "2015-05-01T00:00:00",
          "2015-06-01T00:00:00",
          "2015-07-01T00:00:00",
          "2015-08-01T00:00:00",
          "2015-09-01T00:00:00",
          "2015-10-01T00:00:00",
          "2015-11-01T00:00:00",
          "2015-12-01T00:00:00",
          "2016-01-01T00:00:00",
          "2016-02-01T00:00:00",
          "2016-03-01T00:00:00",
          "2016-04-01T00:00:00",
          "2016-05-01T00:00:00",
          "2016-06-01T00:00:00",
          "2016-07-01T00:00:00",
          "2016-08-01T00:00:00",
          "2016-09-01T00:00:00",
          "2016-10-01T00:00:00",
          "2016-11-01T00:00:00",
          "2016-12-01T00:00:00",
          "2017-01-01T00:00:00",
          "2017-02-01T00:00:00",
          "2017-03-01T00:00:00",
          "2017-04-01T00:00:00",
          "2017-05-01T00:00:00",
          "2017-06-01T00:00:00",
          "2017-07-01T00:00:00",
          "2017-08-01T00:00:00",
          "2017-09-01T00:00:00",
          "2017-10-01T00:00:00",
          "2017-11-01T00:00:00",
          "2017-12-01T00:00:00",
          "2018-01-01T00:00:00",
          "2018-02-01T00:00:00",
          "2018-03-01T00:00:00",
          "2018-04-01T00:00:00",
          "2018-05-01T00:00:00",
          "2018-06-01T00:00:00",
          "2018-07-01T00:00:00",
          "2018-08-01T00:00:00",
          "2018-09-01T00:00:00",
          "2018-10-01T00:00:00",
          "2018-11-01T00:00:00",
          "2018-12-01T00:00:00",
          "2019-01-01T00:00:00",
          "2019-02-01T00:00:00",
          "2019-03-01T00:00:00",
          "2019-04-01T00:00:00",
          "2019-05-01T00:00:00",
          "2019-06-01T00:00:00",
          "2019-07-01T00:00:00",
          "2019-08-01T00:00:00",
          "2019-09-01T00:00:00",
          "2019-10-01T00:00:00",
          "2019-11-01T00:00:00",
          "2019-12-01T00:00:00",
          "2020-01-01T00:00:00",
          "2020-02-01T00:00:00",
          "2020-03-01T00:00:00",
          "2020-04-01T00:00:00",
          "2020-05-01T00:00:00",
          "2020-06-01T00:00:00",
          "2020-07-01T00:00:00",
          "2020-08-01T00:00:00",
          "2020-09-01T00:00:00"
         ],
         "y": [
          42.36980670000153,
          39.842410802736275,
          43.440339031065285,
          38.02936450110478,
          37.85927401489441,
          38.45360792591706,
          39.1225092865617,
          38.15563423005545,
          38.531023038449106,
          42.04784116532091,
          48.74759092904005,
          62.990515363837346,
          51.38896849604352,
          48.44378015889121,
          52.68867755730053,
          48.42367935862524,
          45.860889530593845,
          46.00646771264746,
          47.843237080601114,
          46.72334813141213,
          48.11280334898937,
          51.85810385834801,
          57.66578664086627,
          69.68552095505028,
          60.35178657565271,
          56.93526777657449,
          59.97099455789021,
          52.10812042311267,
          56.43670654890424,
          57.83538901406929,
          56.020716854583796,
          55.146668209661684,
          53.25077579690768,
          55.96704059993918,
          64.12845628036406,
          82.63036368055853,
          66.30084445182985,
          63.95155466033111,
          66.6924887197541,
          59.86733858633451,
          61.84557572130879,
          62.70322314973438,
          62.0052704111565,
          60.966162354542185,
          60.09162927020613,
          63.11630644686847,
          70.44671240029041,
          86.68955731386619,
          72.58869940560456,
          69.83187995476509,
          73.22258690890332,
          67.5821888254208,
          67.1900755452667,
          67.55498590255145,
          68.00186446893397,
          66.80556585856628,
          66.95153111310137,
          70.24632644314804,
          76.71665265016676,
          90.73755202007925,
          78.90657924833297,
          75.73196500724089,
          79.769639008735,
          75.27521490627251,
          72.49040001004933,
          72.40655284670628,
          74.0212976868699,
          72.67225308868807,
          73.83359505595722,
          77.35814080694628,
          82.93899380212896,
          94.77679416161952,
          85.25506136238909,
          81.65195269412108,
          84.51312766233127,
          76.46527033320686,
          80.78877965209027,
          82.18221608344469,
          80.3636533396808,
          79.48666784375239,
          77.58783857999971,
          80.3023914045482,
          88.46203804055115,
          106.96315065104419,
          90.63359141878176,
          88.28426162375119,
          91.02519556858434,
          84.20004543475136,
          86.17828256929549,
          87.0359299977084,
          86.33797725914671,
          85.29886920252913,
          84.42433611818976,
          87.4490132948596,
          94.77941924827742,
          111.02226416184993,
          96.92140625359558,
          94.16458680274971,
          97.55529375688019,
          91.91489567341056,
          91.5227823932506,
          91.88769275053534,
          92.33457131692602,
          91.13827270655158,
          91.2842379610901,
          94.57903329114143,
          101.04935949815177,
          115.07025886806248,
          103.23928609631515,
          100.06467185522752,
          104.1023458567329,
          99.60792175425658,
          96.8231068580384,
          96.73925969469742,
          98.35400453485178,
          97.00495993667272,
          98.16630190393987,
          101.69084765493855,
          107.27170065011643,
          119.1095010095946,
          109.58776821037377,
          105.9846595421081,
          108.84583451032408,
          100.79797718119941,
          105.12148650007131,
          106.51492293142216,
          104.69636018766546,
          103.81937469173877,
          101.9205454279846
         ]
        },
        {
         "fill": "tonexty",
         "fillcolor": "rgba(0, 114, 178, 0.2)",
         "hoverinfo": "skip",
         "line": {
          "width": 0
         },
         "mode": "lines",
         "type": "scatter",
         "x": [
          "2010-01-01T00:00:00",
          "2010-02-01T00:00:00",
          "2010-03-01T00:00:00",
          "2010-04-01T00:00:00",
          "2010-05-01T00:00:00",
          "2010-06-01T00:00:00",
          "2010-07-01T00:00:00",
          "2010-08-01T00:00:00",
          "2010-09-01T00:00:00",
          "2010-10-01T00:00:00",
          "2010-11-01T00:00:00",
          "2010-12-01T00:00:00",
          "2011-01-01T00:00:00",
          "2011-02-01T00:00:00",
          "2011-03-01T00:00:00",
          "2011-04-01T00:00:00",
          "2011-05-01T00:00:00",
          "2011-06-01T00:00:00",
          "2011-07-01T00:00:00",
          "2011-08-01T00:00:00",
          "2011-09-01T00:00:00",
          "2011-10-01T00:00:00",
          "2011-11-01T00:00:00",
          "2011-12-01T00:00:00",
          "2012-01-01T00:00:00",
          "2012-02-01T00:00:00",
          "2012-03-01T00:00:00",
          "2012-04-01T00:00:00",
          "2012-05-01T00:00:00",
          "2012-06-01T00:00:00",
          "2012-07-01T00:00:00",
          "2012-08-01T00:00:00",
          "2012-09-01T00:00:00",
          "2012-10-01T00:00:00",
          "2012-11-01T00:00:00",
          "2012-12-01T00:00:00",
          "2013-01-01T00:00:00",
          "2013-02-01T00:00:00",
          "2013-03-01T00:00:00",
          "2013-04-01T00:00:00",
          "2013-05-01T00:00:00",
          "2013-06-01T00:00:00",
          "2013-07-01T00:00:00",
          "2013-08-01T00:00:00",
          "2013-09-01T00:00:00",
          "2013-10-01T00:00:00",
          "2013-11-01T00:00:00",
          "2013-12-01T00:00:00",
          "2014-01-01T00:00:00",
          "2014-02-01T00:00:00",
          "2014-03-01T00:00:00",
          "2014-04-01T00:00:00",
          "2014-05-01T00:00:00",
          "2014-06-01T00:00:00",
          "2014-07-01T00:00:00",
          "2014-08-01T00:00:00",
          "2014-09-01T00:00:00",
          "2014-10-01T00:00:00",
          "2014-11-01T00:00:00",
          "2014-12-01T00:00:00",
          "2015-01-01T00:00:00",
          "2015-02-01T00:00:00",
          "2015-03-01T00:00:00",
          "2015-04-01T00:00:00",
          "2015-05-01T00:00:00",
          "2015-06-01T00:00:00",
          "2015-07-01T00:00:00",
          "2015-08-01T00:00:00",
          "2015-09-01T00:00:00",
          "2015-10-01T00:00:00",
          "2015-11-01T00:00:00",
          "2015-12-01T00:00:00",
          "2016-01-01T00:00:00",
          "2016-02-01T00:00:00",
          "2016-03-01T00:00:00",
          "2016-04-01T00:00:00",
          "2016-05-01T00:00:00",
          "2016-06-01T00:00:00",
          "2016-07-01T00:00:00",
          "2016-08-01T00:00:00",
          "2016-09-01T00:00:00",
          "2016-10-01T00:00:00",
          "2016-11-01T00:00:00",
          "2016-12-01T00:00:00",
          "2017-01-01T00:00:00",
          "2017-02-01T00:00:00",
          "2017-03-01T00:00:00",
          "2017-04-01T00:00:00",
          "2017-05-01T00:00:00",
          "2017-06-01T00:00:00",
          "2017-07-01T00:00:00",
          "2017-08-01T00:00:00",
          "2017-09-01T00:00:00",
          "2017-10-01T00:00:00",
          "2017-11-01T00:00:00",
          "2017-12-01T00:00:00",
          "2018-01-01T00:00:00",
          "2018-02-01T00:00:00",
          "2018-03-01T00:00:00",
          "2018-04-01T00:00:00",
          "2018-05-01T00:00:00",
          "2018-06-01T00:00:00",
          "2018-07-01T00:00:00",
          "2018-08-01T00:00:00",
          "2018-09-01T00:00:00",
          "2018-10-01T00:00:00",
          "2018-11-01T00:00:00",
          "2018-12-01T00:00:00",
          "2019-01-01T00:00:00",
          "2019-02-01T00:00:00",
          "2019-03-01T00:00:00",
          "2019-04-01T00:00:00",
          "2019-05-01T00:00:00",
          "2019-06-01T00:00:00",
          "2019-07-01T00:00:00",
          "2019-08-01T00:00:00",
          "2019-09-01T00:00:00",
          "2019-10-01T00:00:00",
          "2019-11-01T00:00:00",
          "2019-12-01T00:00:00",
          "2020-01-01T00:00:00",
          "2020-02-01T00:00:00",
          "2020-03-01T00:00:00",
          "2020-04-01T00:00:00",
          "2020-05-01T00:00:00",
          "2020-06-01T00:00:00",
          "2020-07-01T00:00:00",
          "2020-08-01T00:00:00",
          "2020-09-01T00:00:00"
         ],
         "y": [
          45.35216629298179,
          42.57053040965954,
          46.33919168018845,
          41.048517967449634,
          40.812178847260704,
          41.46122206958646,
          42.1347236108693,
          41.079397266860234,
          41.59219988543184,
          44.66832831235738,
          51.68876983561499,
          66.01485305622198,
          54.209117463205686,
          51.62165468487225,
          55.54277607322556,
          51.30264569779557,
          48.841257089959875,
          49.09164150220161,
          50.629373894842615,
          49.65149014651257,
          51.132571475134085,
          54.749325198350206,
          60.49655074765653,
          72.71176011073256,
          63.02171650541771,
          59.71950480026691,
          62.86218453189578,
          55.202160709918324,
          59.32214260113314,
          60.96853069019604,
          58.91258279344326,
          58.09465508261837,
          55.998073902267734,
          58.85445734588119,
          67.03943650557808,
          85.48381352097515,
          69.11872536302279,
          66.82739201941286,
          69.54106961386644,
          62.76949023849962,
          64.85852495503532,
          65.66395046633632,
          65.03818895568538,
          63.8438163093858,
          63.04268939759409,
          65.94925183859013,
          73.26722168432211,
          89.53857286000395,
          75.55566245818217,
          72.65597353435632,
          76.22765775828053,
          70.58924057837996,
          69.93380631263011,
          70.24762049178206,
          70.95624017817462,
          69.67660849972042,
          69.68531682926994,
          73.17029476428787,
          79.66073601195205,
          93.56174230456124,
          81.86842330974157,
          78.66309333961931,
          82.61299567517608,
          78.27692440219495,
          75.44902280696877,
          75.38271639753091,
          76.76891571200106,
          75.59199067028433,
          76.7977295992258,
          80.4069892602727,
          85.90284685381052,
          97.62096113552568,
          88.40577474889626,
          84.65433774922639,
          87.51703269510888,
          79.61361080109747,
          83.64582032135493,
          85.26594076560332,
          83.2680292418543,
          82.65097531730017,
          80.4788953108684,
          83.29975143458444,
          91.47027766663008,
          109.80609065128334,
          93.84336595466377,
          91.17854786676308,
          94.23390332446634,
          87.32379649866859,
          89.46043786179841,
          90.3254305810574,
          89.73257867431447,
          88.77360534192988,
          88.01911790437623,
          90.96166098939779,
          98.3002488155998,
          114.42671368624745,
          100.33027893139855,
          97.60924507242787,
          101.061758981482,
          95.64863732134317,
          95.46882880535992,
          95.54839041583593,
          95.85244071247988,
          94.78776205793764,
          95.1331922462421,
          98.42841371889153,
          105.2349944648359,
          119.05678595908512,
          107.548332664976,
          104.16315043169583,
          108.3858730633404,
          103.97746434596603,
          101.23973557428002,
          101.05691143413944,
          102.61701832954365,
          101.43010586356137,
          102.57501559208434,
          106.51024399863856,
          112.02083372529077,
          123.91190065652127,
          114.53761899506456,
          110.96857608098179,
          113.96926106989181,
          105.92341968015567,
          110.37554113610338,
          111.73881544625534,
          109.91851027976031,
          109.32291905863664,
          107.54315127212917
         ]
        }
       ],
       "layout": {
        "height": 600,
        "showlegend": false,
        "template": {
         "data": {
          "bar": [
           {
            "error_x": {
             "color": "#2a3f5f"
            },
            "error_y": {
             "color": "#2a3f5f"
            },
            "marker": {
             "line": {
              "color": "#E5ECF6",
              "width": 0.5
             },
             "pattern": {
              "fillmode": "overlay",
              "size": 10,
              "solidity": 0.2
             }
            },
            "type": "bar"
           }
          ],
          "barpolar": [
           {
            "marker": {
             "line": {
              "color": "#E5ECF6",
              "width": 0.5
             },
             "pattern": {
              "fillmode": "overlay",
              "size": 10,
              "solidity": 0.2
             }
            },
            "type": "barpolar"
           }
          ],
          "carpet": [
           {
            "aaxis": {
             "endlinecolor": "#2a3f5f",
             "gridcolor": "white",
             "linecolor": "white",
             "minorgridcolor": "white",
             "startlinecolor": "#2a3f5f"
            },
            "baxis": {
             "endlinecolor": "#2a3f5f",
             "gridcolor": "white",
             "linecolor": "white",
             "minorgridcolor": "white",
             "startlinecolor": "#2a3f5f"
            },
            "type": "carpet"
           }
          ],
          "choropleth": [
           {
            "colorbar": {
             "outlinewidth": 0,
             "ticks": ""
            },
            "type": "choropleth"
           }
          ],
          "contour": [
           {
            "colorbar": {
             "outlinewidth": 0,
             "ticks": ""
            },
            "colorscale": [
             [
              0,
              "#0d0887"
             ],
             [
              0.1111111111111111,
              "#46039f"
             ],
             [
              0.2222222222222222,
              "#7201a8"
             ],
             [
              0.3333333333333333,
              "#9c179e"
             ],
             [
              0.4444444444444444,
              "#bd3786"
             ],
             [
              0.5555555555555556,
              "#d8576b"
             ],
             [
              0.6666666666666666,
              "#ed7953"
             ],
             [
              0.7777777777777778,
              "#fb9f3a"
             ],
             [
              0.8888888888888888,
              "#fdca26"
             ],
             [
              1,
              "#f0f921"
             ]
            ],
            "type": "contour"
           }
          ],
          "contourcarpet": [
           {
            "colorbar": {
             "outlinewidth": 0,
             "ticks": ""
            },
            "type": "contourcarpet"
           }
          ],
          "heatmap": [
           {
            "colorbar": {
             "outlinewidth": 0,
             "ticks": ""
            },
            "colorscale": [
             [
              0,
              "#0d0887"
             ],
             [
              0.1111111111111111,
              "#46039f"
             ],
             [
              0.2222222222222222,
              "#7201a8"
             ],
             [
              0.3333333333333333,
              "#9c179e"
             ],
             [
              0.4444444444444444,
              "#bd3786"
             ],
             [
              0.5555555555555556,
              "#d8576b"
             ],
             [
              0.6666666666666666,
              "#ed7953"
             ],
             [
              0.7777777777777778,
              "#fb9f3a"
             ],
             [
              0.8888888888888888,
              "#fdca26"
             ],
             [
              1,
              "#f0f921"
             ]
            ],
            "type": "heatmap"
           }
          ],
          "heatmapgl": [
           {
            "colorbar": {
             "outlinewidth": 0,
             "ticks": ""
            },
            "colorscale": [
             [
              0,
              "#0d0887"
             ],
             [
              0.1111111111111111,
              "#46039f"
             ],
             [
              0.2222222222222222,
              "#7201a8"
             ],
             [
              0.3333333333333333,
              "#9c179e"
             ],
             [
              0.4444444444444444,
              "#bd3786"
             ],
             [
              0.5555555555555556,
              "#d8576b"
             ],
             [
              0.6666666666666666,
              "#ed7953"
             ],
             [
              0.7777777777777778,
              "#fb9f3a"
             ],
             [
              0.8888888888888888,
              "#fdca26"
             ],
             [
              1,
              "#f0f921"
             ]
            ],
            "type": "heatmapgl"
           }
          ],
          "histogram": [
           {
            "marker": {
             "pattern": {
              "fillmode": "overlay",
              "size": 10,
              "solidity": 0.2
             }
            },
            "type": "histogram"
           }
          ],
          "histogram2d": [
           {
            "colorbar": {
             "outlinewidth": 0,
             "ticks": ""
            },
            "colorscale": [
             [
              0,
              "#0d0887"
             ],
             [
              0.1111111111111111,
              "#46039f"
             ],
             [
              0.2222222222222222,
              "#7201a8"
             ],
             [
              0.3333333333333333,
              "#9c179e"
             ],
             [
              0.4444444444444444,
              "#bd3786"
             ],
             [
              0.5555555555555556,
              "#d8576b"
             ],
             [
              0.6666666666666666,
              "#ed7953"
             ],
             [
              0.7777777777777778,
              "#fb9f3a"
             ],
             [
              0.8888888888888888,
              "#fdca26"
             ],
             [
              1,
              "#f0f921"
             ]
            ],
            "type": "histogram2d"
           }
          ],
          "histogram2dcontour": [
           {
            "colorbar": {
             "outlinewidth": 0,
             "ticks": ""
            },
            "colorscale": [
             [
              0,
              "#0d0887"
             ],
             [
              0.1111111111111111,
              "#46039f"
             ],
             [
              0.2222222222222222,
              "#7201a8"
             ],
             [
              0.3333333333333333,
              "#9c179e"
             ],
             [
              0.4444444444444444,
              "#bd3786"
             ],
             [
              0.5555555555555556,
              "#d8576b"
             ],
             [
              0.6666666666666666,
              "#ed7953"
             ],
             [
              0.7777777777777778,
              "#fb9f3a"
             ],
             [
              0.8888888888888888,
              "#fdca26"
             ],
             [
              1,
              "#f0f921"
             ]
            ],
            "type": "histogram2dcontour"
           }
          ],
          "mesh3d": [
           {
            "colorbar": {
             "outlinewidth": 0,
             "ticks": ""
            },
            "type": "mesh3d"
           }
          ],
          "parcoords": [
           {
            "line": {
             "colorbar": {
              "outlinewidth": 0,
              "ticks": ""
             }
            },
            "type": "parcoords"
           }
          ],
          "pie": [
           {
            "automargin": true,
            "type": "pie"
           }
          ],
          "scatter": [
           {
            "fillpattern": {
             "fillmode": "overlay",
             "size": 10,
             "solidity": 0.2
            },
            "type": "scatter"
           }
          ],
          "scatter3d": [
           {
            "line": {
             "colorbar": {
              "outlinewidth": 0,
              "ticks": ""
             }
            },
            "marker": {
             "colorbar": {
              "outlinewidth": 0,
              "ticks": ""
             }
            },
            "type": "scatter3d"
           }
          ],
          "scattercarpet": [
           {
            "marker": {
             "colorbar": {
              "outlinewidth": 0,
              "ticks": ""
             }
            },
            "type": "scattercarpet"
           }
          ],
          "scattergeo": [
           {
            "marker": {
             "colorbar": {
              "outlinewidth": 0,
              "ticks": ""
             }
            },
            "type": "scattergeo"
           }
          ],
          "scattergl": [
           {
            "marker": {
             "colorbar": {
              "outlinewidth": 0,
              "ticks": ""
             }
            },
            "type": "scattergl"
           }
          ],
          "scattermapbox": [
           {
            "marker": {
             "colorbar": {
              "outlinewidth": 0,
              "ticks": ""
             }
            },
            "type": "scattermapbox"
           }
          ],
          "scatterpolar": [
           {
            "marker": {
             "colorbar": {
              "outlinewidth": 0,
              "ticks": ""
             }
            },
            "type": "scatterpolar"
           }
          ],
          "scatterpolargl": [
           {
            "marker": {
             "colorbar": {
              "outlinewidth": 0,
              "ticks": ""
             }
            },
            "type": "scatterpolargl"
           }
          ],
          "scatterternary": [
           {
            "marker": {
             "colorbar": {
              "outlinewidth": 0,
              "ticks": ""
             }
            },
            "type": "scatterternary"
           }
          ],
          "surface": [
           {
            "colorbar": {
             "outlinewidth": 0,
             "ticks": ""
            },
            "colorscale": [
             [
              0,
              "#0d0887"
             ],
             [
              0.1111111111111111,
              "#46039f"
             ],
             [
              0.2222222222222222,
              "#7201a8"
             ],
             [
              0.3333333333333333,
              "#9c179e"
             ],
             [
              0.4444444444444444,
              "#bd3786"
             ],
             [
              0.5555555555555556,
              "#d8576b"
             ],
             [
              0.6666666666666666,
              "#ed7953"
             ],
             [
              0.7777777777777778,
              "#fb9f3a"
             ],
             [
              0.8888888888888888,
              "#fdca26"
             ],
             [
              1,
              "#f0f921"
             ]
            ],
            "type": "surface"
           }
          ],
          "table": [
           {
            "cells": {
             "fill": {
              "color": "#EBF0F8"
             },
             "line": {
              "color": "white"
             }
            },
            "header": {
             "fill": {
              "color": "#C8D4E3"
             },
             "line": {
              "color": "white"
             }
            },
            "type": "table"
           }
          ]
         },
         "layout": {
          "annotationdefaults": {
           "arrowcolor": "#2a3f5f",
           "arrowhead": 0,
           "arrowwidth": 1
          },
          "autotypenumbers": "strict",
          "coloraxis": {
           "colorbar": {
            "outlinewidth": 0,
            "ticks": ""
           }
          },
          "colorscale": {
           "diverging": [
            [
             0,
             "#8e0152"
            ],
            [
             0.1,
             "#c51b7d"
            ],
            [
             0.2,
             "#de77ae"
            ],
            [
             0.3,
             "#f1b6da"
            ],
            [
             0.4,
             "#fde0ef"
            ],
            [
             0.5,
             "#f7f7f7"
            ],
            [
             0.6,
             "#e6f5d0"
            ],
            [
             0.7,
             "#b8e186"
            ],
            [
             0.8,
             "#7fbc41"
            ],
            [
             0.9,
             "#4d9221"
            ],
            [
             1,
             "#276419"
            ]
           ],
           "sequential": [
            [
             0,
             "#0d0887"
            ],
            [
             0.1111111111111111,
             "#46039f"
            ],
            [
             0.2222222222222222,
             "#7201a8"
            ],
            [
             0.3333333333333333,
             "#9c179e"
            ],
            [
             0.4444444444444444,
             "#bd3786"
            ],
            [
             0.5555555555555556,
             "#d8576b"
            ],
            [
             0.6666666666666666,
             "#ed7953"
            ],
            [
             0.7777777777777778,
             "#fb9f3a"
            ],
            [
             0.8888888888888888,
             "#fdca26"
            ],
            [
             1,
             "#f0f921"
            ]
           ],
           "sequentialminus": [
            [
             0,
             "#0d0887"
            ],
            [
             0.1111111111111111,
             "#46039f"
            ],
            [
             0.2222222222222222,
             "#7201a8"
            ],
            [
             0.3333333333333333,
             "#9c179e"
            ],
            [
             0.4444444444444444,
             "#bd3786"
            ],
            [
             0.5555555555555556,
             "#d8576b"
            ],
            [
             0.6666666666666666,
             "#ed7953"
            ],
            [
             0.7777777777777778,
             "#fb9f3a"
            ],
            [
             0.8888888888888888,
             "#fdca26"
            ],
            [
             1,
             "#f0f921"
            ]
           ]
          },
          "colorway": [
           "#636efa",
           "#EF553B",
           "#00cc96",
           "#ab63fa",
           "#FFA15A",
           "#19d3f3",
           "#FF6692",
           "#B6E880",
           "#FF97FF",
           "#FECB52"
          ],
          "font": {
           "color": "#2a3f5f"
          },
          "geo": {
           "bgcolor": "white",
           "lakecolor": "white",
           "landcolor": "#E5ECF6",
           "showlakes": true,
           "showland": true,
           "subunitcolor": "white"
          },
          "hoverlabel": {
           "align": "left"
          },
          "hovermode": "closest",
          "mapbox": {
           "style": "light"
          },
          "paper_bgcolor": "white",
          "plot_bgcolor": "#E5ECF6",
          "polar": {
           "angularaxis": {
            "gridcolor": "white",
            "linecolor": "white",
            "ticks": ""
           },
           "bgcolor": "#E5ECF6",
           "radialaxis": {
            "gridcolor": "white",
            "linecolor": "white",
            "ticks": ""
           }
          },
          "scene": {
           "xaxis": {
            "backgroundcolor": "#E5ECF6",
            "gridcolor": "white",
            "gridwidth": 2,
            "linecolor": "white",
            "showbackground": true,
            "ticks": "",
            "zerolinecolor": "white"
           },
           "yaxis": {
            "backgroundcolor": "#E5ECF6",
            "gridcolor": "white",
            "gridwidth": 2,
            "linecolor": "white",
            "showbackground": true,
            "ticks": "",
            "zerolinecolor": "white"
           },
           "zaxis": {
            "backgroundcolor": "#E5ECF6",
            "gridcolor": "white",
            "gridwidth": 2,
            "linecolor": "white",
            "showbackground": true,
            "ticks": "",
            "zerolinecolor": "white"
           }
          },
          "shapedefaults": {
           "line": {
            "color": "#2a3f5f"
           }
          },
          "ternary": {
           "aaxis": {
            "gridcolor": "white",
            "linecolor": "white",
            "ticks": ""
           },
           "baxis": {
            "gridcolor": "white",
            "linecolor": "white",
            "ticks": ""
           },
           "bgcolor": "#E5ECF6",
           "caxis": {
            "gridcolor": "white",
            "linecolor": "white",
            "ticks": ""
           }
          },
          "title": {
           "x": 0.05
          },
          "xaxis": {
           "automargin": true,
           "gridcolor": "white",
           "linecolor": "white",
           "ticks": "",
           "title": {
            "standoff": 15
           },
           "zerolinecolor": "white",
           "zerolinewidth": 2
          },
          "yaxis": {
           "automargin": true,
           "gridcolor": "white",
           "linecolor": "white",
           "ticks": "",
           "title": {
            "standoff": 15
           },
           "zerolinecolor": "white",
           "zerolinewidth": 2
          }
         }
        },
        "width": 900,
        "xaxis": {
         "rangeselector": {
          "buttons": [
           {
            "count": 7,
            "label": "1w",
            "step": "day",
            "stepmode": "backward"
           },
           {
            "count": 1,
            "label": "1m",
            "step": "month",
            "stepmode": "backward"
           },
           {
            "count": 6,
            "label": "6m",
            "step": "month",
            "stepmode": "backward"
           },
           {
            "count": 1,
            "label": "1y",
            "step": "year",
            "stepmode": "backward"
           },
           {
            "step": "all"
           }
          ]
         },
         "rangeslider": {
          "visible": true
         },
         "title": {
          "text": "ds"
         },
         "type": "date"
        },
        "yaxis": {
         "title": {
          "text": "y"
         }
        }
       }
      },
      "text/html": [
       "<div>                            <div id=\"e8462287-9f9f-48bf-b719-927610059171\" class=\"plotly-graph-div\" style=\"height:600px; width:900px;\"></div>            <script type=\"text/javascript\">                require([\"plotly\"], function(Plotly) {                    window.PLOTLYENV=window.PLOTLYENV || {};                                    if (document.getElementById(\"e8462287-9f9f-48bf-b719-927610059171\")) {                    Plotly.newPlot(                        \"e8462287-9f9f-48bf-b719-927610059171\",                        [{\"marker\":{\"color\":\"black\",\"size\":4},\"mode\":\"markers\",\"name\":\"Actual\",\"x\":[\"2010-01-01T00:00:00\",\"2010-02-01T00:00:00\",\"2010-03-01T00:00:00\",\"2010-04-01T00:00:00\",\"2010-05-01T00:00:00\",\"2010-06-01T00:00:00\",\"2010-07-01T00:00:00\",\"2010-08-01T00:00:00\",\"2010-09-01T00:00:00\",\"2010-10-01T00:00:00\",\"2010-11-01T00:00:00\",\"2010-12-01T00:00:00\",\"2011-01-01T00:00:00\",\"2011-02-01T00:00:00\",\"2011-03-01T00:00:00\",\"2011-04-01T00:00:00\",\"2011-05-01T00:00:00\",\"2011-06-01T00:00:00\",\"2011-07-01T00:00:00\",\"2011-08-01T00:00:00\",\"2011-09-01T00:00:00\",\"2011-10-01T00:00:00\",\"2011-11-01T00:00:00\",\"2011-12-01T00:00:00\",\"2012-01-01T00:00:00\",\"2012-02-01T00:00:00\",\"2012-03-01T00:00:00\",\"2012-04-01T00:00:00\",\"2012-05-01T00:00:00\",\"2012-06-01T00:00:00\",\"2012-07-01T00:00:00\",\"2012-08-01T00:00:00\",\"2012-09-01T00:00:00\",\"2012-10-01T00:00:00\",\"2012-11-01T00:00:00\",\"2012-12-01T00:00:00\",\"2013-01-01T00:00:00\",\"2013-02-01T00:00:00\",\"2013-03-01T00:00:00\",\"2013-04-01T00:00:00\",\"2013-05-01T00:00:00\",\"2013-06-01T00:00:00\",\"2013-07-01T00:00:00\",\"2013-08-01T00:00:00\",\"2013-09-01T00:00:00\",\"2013-10-01T00:00:00\",\"2013-11-01T00:00:00\",\"2013-12-01T00:00:00\",\"2014-01-01T00:00:00\",\"2014-02-01T00:00:00\",\"2014-03-01T00:00:00\",\"2014-04-01T00:00:00\"],\"y\":[41,42,44,41,39,36,39,39,39,40,43,55,52,51,52,48,47,49,49,46,49,52,60,73,60,55,60,52,58,59,56,53,55,55,65,84,69,65,67,59,58,61,61,63,57,66,73,90,71,66,73,66],\"type\":\"scatter\"},{\"hoverinfo\":\"skip\",\"line\":{\"width\":0},\"mode\":\"lines\",\"x\":[\"2010-01-01T00:00:00\",\"2010-02-01T00:00:00\",\"2010-03-01T00:00:00\",\"2010-04-01T00:00:00\",\"2010-05-01T00:00:00\",\"2010-06-01T00:00:00\",\"2010-07-01T00:00:00\",\"2010-08-01T00:00:00\",\"2010-09-01T00:00:00\",\"2010-10-01T00:00:00\",\"2010-11-01T00:00:00\",\"2010-12-01T00:00:00\",\"2011-01-01T00:00:00\",\"2011-02-01T00:00:00\",\"2011-03-01T00:00:00\",\"2011-04-01T00:00:00\",\"2011-05-01T00:00:00\",\"2011-06-01T00:00:00\",\"2011-07-01T00:00:00\",\"2011-08-01T00:00:00\",\"2011-09-01T00:00:00\",\"2011-10-01T00:00:00\",\"2011-11-01T00:00:00\",\"2011-12-01T00:00:00\",\"2012-01-01T00:00:00\",\"2012-02-01T00:00:00\",\"2012-03-01T00:00:00\",\"2012-04-01T00:00:00\",\"2012-05-01T00:00:00\",\"2012-06-01T00:00:00\",\"2012-07-01T00:00:00\",\"2012-08-01T00:00:00\",\"2012-09-01T00:00:00\",\"2012-10-01T00:00:00\",\"2012-11-01T00:00:00\",\"2012-12-01T00:00:00\",\"2013-01-01T00:00:00\",\"2013-02-01T00:00:00\",\"2013-03-01T00:00:00\",\"2013-04-01T00:00:00\",\"2013-05-01T00:00:00\",\"2013-06-01T00:00:00\",\"2013-07-01T00:00:00\",\"2013-08-01T00:00:00\",\"2013-09-01T00:00:00\",\"2013-10-01T00:00:00\",\"2013-11-01T00:00:00\",\"2013-12-01T00:00:00\",\"2014-01-01T00:00:00\",\"2014-02-01T00:00:00\",\"2014-03-01T00:00:00\",\"2014-04-01T00:00:00\",\"2014-05-01T00:00:00\",\"2014-06-01T00:00:00\",\"2014-07-01T00:00:00\",\"2014-08-01T00:00:00\",\"2014-09-01T00:00:00\",\"2014-10-01T00:00:00\",\"2014-11-01T00:00:00\",\"2014-12-01T00:00:00\",\"2015-01-01T00:00:00\",\"2015-02-01T00:00:00\",\"2015-03-01T00:00:00\",\"2015-04-01T00:00:00\",\"2015-05-01T00:00:00\",\"2015-06-01T00:00:00\",\"2015-07-01T00:00:00\",\"2015-08-01T00:00:00\",\"2015-09-01T00:00:00\",\"2015-10-01T00:00:00\",\"2015-11-01T00:00:00\",\"2015-12-01T00:00:00\",\"2016-01-01T00:00:00\",\"2016-02-01T00:00:00\",\"2016-03-01T00:00:00\",\"2016-04-01T00:00:00\",\"2016-05-01T00:00:00\",\"2016-06-01T00:00:00\",\"2016-07-01T00:00:00\",\"2016-08-01T00:00:00\",\"2016-09-01T00:00:00\",\"2016-10-01T00:00:00\",\"2016-11-01T00:00:00\",\"2016-12-01T00:00:00\",\"2017-01-01T00:00:00\",\"2017-02-01T00:00:00\",\"2017-03-01T00:00:00\",\"2017-04-01T00:00:00\",\"2017-05-01T00:00:00\",\"2017-06-01T00:00:00\",\"2017-07-01T00:00:00\",\"2017-08-01T00:00:00\",\"2017-09-01T00:00:00\",\"2017-10-01T00:00:00\",\"2017-11-01T00:00:00\",\"2017-12-01T00:00:00\",\"2018-01-01T00:00:00\",\"2018-02-01T00:00:00\",\"2018-03-01T00:00:00\",\"2018-04-01T00:00:00\",\"2018-05-01T00:00:00\",\"2018-06-01T00:00:00\",\"2018-07-01T00:00:00\",\"2018-08-01T00:00:00\",\"2018-09-01T00:00:00\",\"2018-10-01T00:00:00\",\"2018-11-01T00:00:00\",\"2018-12-01T00:00:00\",\"2019-01-01T00:00:00\",\"2019-02-01T00:00:00\",\"2019-03-01T00:00:00\",\"2019-04-01T00:00:00\",\"2019-05-01T00:00:00\",\"2019-06-01T00:00:00\",\"2019-07-01T00:00:00\",\"2019-08-01T00:00:00\",\"2019-09-01T00:00:00\",\"2019-10-01T00:00:00\",\"2019-11-01T00:00:00\",\"2019-12-01T00:00:00\",\"2020-01-01T00:00:00\",\"2020-02-01T00:00:00\",\"2020-03-01T00:00:00\",\"2020-04-01T00:00:00\",\"2020-05-01T00:00:00\",\"2020-06-01T00:00:00\",\"2020-07-01T00:00:00\",\"2020-08-01T00:00:00\",\"2020-09-01T00:00:00\"],\"y\":[39.40345682134227,37.005786550379625,40.68781825565582,35.04872912284295,35.09532569578899,35.4769094052977,36.230647069849205,35.347467340735804,35.74687419333032,38.902575437806604,45.97315146177116,60.201313203515724,48.540896347401414,45.50231432277971,49.84989583259135,45.488718901620025,43.15211462731882,43.09148264117238,44.67048283324834,43.974270384072575,45.320003799007985,48.96797675018759,54.87082246285047,66.66999201438034,57.46022038080798,54.09805246739026,57.12078802661219,49.10906421568273,53.79756755776904,54.91419065996371,53.16658267533108,52.44418826625329,50.46677378744948,53.02975545768209,61.17436218804496,79.72728721945126,63.26569484891601,61.11429539786141,63.658468114835145,56.86735429982104,58.854453128532654,59.937286615497456,58.88834863226933,58.002740214674326,57.12589714709001,60.04067440751102,67.45809981582232,83.81553809770763,69.57170574028325,67.08653736381157,70.48617905015496,64.84543796756928,64.3812162784603,64.57705818859445,65.08133019662095,63.92613271103266,64.0232995440312,67.30296806614525,73.63243733763863,87.558307806162,75.91346526187833,72.79277925088421,76.81393619535015,72.12288943344252,69.74310096133654,69.48411285563017,70.98528142788165,69.91736945733098,71.14148477589796,74.5695482409586,80.02834722662182,91.57690485399482,82.12074770852456,78.55272133764772,81.39484800277386,73.28886552211344,77.73363859468209,79.29614438806294,77.26785629086994,76.67282615231089,74.64011124462984,77.34134230688463,85.28644867807331,103.79225762197463,87.78777697177382,85.10612879129381,87.8092488566457,80.92776940571626,83.35972457704739,83.9515187109335,83.14026380010694,82.24283032724945,81.1156441553063,84.26992007018137,91.45599412898287,107.6002994277069,93.6803783594322,90.59827636931504,94.25628341195424,88.42591863036773,87.92652636610353,88.24948016501254,88.71347995951714,87.42810128102359,87.65362152033376,90.72971138986544,97.42836760791945,111.24505515690991,99.51388080919793,96.3761865943013,100.28370254170333,95.63537744696757,92.77501538032355,92.46852549081125,94.15475180092982,92.74079724125265,93.74119489394675,97.37109712900966,102.84291630238455,114.79925388546063,105.10120495224542,101.0947477488124,104.09803950917244,96.29534881595993,100.47686966923987,101.88189969243803,99.73909687454876,99.06453040508504,96.82920147203015],\"type\":\"scatter\"},{\"fill\":\"tonexty\",\"fillcolor\":\"rgba(0, 114, 178, 0.2)\",\"line\":{\"color\":\"#0072B2\",\"width\":2},\"mode\":\"lines\",\"name\":\"Predicted\",\"x\":[\"2010-01-01T00:00:00\",\"2010-02-01T00:00:00\",\"2010-03-01T00:00:00\",\"2010-04-01T00:00:00\",\"2010-05-01T00:00:00\",\"2010-06-01T00:00:00\",\"2010-07-01T00:00:00\",\"2010-08-01T00:00:00\",\"2010-09-01T00:00:00\",\"2010-10-01T00:00:00\",\"2010-11-01T00:00:00\",\"2010-12-01T00:00:00\",\"2011-01-01T00:00:00\",\"2011-02-01T00:00:00\",\"2011-03-01T00:00:00\",\"2011-04-01T00:00:00\",\"2011-05-01T00:00:00\",\"2011-06-01T00:00:00\",\"2011-07-01T00:00:00\",\"2011-08-01T00:00:00\",\"2011-09-01T00:00:00\",\"2011-10-01T00:00:00\",\"2011-11-01T00:00:00\",\"2011-12-01T00:00:00\",\"2012-01-01T00:00:00\",\"2012-02-01T00:00:00\",\"2012-03-01T00:00:00\",\"2012-04-01T00:00:00\",\"2012-05-01T00:00:00\",\"2012-06-01T00:00:00\",\"2012-07-01T00:00:00\",\"2012-08-01T00:00:00\",\"2012-09-01T00:00:00\",\"2012-10-01T00:00:00\",\"2012-11-01T00:00:00\",\"2012-12-01T00:00:00\",\"2013-01-01T00:00:00\",\"2013-02-01T00:00:00\",\"2013-03-01T00:00:00\",\"2013-04-01T00:00:00\",\"2013-05-01T00:00:00\",\"2013-06-01T00:00:00\",\"2013-07-01T00:00:00\",\"2013-08-01T00:00:00\",\"2013-09-01T00:00:00\",\"2013-10-01T00:00:00\",\"2013-11-01T00:00:00\",\"2013-12-01T00:00:00\",\"2014-01-01T00:00:00\",\"2014-02-01T00:00:00\",\"2014-03-01T00:00:00\",\"2014-04-01T00:00:00\",\"2014-05-01T00:00:00\",\"2014-06-01T00:00:00\",\"2014-07-01T00:00:00\",\"2014-08-01T00:00:00\",\"2014-09-01T00:00:00\",\"2014-10-01T00:00:00\",\"2014-11-01T00:00:00\",\"2014-12-01T00:00:00\",\"2015-01-01T00:00:00\",\"2015-02-01T00:00:00\",\"2015-03-01T00:00:00\",\"2015-04-01T00:00:00\",\"2015-05-01T00:00:00\",\"2015-06-01T00:00:00\",\"2015-07-01T00:00:00\",\"2015-08-01T00:00:00\",\"2015-09-01T00:00:00\",\"2015-10-01T00:00:00\",\"2015-11-01T00:00:00\",\"2015-12-01T00:00:00\",\"2016-01-01T00:00:00\",\"2016-02-01T00:00:00\",\"2016-03-01T00:00:00\",\"2016-04-01T00:00:00\",\"2016-05-01T00:00:00\",\"2016-06-01T00:00:00\",\"2016-07-01T00:00:00\",\"2016-08-01T00:00:00\",\"2016-09-01T00:00:00\",\"2016-10-01T00:00:00\",\"2016-11-01T00:00:00\",\"2016-12-01T00:00:00\",\"2017-01-01T00:00:00\",\"2017-02-01T00:00:00\",\"2017-03-01T00:00:00\",\"2017-04-01T00:00:00\",\"2017-05-01T00:00:00\",\"2017-06-01T00:00:00\",\"2017-07-01T00:00:00\",\"2017-08-01T00:00:00\",\"2017-09-01T00:00:00\",\"2017-10-01T00:00:00\",\"2017-11-01T00:00:00\",\"2017-12-01T00:00:00\",\"2018-01-01T00:00:00\",\"2018-02-01T00:00:00\",\"2018-03-01T00:00:00\",\"2018-04-01T00:00:00\",\"2018-05-01T00:00:00\",\"2018-06-01T00:00:00\",\"2018-07-01T00:00:00\",\"2018-08-01T00:00:00\",\"2018-09-01T00:00:00\",\"2018-10-01T00:00:00\",\"2018-11-01T00:00:00\",\"2018-12-01T00:00:00\",\"2019-01-01T00:00:00\",\"2019-02-01T00:00:00\",\"2019-03-01T00:00:00\",\"2019-04-01T00:00:00\",\"2019-05-01T00:00:00\",\"2019-06-01T00:00:00\",\"2019-07-01T00:00:00\",\"2019-08-01T00:00:00\",\"2019-09-01T00:00:00\",\"2019-10-01T00:00:00\",\"2019-11-01T00:00:00\",\"2019-12-01T00:00:00\",\"2020-01-01T00:00:00\",\"2020-02-01T00:00:00\",\"2020-03-01T00:00:00\",\"2020-04-01T00:00:00\",\"2020-05-01T00:00:00\",\"2020-06-01T00:00:00\",\"2020-07-01T00:00:00\",\"2020-08-01T00:00:00\",\"2020-09-01T00:00:00\"],\"y\":[42.36980670000153,39.842410802736275,43.440339031065285,38.02936450110478,37.85927401489441,38.45360792591706,39.1225092865617,38.15563423005545,38.531023038449106,42.04784116532091,48.74759092904005,62.990515363837346,51.38896849604352,48.44378015889121,52.68867755730053,48.42367935862524,45.860889530593845,46.00646771264746,47.843237080601114,46.72334813141213,48.11280334898937,51.85810385834801,57.66578664086627,69.68552095505028,60.35178657565271,56.93526777657449,59.97099455789021,52.10812042311267,56.43670654890424,57.83538901406929,56.020716854583796,55.146668209661684,53.25077579690768,55.96704059993918,64.12845628036406,82.63036368055853,66.30084445182985,63.95155466033111,66.6924887197541,59.86733858633451,61.84557572130879,62.70322314973438,62.0052704111565,60.966162354542185,60.09162927020613,63.11630644686847,70.44671240029041,86.68955731386619,72.58869940560456,69.83187995476509,73.22258690890332,67.5821888254208,67.1900755452667,67.55498590255145,68.00186446893397,66.80556585856628,66.95153111310137,70.24632644314804,76.71665265016676,90.73755202007925,78.90657924833297,75.73196500724089,79.769639008735,75.27521490627251,72.49040001004933,72.40655284670628,74.0212976868699,72.67225308868807,73.83359505595722,77.35814080694628,82.93899380212896,94.77679416161952,85.25506136238909,81.65195269412108,84.51312766233127,76.46527033320686,80.78877965209027,82.18221608344469,80.3636533396808,79.48666784375239,77.58783857999971,80.3023914045482,88.46203804055115,106.96315065104419,90.63359141878176,88.28426162375119,91.02519556858434,84.20004543475136,86.17828256929549,87.0359299977084,86.33797725914671,85.29886920252913,84.42433611818976,87.4490132948596,94.77941924827742,111.02226416184993,96.92140625359558,94.16458680274971,97.55529375688019,91.91489567341056,91.5227823932506,91.88769275053534,92.33457131692602,91.13827270655158,91.2842379610901,94.57903329114143,101.04935949815177,115.07025886806248,103.23928609631515,100.06467185522752,104.1023458567329,99.60792175425658,96.8231068580384,96.73925969469742,98.35400453485178,97.00495993667272,98.16630190393987,101.69084765493855,107.27170065011643,119.1095010095946,109.58776821037377,105.9846595421081,108.84583451032408,100.79797718119941,105.12148650007131,106.51492293142216,104.69636018766546,103.81937469173877,101.9205454279846],\"type\":\"scatter\"},{\"fill\":\"tonexty\",\"fillcolor\":\"rgba(0, 114, 178, 0.2)\",\"hoverinfo\":\"skip\",\"line\":{\"width\":0},\"mode\":\"lines\",\"x\":[\"2010-01-01T00:00:00\",\"2010-02-01T00:00:00\",\"2010-03-01T00:00:00\",\"2010-04-01T00:00:00\",\"2010-05-01T00:00:00\",\"2010-06-01T00:00:00\",\"2010-07-01T00:00:00\",\"2010-08-01T00:00:00\",\"2010-09-01T00:00:00\",\"2010-10-01T00:00:00\",\"2010-11-01T00:00:00\",\"2010-12-01T00:00:00\",\"2011-01-01T00:00:00\",\"2011-02-01T00:00:00\",\"2011-03-01T00:00:00\",\"2011-04-01T00:00:00\",\"2011-05-01T00:00:00\",\"2011-06-01T00:00:00\",\"2011-07-01T00:00:00\",\"2011-08-01T00:00:00\",\"2011-09-01T00:00:00\",\"2011-10-01T00:00:00\",\"2011-11-01T00:00:00\",\"2011-12-01T00:00:00\",\"2012-01-01T00:00:00\",\"2012-02-01T00:00:00\",\"2012-03-01T00:00:00\",\"2012-04-01T00:00:00\",\"2012-05-01T00:00:00\",\"2012-06-01T00:00:00\",\"2012-07-01T00:00:00\",\"2012-08-01T00:00:00\",\"2012-09-01T00:00:00\",\"2012-10-01T00:00:00\",\"2012-11-01T00:00:00\",\"2012-12-01T00:00:00\",\"2013-01-01T00:00:00\",\"2013-02-01T00:00:00\",\"2013-03-01T00:00:00\",\"2013-04-01T00:00:00\",\"2013-05-01T00:00:00\",\"2013-06-01T00:00:00\",\"2013-07-01T00:00:00\",\"2013-08-01T00:00:00\",\"2013-09-01T00:00:00\",\"2013-10-01T00:00:00\",\"2013-11-01T00:00:00\",\"2013-12-01T00:00:00\",\"2014-01-01T00:00:00\",\"2014-02-01T00:00:00\",\"2014-03-01T00:00:00\",\"2014-04-01T00:00:00\",\"2014-05-01T00:00:00\",\"2014-06-01T00:00:00\",\"2014-07-01T00:00:00\",\"2014-08-01T00:00:00\",\"2014-09-01T00:00:00\",\"2014-10-01T00:00:00\",\"2014-11-01T00:00:00\",\"2014-12-01T00:00:00\",\"2015-01-01T00:00:00\",\"2015-02-01T00:00:00\",\"2015-03-01T00:00:00\",\"2015-04-01T00:00:00\",\"2015-05-01T00:00:00\",\"2015-06-01T00:00:00\",\"2015-07-01T00:00:00\",\"2015-08-01T00:00:00\",\"2015-09-01T00:00:00\",\"2015-10-01T00:00:00\",\"2015-11-01T00:00:00\",\"2015-12-01T00:00:00\",\"2016-01-01T00:00:00\",\"2016-02-01T00:00:00\",\"2016-03-01T00:00:00\",\"2016-04-01T00:00:00\",\"2016-05-01T00:00:00\",\"2016-06-01T00:00:00\",\"2016-07-01T00:00:00\",\"2016-08-01T00:00:00\",\"2016-09-01T00:00:00\",\"2016-10-01T00:00:00\",\"2016-11-01T00:00:00\",\"2016-12-01T00:00:00\",\"2017-01-01T00:00:00\",\"2017-02-01T00:00:00\",\"2017-03-01T00:00:00\",\"2017-04-01T00:00:00\",\"2017-05-01T00:00:00\",\"2017-06-01T00:00:00\",\"2017-07-01T00:00:00\",\"2017-08-01T00:00:00\",\"2017-09-01T00:00:00\",\"2017-10-01T00:00:00\",\"2017-11-01T00:00:00\",\"2017-12-01T00:00:00\",\"2018-01-01T00:00:00\",\"2018-02-01T00:00:00\",\"2018-03-01T00:00:00\",\"2018-04-01T00:00:00\",\"2018-05-01T00:00:00\",\"2018-06-01T00:00:00\",\"2018-07-01T00:00:00\",\"2018-08-01T00:00:00\",\"2018-09-01T00:00:00\",\"2018-10-01T00:00:00\",\"2018-11-01T00:00:00\",\"2018-12-01T00:00:00\",\"2019-01-01T00:00:00\",\"2019-02-01T00:00:00\",\"2019-03-01T00:00:00\",\"2019-04-01T00:00:00\",\"2019-05-01T00:00:00\",\"2019-06-01T00:00:00\",\"2019-07-01T00:00:00\",\"2019-08-01T00:00:00\",\"2019-09-01T00:00:00\",\"2019-10-01T00:00:00\",\"2019-11-01T00:00:00\",\"2019-12-01T00:00:00\",\"2020-01-01T00:00:00\",\"2020-02-01T00:00:00\",\"2020-03-01T00:00:00\",\"2020-04-01T00:00:00\",\"2020-05-01T00:00:00\",\"2020-06-01T00:00:00\",\"2020-07-01T00:00:00\",\"2020-08-01T00:00:00\",\"2020-09-01T00:00:00\"],\"y\":[45.35216629298179,42.57053040965954,46.33919168018845,41.048517967449634,40.812178847260704,41.46122206958646,42.1347236108693,41.079397266860234,41.59219988543184,44.66832831235738,51.68876983561499,66.01485305622198,54.209117463205686,51.62165468487225,55.54277607322556,51.30264569779557,48.841257089959875,49.09164150220161,50.629373894842615,49.65149014651257,51.132571475134085,54.749325198350206,60.49655074765653,72.71176011073256,63.02171650541771,59.71950480026691,62.86218453189578,55.202160709918324,59.32214260113314,60.96853069019604,58.91258279344326,58.09465508261837,55.998073902267734,58.85445734588119,67.03943650557808,85.48381352097515,69.11872536302279,66.82739201941286,69.54106961386644,62.76949023849962,64.85852495503532,65.66395046633632,65.03818895568538,63.8438163093858,63.04268939759409,65.94925183859013,73.26722168432211,89.53857286000395,75.55566245818217,72.65597353435632,76.22765775828053,70.58924057837996,69.93380631263011,70.24762049178206,70.95624017817462,69.67660849972042,69.68531682926994,73.17029476428787,79.66073601195205,93.56174230456124,81.86842330974157,78.66309333961931,82.61299567517608,78.27692440219495,75.44902280696877,75.38271639753091,76.76891571200106,75.59199067028433,76.7977295992258,80.4069892602727,85.90284685381052,97.62096113552568,88.40577474889626,84.65433774922639,87.51703269510888,79.61361080109747,83.64582032135493,85.26594076560332,83.2680292418543,82.65097531730017,80.4788953108684,83.29975143458444,91.47027766663008,109.80609065128334,93.84336595466377,91.17854786676308,94.23390332446634,87.32379649866859,89.46043786179841,90.3254305810574,89.73257867431447,88.77360534192988,88.01911790437623,90.96166098939779,98.3002488155998,114.42671368624745,100.33027893139855,97.60924507242787,101.061758981482,95.64863732134317,95.46882880535992,95.54839041583593,95.85244071247988,94.78776205793764,95.1331922462421,98.42841371889153,105.2349944648359,119.05678595908512,107.548332664976,104.16315043169583,108.3858730633404,103.97746434596603,101.23973557428002,101.05691143413944,102.61701832954365,101.43010586356137,102.57501559208434,106.51024399863856,112.02083372529077,123.91190065652127,114.53761899506456,110.96857608098179,113.96926106989181,105.92341968015567,110.37554113610338,111.73881544625534,109.91851027976031,109.32291905863664,107.54315127212917],\"type\":\"scatter\"}],                        {\"height\":600,\"showlegend\":false,\"width\":900,\"xaxis\":{\"rangeselector\":{\"buttons\":[{\"count\":7,\"label\":\"1w\",\"step\":\"day\",\"stepmode\":\"backward\"},{\"count\":1,\"label\":\"1m\",\"step\":\"month\",\"stepmode\":\"backward\"},{\"count\":6,\"label\":\"6m\",\"step\":\"month\",\"stepmode\":\"backward\"},{\"count\":1,\"label\":\"1y\",\"step\":\"year\",\"stepmode\":\"backward\"},{\"step\":\"all\"}]},\"rangeslider\":{\"visible\":true},\"title\":{\"text\":\"ds\"},\"type\":\"date\"},\"yaxis\":{\"title\":{\"text\":\"y\"}},\"template\":{\"data\":{\"histogram2dcontour\":[{\"type\":\"histogram2dcontour\",\"colorbar\":{\"outlinewidth\":0,\"ticks\":\"\"},\"colorscale\":[[0.0,\"#0d0887\"],[0.1111111111111111,\"#46039f\"],[0.2222222222222222,\"#7201a8\"],[0.3333333333333333,\"#9c179e\"],[0.4444444444444444,\"#bd3786\"],[0.5555555555555556,\"#d8576b\"],[0.6666666666666666,\"#ed7953\"],[0.7777777777777778,\"#fb9f3a\"],[0.8888888888888888,\"#fdca26\"],[1.0,\"#f0f921\"]]}],\"choropleth\":[{\"type\":\"choropleth\",\"colorbar\":{\"outlinewidth\":0,\"ticks\":\"\"}}],\"histogram2d\":[{\"type\":\"histogram2d\",\"colorbar\":{\"outlinewidth\":0,\"ticks\":\"\"},\"colorscale\":[[0.0,\"#0d0887\"],[0.1111111111111111,\"#46039f\"],[0.2222222222222222,\"#7201a8\"],[0.3333333333333333,\"#9c179e\"],[0.4444444444444444,\"#bd3786\"],[0.5555555555555556,\"#d8576b\"],[0.6666666666666666,\"#ed7953\"],[0.7777777777777778,\"#fb9f3a\"],[0.8888888888888888,\"#fdca26\"],[1.0,\"#f0f921\"]]}],\"heatmap\":[{\"type\":\"heatmap\",\"colorbar\":{\"outlinewidth\":0,\"ticks\":\"\"},\"colorscale\":[[0.0,\"#0d0887\"],[0.1111111111111111,\"#46039f\"],[0.2222222222222222,\"#7201a8\"],[0.3333333333333333,\"#9c179e\"],[0.4444444444444444,\"#bd3786\"],[0.5555555555555556,\"#d8576b\"],[0.6666666666666666,\"#ed7953\"],[0.7777777777777778,\"#fb9f3a\"],[0.8888888888888888,\"#fdca26\"],[1.0,\"#f0f921\"]]}],\"heatmapgl\":[{\"type\":\"heatmapgl\",\"colorbar\":{\"outlinewidth\":0,\"ticks\":\"\"},\"colorscale\":[[0.0,\"#0d0887\"],[0.1111111111111111,\"#46039f\"],[0.2222222222222222,\"#7201a8\"],[0.3333333333333333,\"#9c179e\"],[0.4444444444444444,\"#bd3786\"],[0.5555555555555556,\"#d8576b\"],[0.6666666666666666,\"#ed7953\"],[0.7777777777777778,\"#fb9f3a\"],[0.8888888888888888,\"#fdca26\"],[1.0,\"#f0f921\"]]}],\"contourcarpet\":[{\"type\":\"contourcarpet\",\"colorbar\":{\"outlinewidth\":0,\"ticks\":\"\"}}],\"contour\":[{\"type\":\"contour\",\"colorbar\":{\"outlinewidth\":0,\"ticks\":\"\"},\"colorscale\":[[0.0,\"#0d0887\"],[0.1111111111111111,\"#46039f\"],[0.2222222222222222,\"#7201a8\"],[0.3333333333333333,\"#9c179e\"],[0.4444444444444444,\"#bd3786\"],[0.5555555555555556,\"#d8576b\"],[0.6666666666666666,\"#ed7953\"],[0.7777777777777778,\"#fb9f3a\"],[0.8888888888888888,\"#fdca26\"],[1.0,\"#f0f921\"]]}],\"surface\":[{\"type\":\"surface\",\"colorbar\":{\"outlinewidth\":0,\"ticks\":\"\"},\"colorscale\":[[0.0,\"#0d0887\"],[0.1111111111111111,\"#46039f\"],[0.2222222222222222,\"#7201a8\"],[0.3333333333333333,\"#9c179e\"],[0.4444444444444444,\"#bd3786\"],[0.5555555555555556,\"#d8576b\"],[0.6666666666666666,\"#ed7953\"],[0.7777777777777778,\"#fb9f3a\"],[0.8888888888888888,\"#fdca26\"],[1.0,\"#f0f921\"]]}],\"mesh3d\":[{\"type\":\"mesh3d\",\"colorbar\":{\"outlinewidth\":0,\"ticks\":\"\"}}],\"scatter\":[{\"fillpattern\":{\"fillmode\":\"overlay\",\"size\":10,\"solidity\":0.2},\"type\":\"scatter\"}],\"parcoords\":[{\"type\":\"parcoords\",\"line\":{\"colorbar\":{\"outlinewidth\":0,\"ticks\":\"\"}}}],\"scatterpolargl\":[{\"type\":\"scatterpolargl\",\"marker\":{\"colorbar\":{\"outlinewidth\":0,\"ticks\":\"\"}}}],\"bar\":[{\"error_x\":{\"color\":\"#2a3f5f\"},\"error_y\":{\"color\":\"#2a3f5f\"},\"marker\":{\"line\":{\"color\":\"#E5ECF6\",\"width\":0.5},\"pattern\":{\"fillmode\":\"overlay\",\"size\":10,\"solidity\":0.2}},\"type\":\"bar\"}],\"scattergeo\":[{\"type\":\"scattergeo\",\"marker\":{\"colorbar\":{\"outlinewidth\":0,\"ticks\":\"\"}}}],\"scatterpolar\":[{\"type\":\"scatterpolar\",\"marker\":{\"colorbar\":{\"outlinewidth\":0,\"ticks\":\"\"}}}],\"histogram\":[{\"marker\":{\"pattern\":{\"fillmode\":\"overlay\",\"size\":10,\"solidity\":0.2}},\"type\":\"histogram\"}],\"scattergl\":[{\"type\":\"scattergl\",\"marker\":{\"colorbar\":{\"outlinewidth\":0,\"ticks\":\"\"}}}],\"scatter3d\":[{\"type\":\"scatter3d\",\"line\":{\"colorbar\":{\"outlinewidth\":0,\"ticks\":\"\"}},\"marker\":{\"colorbar\":{\"outlinewidth\":0,\"ticks\":\"\"}}}],\"scattermapbox\":[{\"type\":\"scattermapbox\",\"marker\":{\"colorbar\":{\"outlinewidth\":0,\"ticks\":\"\"}}}],\"scatterternary\":[{\"type\":\"scatterternary\",\"marker\":{\"colorbar\":{\"outlinewidth\":0,\"ticks\":\"\"}}}],\"scattercarpet\":[{\"type\":\"scattercarpet\",\"marker\":{\"colorbar\":{\"outlinewidth\":0,\"ticks\":\"\"}}}],\"carpet\":[{\"aaxis\":{\"endlinecolor\":\"#2a3f5f\",\"gridcolor\":\"white\",\"linecolor\":\"white\",\"minorgridcolor\":\"white\",\"startlinecolor\":\"#2a3f5f\"},\"baxis\":{\"endlinecolor\":\"#2a3f5f\",\"gridcolor\":\"white\",\"linecolor\":\"white\",\"minorgridcolor\":\"white\",\"startlinecolor\":\"#2a3f5f\"},\"type\":\"carpet\"}],\"table\":[{\"cells\":{\"fill\":{\"color\":\"#EBF0F8\"},\"line\":{\"color\":\"white\"}},\"header\":{\"fill\":{\"color\":\"#C8D4E3\"},\"line\":{\"color\":\"white\"}},\"type\":\"table\"}],\"barpolar\":[{\"marker\":{\"line\":{\"color\":\"#E5ECF6\",\"width\":0.5},\"pattern\":{\"fillmode\":\"overlay\",\"size\":10,\"solidity\":0.2}},\"type\":\"barpolar\"}],\"pie\":[{\"automargin\":true,\"type\":\"pie\"}]},\"layout\":{\"autotypenumbers\":\"strict\",\"colorway\":[\"#636efa\",\"#EF553B\",\"#00cc96\",\"#ab63fa\",\"#FFA15A\",\"#19d3f3\",\"#FF6692\",\"#B6E880\",\"#FF97FF\",\"#FECB52\"],\"font\":{\"color\":\"#2a3f5f\"},\"hovermode\":\"closest\",\"hoverlabel\":{\"align\":\"left\"},\"paper_bgcolor\":\"white\",\"plot_bgcolor\":\"#E5ECF6\",\"polar\":{\"bgcolor\":\"#E5ECF6\",\"angularaxis\":{\"gridcolor\":\"white\",\"linecolor\":\"white\",\"ticks\":\"\"},\"radialaxis\":{\"gridcolor\":\"white\",\"linecolor\":\"white\",\"ticks\":\"\"}},\"ternary\":{\"bgcolor\":\"#E5ECF6\",\"aaxis\":{\"gridcolor\":\"white\",\"linecolor\":\"white\",\"ticks\":\"\"},\"baxis\":{\"gridcolor\":\"white\",\"linecolor\":\"white\",\"ticks\":\"\"},\"caxis\":{\"gridcolor\":\"white\",\"linecolor\":\"white\",\"ticks\":\"\"}},\"coloraxis\":{\"colorbar\":{\"outlinewidth\":0,\"ticks\":\"\"}},\"colorscale\":{\"sequential\":[[0.0,\"#0d0887\"],[0.1111111111111111,\"#46039f\"],[0.2222222222222222,\"#7201a8\"],[0.3333333333333333,\"#9c179e\"],[0.4444444444444444,\"#bd3786\"],[0.5555555555555556,\"#d8576b\"],[0.6666666666666666,\"#ed7953\"],[0.7777777777777778,\"#fb9f3a\"],[0.8888888888888888,\"#fdca26\"],[1.0,\"#f0f921\"]],\"sequentialminus\":[[0.0,\"#0d0887\"],[0.1111111111111111,\"#46039f\"],[0.2222222222222222,\"#7201a8\"],[0.3333333333333333,\"#9c179e\"],[0.4444444444444444,\"#bd3786\"],[0.5555555555555556,\"#d8576b\"],[0.6666666666666666,\"#ed7953\"],[0.7777777777777778,\"#fb9f3a\"],[0.8888888888888888,\"#fdca26\"],[1.0,\"#f0f921\"]],\"diverging\":[[0,\"#8e0152\"],[0.1,\"#c51b7d\"],[0.2,\"#de77ae\"],[0.3,\"#f1b6da\"],[0.4,\"#fde0ef\"],[0.5,\"#f7f7f7\"],[0.6,\"#e6f5d0\"],[0.7,\"#b8e186\"],[0.8,\"#7fbc41\"],[0.9,\"#4d9221\"],[1,\"#276419\"]]},\"xaxis\":{\"gridcolor\":\"white\",\"linecolor\":\"white\",\"ticks\":\"\",\"title\":{\"standoff\":15},\"zerolinecolor\":\"white\",\"automargin\":true,\"zerolinewidth\":2},\"yaxis\":{\"gridcolor\":\"white\",\"linecolor\":\"white\",\"ticks\":\"\",\"title\":{\"standoff\":15},\"zerolinecolor\":\"white\",\"automargin\":true,\"zerolinewidth\":2},\"scene\":{\"xaxis\":{\"backgroundcolor\":\"#E5ECF6\",\"gridcolor\":\"white\",\"linecolor\":\"white\",\"showbackground\":true,\"ticks\":\"\",\"zerolinecolor\":\"white\",\"gridwidth\":2},\"yaxis\":{\"backgroundcolor\":\"#E5ECF6\",\"gridcolor\":\"white\",\"linecolor\":\"white\",\"showbackground\":true,\"ticks\":\"\",\"zerolinecolor\":\"white\",\"gridwidth\":2},\"zaxis\":{\"backgroundcolor\":\"#E5ECF6\",\"gridcolor\":\"white\",\"linecolor\":\"white\",\"showbackground\":true,\"ticks\":\"\",\"zerolinecolor\":\"white\",\"gridwidth\":2}},\"shapedefaults\":{\"line\":{\"color\":\"#2a3f5f\"}},\"annotationdefaults\":{\"arrowcolor\":\"#2a3f5f\",\"arrowhead\":0,\"arrowwidth\":1},\"geo\":{\"bgcolor\":\"white\",\"landcolor\":\"#E5ECF6\",\"subunitcolor\":\"white\",\"showland\":true,\"showlakes\":true,\"lakecolor\":\"white\"},\"title\":{\"x\":0.05},\"mapbox\":{\"style\":\"light\"}}}},                        {\"responsive\": true}                    ).then(function(){\n",
       "                            \n",
       "var gd = document.getElementById('e8462287-9f9f-48bf-b719-927610059171');\n",
       "var x = new MutationObserver(function (mutations, observer) {{\n",
       "        var display = window.getComputedStyle(gd).display;\n",
       "        if (!display || display === 'none') {{\n",
       "            console.log([gd, 'removed!']);\n",
       "            Plotly.purge(gd);\n",
       "            observer.disconnect();\n",
       "        }}\n",
       "}});\n",
       "\n",
       "// Listen for the removal of the full notebook cells\n",
       "var notebookContainer = gd.closest('#notebook-container');\n",
       "if (notebookContainer) {{\n",
       "    x.observe(notebookContainer, {childList: true});\n",
       "}}\n",
       "\n",
       "// Listen for the clearing of the current output cell\n",
       "var outputEl = gd.closest('.output');\n",
       "if (outputEl) {{\n",
       "    x.observe(outputEl, {childList: true});\n",
       "}}\n",
       "\n",
       "                        })                };                });            </script>        </div>"
      ]
     },
     "metadata": {},
     "output_type": "display_data"
    }
   ],
   "source": [
    "plot_plotly(m ,forecast)"
   ]
  },
  {
   "cell_type": "code",
   "execution_count": 49,
   "id": "cc1f2b1d",
   "metadata": {},
   "outputs": [
    {
     "data": {
      "application/vnd.plotly.v1+json": {
       "config": {
        "plotlyServerURL": "https://plot.ly"
       },
       "data": [
        {
         "line": {
          "color": "#0072B2",
          "width": 2
         },
         "mode": "lines",
         "name": "trend",
         "type": "scatter",
         "x": [
          "2010-01-01T00:00:00",
          "2010-02-01T00:00:00",
          "2010-03-01T00:00:00",
          "2010-04-01T00:00:00",
          "2010-05-01T00:00:00",
          "2010-06-01T00:00:00",
          "2010-07-01T00:00:00",
          "2010-08-01T00:00:00",
          "2010-09-01T00:00:00",
          "2010-10-01T00:00:00",
          "2010-11-01T00:00:00",
          "2010-12-01T00:00:00",
          "2011-01-01T00:00:00",
          "2011-02-01T00:00:00",
          "2011-03-01T00:00:00",
          "2011-04-01T00:00:00",
          "2011-05-01T00:00:00",
          "2011-06-01T00:00:00",
          "2011-07-01T00:00:00",
          "2011-08-01T00:00:00",
          "2011-09-01T00:00:00",
          "2011-10-01T00:00:00",
          "2011-11-01T00:00:00",
          "2011-12-01T00:00:00",
          "2012-01-01T00:00:00",
          "2012-02-01T00:00:00",
          "2012-03-01T00:00:00",
          "2012-04-01T00:00:00",
          "2012-05-01T00:00:00",
          "2012-06-01T00:00:00",
          "2012-07-01T00:00:00",
          "2012-08-01T00:00:00",
          "2012-09-01T00:00:00",
          "2012-10-01T00:00:00",
          "2012-11-01T00:00:00",
          "2012-12-01T00:00:00",
          "2013-01-01T00:00:00",
          "2013-02-01T00:00:00",
          "2013-03-01T00:00:00",
          "2013-04-01T00:00:00",
          "2013-05-01T00:00:00",
          "2013-06-01T00:00:00",
          "2013-07-01T00:00:00",
          "2013-08-01T00:00:00",
          "2013-09-01T00:00:00",
          "2013-10-01T00:00:00",
          "2013-11-01T00:00:00",
          "2013-12-01T00:00:00",
          "2014-01-01T00:00:00",
          "2014-02-01T00:00:00",
          "2014-03-01T00:00:00",
          "2014-04-01T00:00:00",
          "2014-05-01T00:00:00",
          "2014-06-01T00:00:00",
          "2014-07-01T00:00:00",
          "2014-08-01T00:00:00",
          "2014-09-01T00:00:00",
          "2014-10-01T00:00:00",
          "2014-11-01T00:00:00",
          "2014-12-01T00:00:00",
          "2015-01-01T00:00:00",
          "2015-02-01T00:00:00",
          "2015-03-01T00:00:00",
          "2015-04-01T00:00:00",
          "2015-05-01T00:00:00",
          "2015-06-01T00:00:00",
          "2015-07-01T00:00:00",
          "2015-08-01T00:00:00",
          "2015-09-01T00:00:00",
          "2015-10-01T00:00:00",
          "2015-11-01T00:00:00",
          "2015-12-01T00:00:00",
          "2016-01-01T00:00:00",
          "2016-02-01T00:00:00",
          "2016-03-01T00:00:00",
          "2016-04-01T00:00:00",
          "2016-05-01T00:00:00",
          "2016-06-01T00:00:00",
          "2016-07-01T00:00:00",
          "2016-08-01T00:00:00",
          "2016-09-01T00:00:00",
          "2016-10-01T00:00:00",
          "2016-11-01T00:00:00",
          "2016-12-01T00:00:00",
          "2017-01-01T00:00:00",
          "2017-02-01T00:00:00",
          "2017-03-01T00:00:00",
          "2017-04-01T00:00:00",
          "2017-05-01T00:00:00",
          "2017-06-01T00:00:00",
          "2017-07-01T00:00:00",
          "2017-08-01T00:00:00",
          "2017-09-01T00:00:00",
          "2017-10-01T00:00:00",
          "2017-11-01T00:00:00",
          "2017-12-01T00:00:00",
          "2018-01-01T00:00:00",
          "2018-02-01T00:00:00",
          "2018-03-01T00:00:00",
          "2018-04-01T00:00:00",
          "2018-05-01T00:00:00",
          "2018-06-01T00:00:00",
          "2018-07-01T00:00:00",
          "2018-08-01T00:00:00",
          "2018-09-01T00:00:00",
          "2018-10-01T00:00:00",
          "2018-11-01T00:00:00",
          "2018-12-01T00:00:00",
          "2019-01-01T00:00:00",
          "2019-02-01T00:00:00",
          "2019-03-01T00:00:00",
          "2019-04-01T00:00:00",
          "2019-05-01T00:00:00",
          "2019-06-01T00:00:00",
          "2019-07-01T00:00:00",
          "2019-08-01T00:00:00",
          "2019-09-01T00:00:00",
          "2019-10-01T00:00:00",
          "2019-11-01T00:00:00",
          "2019-12-01T00:00:00",
          "2020-01-01T00:00:00",
          "2020-02-01T00:00:00",
          "2020-03-01T00:00:00",
          "2020-04-01T00:00:00",
          "2020-05-01T00:00:00",
          "2020-06-01T00:00:00",
          "2020-07-01T00:00:00",
          "2020-08-01T00:00:00",
          "2020-09-01T00:00:00"
         ],
         "xaxis": "x",
         "y": [
          38.52099,
          39.26671328820116,
          39.9402698065764,
          40.685993094714995,
          41.40766079313476,
          42.15338408150185,
          42.87505178024371,
          43.62077506872583,
          44.366498357207945,
          45.088166058501905,
          45.833889349839005,
          46.5555593192026,
          47.30128495777171,
          48.047010596340826,
          48.72056923743236,
          49.46629487585016,
          50.187964848512536,
          50.93368992853099,
          51.655359360806905,
          52.400814744423045,
          53.14522772935446,
          53.8656273921913,
          54.608756914163344,
          55.29033577332514,
          55.99463392779233,
          56.69752353160189,
          57.355065419036634,
          58.0563483480106,
          58.561070059396776,
          59.08261582782915,
          59.586151316584754,
          60.1053879022125,
          60.62462448784024,
          61.125981370793134,
          61.644050149844475,
          62.14448984401594,
          62.66082958217753,
          63.17716932033912,
          63.64350467910289,
          64.15980441415778,
          64.6594493190496,
          65.17574905367493,
          65.67539395815106,
          66.19169369277638,
          66.70799342740172,
          67.20763833187783,
          67.72393806650315,
          68.2235829709793,
          68.73988270560461,
          69.25618244022994,
          69.72251768440765,
          70.23881741903298,
          70.73846232350911,
          71.25476205813443,
          71.75440696261056,
          72.27070669723588,
          72.78700643186122,
          73.28665133633734,
          73.80295107096266,
          74.30259597543879,
          74.81889571006413,
          75.33519544468945,
          75.80153068886716,
          76.3178304234925,
          76.81747532796861,
          77.33377506259393,
          77.83341996707006,
          78.34971970169539,
          78.86601943632071,
          79.36566434079684,
          79.88196407542218,
          80.38160897989829,
          80.89790871452362,
          81.41420844914894,
          81.89719852347586,
          82.4134982581012,
          82.91314316257733,
          83.42944289720265,
          83.92908780167878,
          84.44538753630411,
          84.96168727092943,
          85.46133217540554,
          85.97763191003088,
          86.477276814507,
          86.99357654913231,
          87.50987628375766,
          87.97621152793536,
          88.4925112625607,
          88.99215616703682,
          89.50845590166215,
          90.00810080613827,
          90.5244005407636,
          91.04070027538893,
          91.54034517986507,
          92.05664491449038,
          92.5562898189665,
          93.07258955359185,
          93.58888928821715,
          94.05522453239486,
          94.57152426702021,
          95.07116917149634,
          95.58746890612166,
          96.08711381059777,
          96.60341354522312,
          97.11971327984843,
          97.61935818432455,
          98.1356579189499,
          98.63530282342602,
          99.15160255805134,
          99.66790229267667,
          100.13423753685439,
          100.6505372714797,
          101.15018217595582,
          101.66648191058117,
          102.1661268150573,
          102.6824265496826,
          103.19872628430795,
          103.69837118878407,
          104.21467092340939,
          104.71431582788551,
          105.23061556251083,
          105.74691529713616,
          106.22990537146309,
          106.74620510608842,
          107.24585001056454,
          107.76214974518986,
          108.261794649666,
          108.77809438429132,
          109.29439411891664
         ],
         "yaxis": "y"
        },
        {
         "line": {
          "color": "rgba(0, 114, 178, 0.2)",
          "width": 0
         },
         "mode": "lines",
         "name": "trend_upper",
         "type": "scatter",
         "x": [
          "2010-01-01T00:00:00",
          "2010-02-01T00:00:00",
          "2010-03-01T00:00:00",
          "2010-04-01T00:00:00",
          "2010-05-01T00:00:00",
          "2010-06-01T00:00:00",
          "2010-07-01T00:00:00",
          "2010-08-01T00:00:00",
          "2010-09-01T00:00:00",
          "2010-10-01T00:00:00",
          "2010-11-01T00:00:00",
          "2010-12-01T00:00:00",
          "2011-01-01T00:00:00",
          "2011-02-01T00:00:00",
          "2011-03-01T00:00:00",
          "2011-04-01T00:00:00",
          "2011-05-01T00:00:00",
          "2011-06-01T00:00:00",
          "2011-07-01T00:00:00",
          "2011-08-01T00:00:00",
          "2011-09-01T00:00:00",
          "2011-10-01T00:00:00",
          "2011-11-01T00:00:00",
          "2011-12-01T00:00:00",
          "2012-01-01T00:00:00",
          "2012-02-01T00:00:00",
          "2012-03-01T00:00:00",
          "2012-04-01T00:00:00",
          "2012-05-01T00:00:00",
          "2012-06-01T00:00:00",
          "2012-07-01T00:00:00",
          "2012-08-01T00:00:00",
          "2012-09-01T00:00:00",
          "2012-10-01T00:00:00",
          "2012-11-01T00:00:00",
          "2012-12-01T00:00:00",
          "2013-01-01T00:00:00",
          "2013-02-01T00:00:00",
          "2013-03-01T00:00:00",
          "2013-04-01T00:00:00",
          "2013-05-01T00:00:00",
          "2013-06-01T00:00:00",
          "2013-07-01T00:00:00",
          "2013-08-01T00:00:00",
          "2013-09-01T00:00:00",
          "2013-10-01T00:00:00",
          "2013-11-01T00:00:00",
          "2013-12-01T00:00:00",
          "2014-01-01T00:00:00",
          "2014-02-01T00:00:00",
          "2014-03-01T00:00:00",
          "2014-04-01T00:00:00",
          "2014-05-01T00:00:00",
          "2014-06-01T00:00:00",
          "2014-07-01T00:00:00",
          "2014-08-01T00:00:00",
          "2014-09-01T00:00:00",
          "2014-10-01T00:00:00",
          "2014-11-01T00:00:00",
          "2014-12-01T00:00:00",
          "2015-01-01T00:00:00",
          "2015-02-01T00:00:00",
          "2015-03-01T00:00:00",
          "2015-04-01T00:00:00",
          "2015-05-01T00:00:00",
          "2015-06-01T00:00:00",
          "2015-07-01T00:00:00",
          "2015-08-01T00:00:00",
          "2015-09-01T00:00:00",
          "2015-10-01T00:00:00",
          "2015-11-01T00:00:00",
          "2015-12-01T00:00:00",
          "2016-01-01T00:00:00",
          "2016-02-01T00:00:00",
          "2016-03-01T00:00:00",
          "2016-04-01T00:00:00",
          "2016-05-01T00:00:00",
          "2016-06-01T00:00:00",
          "2016-07-01T00:00:00",
          "2016-08-01T00:00:00",
          "2016-09-01T00:00:00",
          "2016-10-01T00:00:00",
          "2016-11-01T00:00:00",
          "2016-12-01T00:00:00",
          "2017-01-01T00:00:00",
          "2017-02-01T00:00:00",
          "2017-03-01T00:00:00",
          "2017-04-01T00:00:00",
          "2017-05-01T00:00:00",
          "2017-06-01T00:00:00",
          "2017-07-01T00:00:00",
          "2017-08-01T00:00:00",
          "2017-09-01T00:00:00",
          "2017-10-01T00:00:00",
          "2017-11-01T00:00:00",
          "2017-12-01T00:00:00",
          "2018-01-01T00:00:00",
          "2018-02-01T00:00:00",
          "2018-03-01T00:00:00",
          "2018-04-01T00:00:00",
          "2018-05-01T00:00:00",
          "2018-06-01T00:00:00",
          "2018-07-01T00:00:00",
          "2018-08-01T00:00:00",
          "2018-09-01T00:00:00",
          "2018-10-01T00:00:00",
          "2018-11-01T00:00:00",
          "2018-12-01T00:00:00",
          "2019-01-01T00:00:00",
          "2019-02-01T00:00:00",
          "2019-03-01T00:00:00",
          "2019-04-01T00:00:00",
          "2019-05-01T00:00:00",
          "2019-06-01T00:00:00",
          "2019-07-01T00:00:00",
          "2019-08-01T00:00:00",
          "2019-09-01T00:00:00",
          "2019-10-01T00:00:00",
          "2019-11-01T00:00:00",
          "2019-12-01T00:00:00",
          "2020-01-01T00:00:00",
          "2020-02-01T00:00:00",
          "2020-03-01T00:00:00",
          "2020-04-01T00:00:00",
          "2020-05-01T00:00:00",
          "2020-06-01T00:00:00",
          "2020-07-01T00:00:00",
          "2020-08-01T00:00:00",
          "2020-09-01T00:00:00"
         ],
         "xaxis": "x",
         "y": [
          38.52099,
          39.26671328820116,
          39.9402698065764,
          40.685993094714995,
          41.40766079313476,
          42.15338408150185,
          42.87505178024371,
          43.62077506872583,
          44.366498357207945,
          45.088166058501905,
          45.833889349839005,
          46.5555593192026,
          47.30128495777171,
          48.047010596340826,
          48.72056923743236,
          49.46629487585016,
          50.187964848512536,
          50.93368992853099,
          51.655359360806905,
          52.400814744423045,
          53.14522772935446,
          53.8656273921913,
          54.608756914163344,
          55.29033577332514,
          55.99463392779233,
          56.69752353160189,
          57.355065419036634,
          58.0563483480106,
          58.561070059396776,
          59.08261582782915,
          59.586151316584754,
          60.1053879022125,
          60.62462448784024,
          61.125981370793134,
          61.644050149844475,
          62.14448984401594,
          62.66082958217753,
          63.17716932033912,
          63.64350467910289,
          64.15980441415778,
          64.6594493190496,
          65.17574905367493,
          65.67539395815106,
          66.19169369277638,
          66.70799342740172,
          67.20763833187783,
          67.72393806650315,
          68.2235829709793,
          68.73988270560461,
          69.25618244022994,
          69.72251768440765,
          70.23881741903298,
          70.74312443287266,
          71.27068432226825,
          71.78385274855066,
          72.31675721708824,
          72.85320958330755,
          73.37600168512235,
          73.91665931313949,
          74.4416287195343,
          74.98410423695763,
          75.53098631369049,
          76.04191135589903,
          76.59690109590699,
          77.12994066922121,
          77.69535852343085,
          78.23725300556433,
          78.79124804270741,
          79.3436644999162,
          79.88675435296088,
          80.44255450984801,
          80.98068952367113,
          81.5341055055888,
          82.09829126691699,
          82.61922549803174,
          83.18726379116531,
          83.73649024831215,
          84.31058077735385,
          84.8577680120875,
          85.43841125605688,
          85.98778804038406,
          86.52302368170866,
          87.10287683070969,
          87.6610915430699,
          88.24077157139546,
          88.82577378437962,
          89.349758142067,
          89.90426649552087,
          90.46462825908246,
          91.0416398771754,
          91.60780272063387,
          92.18060822298627,
          92.77862587137415,
          93.36495152094048,
          93.9240043903793,
          94.49474401728543,
          95.11114117647361,
          95.68824349189009,
          96.22613113514478,
          96.84297406942639,
          97.42213782444571,
          97.99910563294443,
          98.54880346621071,
          99.14869091983692,
          99.71016040719184,
          100.26392919416675,
          100.83096294137705,
          101.39277690589617,
          102.00157003626359,
          102.60768369702572,
          103.17571655857755,
          103.77319357606059,
          104.36091226872392,
          104.97193463729248,
          105.52487686945061,
          106.10257350956547,
          106.70435451178004,
          107.30256868637761,
          107.91608849049723,
          108.52607968262161,
          109.13316515254174,
          109.7406017896991,
          110.3146496133896,
          110.9063782908179,
          111.495493520694,
          112.08396385031013,
          112.66774928744188,
          113.26659588701082,
          113.84866705257164
         ],
         "yaxis": "y"
        },
        {
         "fill": "tonexty",
         "fillcolor": "rgba(0, 114, 178, 0.2)",
         "line": {
          "color": "rgba(0, 114, 178, 0.2)",
          "width": 0
         },
         "mode": "lines",
         "name": "trend_lower",
         "type": "scatter",
         "x": [
          "2010-01-01T00:00:00",
          "2010-02-01T00:00:00",
          "2010-03-01T00:00:00",
          "2010-04-01T00:00:00",
          "2010-05-01T00:00:00",
          "2010-06-01T00:00:00",
          "2010-07-01T00:00:00",
          "2010-08-01T00:00:00",
          "2010-09-01T00:00:00",
          "2010-10-01T00:00:00",
          "2010-11-01T00:00:00",
          "2010-12-01T00:00:00",
          "2011-01-01T00:00:00",
          "2011-02-01T00:00:00",
          "2011-03-01T00:00:00",
          "2011-04-01T00:00:00",
          "2011-05-01T00:00:00",
          "2011-06-01T00:00:00",
          "2011-07-01T00:00:00",
          "2011-08-01T00:00:00",
          "2011-09-01T00:00:00",
          "2011-10-01T00:00:00",
          "2011-11-01T00:00:00",
          "2011-12-01T00:00:00",
          "2012-01-01T00:00:00",
          "2012-02-01T00:00:00",
          "2012-03-01T00:00:00",
          "2012-04-01T00:00:00",
          "2012-05-01T00:00:00",
          "2012-06-01T00:00:00",
          "2012-07-01T00:00:00",
          "2012-08-01T00:00:00",
          "2012-09-01T00:00:00",
          "2012-10-01T00:00:00",
          "2012-11-01T00:00:00",
          "2012-12-01T00:00:00",
          "2013-01-01T00:00:00",
          "2013-02-01T00:00:00",
          "2013-03-01T00:00:00",
          "2013-04-01T00:00:00",
          "2013-05-01T00:00:00",
          "2013-06-01T00:00:00",
          "2013-07-01T00:00:00",
          "2013-08-01T00:00:00",
          "2013-09-01T00:00:00",
          "2013-10-01T00:00:00",
          "2013-11-01T00:00:00",
          "2013-12-01T00:00:00",
          "2014-01-01T00:00:00",
          "2014-02-01T00:00:00",
          "2014-03-01T00:00:00",
          "2014-04-01T00:00:00",
          "2014-05-01T00:00:00",
          "2014-06-01T00:00:00",
          "2014-07-01T00:00:00",
          "2014-08-01T00:00:00",
          "2014-09-01T00:00:00",
          "2014-10-01T00:00:00",
          "2014-11-01T00:00:00",
          "2014-12-01T00:00:00",
          "2015-01-01T00:00:00",
          "2015-02-01T00:00:00",
          "2015-03-01T00:00:00",
          "2015-04-01T00:00:00",
          "2015-05-01T00:00:00",
          "2015-06-01T00:00:00",
          "2015-07-01T00:00:00",
          "2015-08-01T00:00:00",
          "2015-09-01T00:00:00",
          "2015-10-01T00:00:00",
          "2015-11-01T00:00:00",
          "2015-12-01T00:00:00",
          "2016-01-01T00:00:00",
          "2016-02-01T00:00:00",
          "2016-03-01T00:00:00",
          "2016-04-01T00:00:00",
          "2016-05-01T00:00:00",
          "2016-06-01T00:00:00",
          "2016-07-01T00:00:00",
          "2016-08-01T00:00:00",
          "2016-09-01T00:00:00",
          "2016-10-01T00:00:00",
          "2016-11-01T00:00:00",
          "2016-12-01T00:00:00",
          "2017-01-01T00:00:00",
          "2017-02-01T00:00:00",
          "2017-03-01T00:00:00",
          "2017-04-01T00:00:00",
          "2017-05-01T00:00:00",
          "2017-06-01T00:00:00",
          "2017-07-01T00:00:00",
          "2017-08-01T00:00:00",
          "2017-09-01T00:00:00",
          "2017-10-01T00:00:00",
          "2017-11-01T00:00:00",
          "2017-12-01T00:00:00",
          "2018-01-01T00:00:00",
          "2018-02-01T00:00:00",
          "2018-03-01T00:00:00",
          "2018-04-01T00:00:00",
          "2018-05-01T00:00:00",
          "2018-06-01T00:00:00",
          "2018-07-01T00:00:00",
          "2018-08-01T00:00:00",
          "2018-09-01T00:00:00",
          "2018-10-01T00:00:00",
          "2018-11-01T00:00:00",
          "2018-12-01T00:00:00",
          "2019-01-01T00:00:00",
          "2019-02-01T00:00:00",
          "2019-03-01T00:00:00",
          "2019-04-01T00:00:00",
          "2019-05-01T00:00:00",
          "2019-06-01T00:00:00",
          "2019-07-01T00:00:00",
          "2019-08-01T00:00:00",
          "2019-09-01T00:00:00",
          "2019-10-01T00:00:00",
          "2019-11-01T00:00:00",
          "2019-12-01T00:00:00",
          "2020-01-01T00:00:00",
          "2020-02-01T00:00:00",
          "2020-03-01T00:00:00",
          "2020-04-01T00:00:00",
          "2020-05-01T00:00:00",
          "2020-06-01T00:00:00",
          "2020-07-01T00:00:00",
          "2020-08-01T00:00:00",
          "2020-09-01T00:00:00"
         ],
         "xaxis": "x",
         "y": [
          38.52099,
          39.26671328820116,
          39.9402698065764,
          40.685993094714995,
          41.40766079313476,
          42.15338408150185,
          42.87505178024371,
          43.62077506872583,
          44.366498357207945,
          45.088166058501905,
          45.833889349839005,
          46.5555593192026,
          47.30128495777171,
          48.047010596340826,
          48.72056923743236,
          49.46629487585016,
          50.187964848512536,
          50.93368992853099,
          51.655359360806905,
          52.400814744423045,
          53.14522772935446,
          53.8656273921913,
          54.608756914163344,
          55.29033577332514,
          55.99463392779233,
          56.69752353160189,
          57.355065419036634,
          58.0563483480106,
          58.561070059396776,
          59.08261582782915,
          59.586151316584754,
          60.1053879022125,
          60.62462448784024,
          61.125981370793134,
          61.644050149844475,
          62.14448984401594,
          62.66082958217753,
          63.17716932033912,
          63.64350467910289,
          64.15980441415778,
          64.6594493190496,
          65.17574905367493,
          65.67539395815106,
          66.19169369277638,
          66.70799342740172,
          67.20763833187783,
          67.72393806650315,
          68.2235829709793,
          68.73988270560461,
          69.25618244022994,
          69.72251768440765,
          70.23881741903298,
          70.73457987654258,
          71.24235831454676,
          71.72665095172584,
          72.22499002992176,
          72.72257058425882,
          73.2014734955194,
          73.69794879231621,
          74.16925193517798,
          74.65501320190747,
          75.14565666804673,
          75.58484421216532,
          76.07056592238685,
          76.53636523438374,
          77.02019464741608,
          77.47787523478797,
          77.96068482055567,
          78.43371852119554,
          78.89860109891531,
          79.37582844801348,
          79.84587822630724,
          80.32591803560946,
          80.80390404985381,
          81.23876383812342,
          81.69490984979117,
          82.15496064635573,
          82.63137135367099,
          83.0729737297698,
          83.54536496796614,
          84.01611492142506,
          84.47197709414264,
          84.93832345631101,
          85.39940452118971,
          85.85765508381625,
          86.32256895576029,
          86.73786112356689,
          87.19485034087344,
          87.65021227428714,
          88.1155593275988,
          88.56594707251205,
          89.03117236099841,
          89.48652862866852,
          89.92075232921287,
          90.37780200727495,
          90.80866410088237,
          91.25410160909534,
          91.71919592338408,
          92.14413381273188,
          92.61187657016518,
          93.0562875961685,
          93.51121937983615,
          93.9321504519074,
          94.37878214798053,
          94.83089598609901,
          95.26212749494387,
          95.68737488658681,
          96.12479462937517,
          96.56395481608321,
          97.04447724983841,
          97.43933180329829,
          97.88220906372523,
          98.31753057901979,
          98.76357880330987,
          99.20917362998034,
          99.64765652662747,
          100.09548962768055,
          100.52811924429487,
          100.9710559650525,
          101.42076433689782,
          101.84070347004257,
          102.27793271982014,
          102.690602106368,
          103.1252197423468,
          103.54986782253769,
          103.99065579598245,
          104.41740746994995,
          104.84541854462327,
          105.2786784433073
         ],
         "yaxis": "y"
        },
        {
         "line": {
          "color": "#0072B2",
          "width": 2
         },
         "mode": "lines",
         "name": "yearly",
         "type": "scatter",
         "x": [
          "2017-01-01T00:00:00",
          "2017-01-02T00:00:59.178082",
          "2017-01-03T00:01:58.356164",
          "2017-01-04T00:02:57.534246",
          "2017-01-05T00:03:56.712328",
          "2017-01-06T00:04:55.890411",
          "2017-01-07T00:05:55.068493",
          "2017-01-08T00:06:54.246575",
          "2017-01-09T00:07:53.424657",
          "2017-01-10T00:08:52.602739",
          "2017-01-11T00:09:51.780822",
          "2017-01-12T00:10:50.958904",
          "2017-01-13T00:11:50.136986",
          "2017-01-14T00:12:49.315068",
          "2017-01-15T00:13:48.493150",
          "2017-01-16T00:14:47.671232",
          "2017-01-17T00:15:46.849315",
          "2017-01-18T00:16:46.027397",
          "2017-01-19T00:17:45.205479",
          "2017-01-20T00:18:44.383561",
          "2017-01-21T00:19:43.561643",
          "2017-01-22T00:20:42.739726",
          "2017-01-23T00:21:41.917808",
          "2017-01-24T00:22:41.095890",
          "2017-01-25T00:23:40.273972",
          "2017-01-26T00:24:39.452054",
          "2017-01-27T00:25:38.630137",
          "2017-01-28T00:26:37.808219",
          "2017-01-29T00:27:36.986301",
          "2017-01-30T00:28:36.164383",
          "2017-01-31T00:29:35.342465",
          "2017-02-01T00:30:34.520547",
          "2017-02-02T00:31:33.698630",
          "2017-02-03T00:32:32.876712",
          "2017-02-04T00:33:32.054794",
          "2017-02-05T00:34:31.232876",
          "2017-02-06T00:35:30.410958",
          "2017-02-07T00:36:29.589041",
          "2017-02-08T00:37:28.767123",
          "2017-02-09T00:38:27.945205",
          "2017-02-10T00:39:27.123287",
          "2017-02-11T00:40:26.301369",
          "2017-02-12T00:41:25.479452",
          "2017-02-13T00:42:24.657534",
          "2017-02-14T00:43:23.835616",
          "2017-02-15T00:44:23.013698",
          "2017-02-16T00:45:22.191780",
          "2017-02-17T00:46:21.369862",
          "2017-02-18T00:47:20.547945",
          "2017-02-19T00:48:19.726027",
          "2017-02-20T00:49:18.904109",
          "2017-02-21T00:50:18.082191",
          "2017-02-22T00:51:17.260273",
          "2017-02-23T00:52:16.438356",
          "2017-02-24T00:53:15.616438",
          "2017-02-25T00:54:14.794520",
          "2017-02-26T00:55:13.972602",
          "2017-02-27T00:56:13.150684",
          "2017-02-28T00:57:12.328767",
          "2017-03-01T00:58:11.506849",
          "2017-03-02T00:59:10.684931",
          "2017-03-03T01:00:09.863013",
          "2017-03-04T01:01:09.041095",
          "2017-03-05T01:02:08.219177",
          "2017-03-06T01:03:07.397260",
          "2017-03-07T01:04:06.575342",
          "2017-03-08T01:05:05.753424",
          "2017-03-09T01:06:04.931506",
          "2017-03-10T01:07:04.109588",
          "2017-03-11T01:08:03.287671",
          "2017-03-12T01:09:02.465753",
          "2017-03-13T01:10:01.643835",
          "2017-03-14T01:11:00.821917",
          "2017-03-15T01:12:00",
          "2017-03-16T01:12:59.178082",
          "2017-03-17T01:13:58.356164",
          "2017-03-18T01:14:57.534246",
          "2017-03-19T01:15:56.712328",
          "2017-03-20T01:16:55.890411",
          "2017-03-21T01:17:55.068493",
          "2017-03-22T01:18:54.246575",
          "2017-03-23T01:19:53.424657",
          "2017-03-24T01:20:52.602739",
          "2017-03-25T01:21:51.780822",
          "2017-03-26T01:22:50.958904",
          "2017-03-27T01:23:50.136986",
          "2017-03-28T01:24:49.315068",
          "2017-03-29T01:25:48.493150",
          "2017-03-30T01:26:47.671232",
          "2017-03-31T01:27:46.849315",
          "2017-04-01T01:28:46.027397",
          "2017-04-02T01:29:45.205479",
          "2017-04-03T01:30:44.383561",
          "2017-04-04T01:31:43.561643",
          "2017-04-05T01:32:42.739726",
          "2017-04-06T01:33:41.917808",
          "2017-04-07T01:34:41.095890",
          "2017-04-08T01:35:40.273972",
          "2017-04-09T01:36:39.452054",
          "2017-04-10T01:37:38.630137",
          "2017-04-11T01:38:37.808219",
          "2017-04-12T01:39:36.986301",
          "2017-04-13T01:40:36.164383",
          "2017-04-14T01:41:35.342465",
          "2017-04-15T01:42:34.520547",
          "2017-04-16T01:43:33.698630",
          "2017-04-17T01:44:32.876712",
          "2017-04-18T01:45:32.054794",
          "2017-04-19T01:46:31.232876",
          "2017-04-20T01:47:30.410958",
          "2017-04-21T01:48:29.589041",
          "2017-04-22T01:49:28.767123",
          "2017-04-23T01:50:27.945205",
          "2017-04-24T01:51:27.123287",
          "2017-04-25T01:52:26.301369",
          "2017-04-26T01:53:25.479452",
          "2017-04-27T01:54:24.657534",
          "2017-04-28T01:55:23.835616",
          "2017-04-29T01:56:23.013698",
          "2017-04-30T01:57:22.191780",
          "2017-05-01T01:58:21.369862",
          "2017-05-02T01:59:20.547945",
          "2017-05-03T02:00:19.726027",
          "2017-05-04T02:01:18.904109",
          "2017-05-05T02:02:18.082191",
          "2017-05-06T02:03:17.260273",
          "2017-05-07T02:04:16.438356",
          "2017-05-08T02:05:15.616438",
          "2017-05-09T02:06:14.794520",
          "2017-05-10T02:07:13.972602",
          "2017-05-11T02:08:13.150684",
          "2017-05-12T02:09:12.328767",
          "2017-05-13T02:10:11.506849",
          "2017-05-14T02:11:10.684931",
          "2017-05-15T02:12:09.863013",
          "2017-05-16T02:13:09.041095",
          "2017-05-17T02:14:08.219177",
          "2017-05-18T02:15:07.397260",
          "2017-05-19T02:16:06.575342",
          "2017-05-20T02:17:05.753424",
          "2017-05-21T02:18:04.931506",
          "2017-05-22T02:19:04.109588",
          "2017-05-23T02:20:03.287671",
          "2017-05-24T02:21:02.465753",
          "2017-05-25T02:22:01.643835",
          "2017-05-26T02:23:00.821917",
          "2017-05-27T02:24:00",
          "2017-05-28T02:24:59.178082",
          "2017-05-29T02:25:58.356164",
          "2017-05-30T02:26:57.534246",
          "2017-05-31T02:27:56.712328",
          "2017-06-01T02:28:55.890411",
          "2017-06-02T02:29:55.068493",
          "2017-06-03T02:30:54.246575",
          "2017-06-04T02:31:53.424657",
          "2017-06-05T02:32:52.602739",
          "2017-06-06T02:33:51.780822",
          "2017-06-07T02:34:50.958904",
          "2017-06-08T02:35:50.136986",
          "2017-06-09T02:36:49.315068",
          "2017-06-10T02:37:48.493150",
          "2017-06-11T02:38:47.671232",
          "2017-06-12T02:39:46.849315",
          "2017-06-13T02:40:46.027397",
          "2017-06-14T02:41:45.205479",
          "2017-06-15T02:42:44.383561",
          "2017-06-16T02:43:43.561643",
          "2017-06-17T02:44:42.739726",
          "2017-06-18T02:45:41.917808",
          "2017-06-19T02:46:41.095890",
          "2017-06-20T02:47:40.273972",
          "2017-06-21T02:48:39.452054",
          "2017-06-22T02:49:38.630137",
          "2017-06-23T02:50:37.808219",
          "2017-06-24T02:51:36.986301",
          "2017-06-25T02:52:36.164383",
          "2017-06-26T02:53:35.342465",
          "2017-06-27T02:54:34.520547",
          "2017-06-28T02:55:33.698630",
          "2017-06-29T02:56:32.876712",
          "2017-06-30T02:57:32.054794",
          "2017-07-01T02:58:31.232876",
          "2017-07-02T02:59:30.410958",
          "2017-07-03T03:00:29.589041",
          "2017-07-04T03:01:28.767123",
          "2017-07-05T03:02:27.945205",
          "2017-07-06T03:03:27.123287",
          "2017-07-07T03:04:26.301369",
          "2017-07-08T03:05:25.479452",
          "2017-07-09T03:06:24.657534",
          "2017-07-10T03:07:23.835616",
          "2017-07-11T03:08:23.013698",
          "2017-07-12T03:09:22.191780",
          "2017-07-13T03:10:21.369862",
          "2017-07-14T03:11:20.547945",
          "2017-07-15T03:12:19.726027",
          "2017-07-16T03:13:18.904109",
          "2017-07-17T03:14:18.082191",
          "2017-07-18T03:15:17.260273",
          "2017-07-19T03:16:16.438356",
          "2017-07-20T03:17:15.616438",
          "2017-07-21T03:18:14.794520",
          "2017-07-22T03:19:13.972602",
          "2017-07-23T03:20:13.150684",
          "2017-07-24T03:21:12.328767",
          "2017-07-25T03:22:11.506849",
          "2017-07-26T03:23:10.684931",
          "2017-07-27T03:24:09.863013",
          "2017-07-28T03:25:09.041095",
          "2017-07-29T03:26:08.219177",
          "2017-07-30T03:27:07.397260",
          "2017-07-31T03:28:06.575342",
          "2017-08-01T03:29:05.753424",
          "2017-08-02T03:30:04.931506",
          "2017-08-03T03:31:04.109588",
          "2017-08-04T03:32:03.287671",
          "2017-08-05T03:33:02.465753",
          "2017-08-06T03:34:01.643835",
          "2017-08-07T03:35:00.821917",
          "2017-08-08T03:36:00",
          "2017-08-09T03:36:59.178082",
          "2017-08-10T03:37:58.356164",
          "2017-08-11T03:38:57.534246",
          "2017-08-12T03:39:56.712328",
          "2017-08-13T03:40:55.890411",
          "2017-08-14T03:41:55.068493",
          "2017-08-15T03:42:54.246575",
          "2017-08-16T03:43:53.424657",
          "2017-08-17T03:44:52.602739",
          "2017-08-18T03:45:51.780822",
          "2017-08-19T03:46:50.958904",
          "2017-08-20T03:47:50.136986",
          "2017-08-21T03:48:49.315068",
          "2017-08-22T03:49:48.493150",
          "2017-08-23T03:50:47.671232",
          "2017-08-24T03:51:46.849315",
          "2017-08-25T03:52:46.027397",
          "2017-08-26T03:53:45.205479",
          "2017-08-27T03:54:44.383561",
          "2017-08-28T03:55:43.561643",
          "2017-08-29T03:56:42.739726",
          "2017-08-30T03:57:41.917808",
          "2017-08-31T03:58:41.095890",
          "2017-09-01T03:59:40.273972",
          "2017-09-02T04:00:39.452054",
          "2017-09-03T04:01:38.630137",
          "2017-09-04T04:02:37.808219",
          "2017-09-05T04:03:36.986301",
          "2017-09-06T04:04:36.164383",
          "2017-09-07T04:05:35.342465",
          "2017-09-08T04:06:34.520547",
          "2017-09-09T04:07:33.698630",
          "2017-09-10T04:08:32.876712",
          "2017-09-11T04:09:32.054794",
          "2017-09-12T04:10:31.232876",
          "2017-09-13T04:11:30.410958",
          "2017-09-14T04:12:29.589041",
          "2017-09-15T04:13:28.767123",
          "2017-09-16T04:14:27.945205",
          "2017-09-17T04:15:27.123287",
          "2017-09-18T04:16:26.301369",
          "2017-09-19T04:17:25.479452",
          "2017-09-20T04:18:24.657534",
          "2017-09-21T04:19:23.835616",
          "2017-09-22T04:20:23.013698",
          "2017-09-23T04:21:22.191780",
          "2017-09-24T04:22:21.369862",
          "2017-09-25T04:23:20.547945",
          "2017-09-26T04:24:19.726027",
          "2017-09-27T04:25:18.904109",
          "2017-09-28T04:26:18.082191",
          "2017-09-29T04:27:17.260273",
          "2017-09-30T04:28:16.438356",
          "2017-10-01T04:29:15.616438",
          "2017-10-02T04:30:14.794520",
          "2017-10-03T04:31:13.972602",
          "2017-10-04T04:32:13.150684",
          "2017-10-05T04:33:12.328767",
          "2017-10-06T04:34:11.506849",
          "2017-10-07T04:35:10.684931",
          "2017-10-08T04:36:09.863013",
          "2017-10-09T04:37:09.041095",
          "2017-10-10T04:38:08.219177",
          "2017-10-11T04:39:07.397260",
          "2017-10-12T04:40:06.575342",
          "2017-10-13T04:41:05.753424",
          "2017-10-14T04:42:04.931506",
          "2017-10-15T04:43:04.109588",
          "2017-10-16T04:44:03.287671",
          "2017-10-17T04:45:02.465753",
          "2017-10-18T04:46:01.643835",
          "2017-10-19T04:47:00.821917",
          "2017-10-20T04:48:00",
          "2017-10-21T04:48:59.178082",
          "2017-10-22T04:49:58.356164",
          "2017-10-23T04:50:57.534246",
          "2017-10-24T04:51:56.712328",
          "2017-10-25T04:52:55.890411",
          "2017-10-26T04:53:55.068493",
          "2017-10-27T04:54:54.246575",
          "2017-10-28T04:55:53.424657",
          "2017-10-29T04:56:52.602739",
          "2017-10-30T04:57:51.780822",
          "2017-10-31T04:58:50.958904",
          "2017-11-01T04:59:50.136986",
          "2017-11-02T05:00:49.315068",
          "2017-11-03T05:01:48.493150",
          "2017-11-04T05:02:47.671232",
          "2017-11-05T05:03:46.849315",
          "2017-11-06T05:04:46.027397",
          "2017-11-07T05:05:45.205479",
          "2017-11-08T05:06:44.383561",
          "2017-11-09T05:07:43.561643",
          "2017-11-10T05:08:42.739726",
          "2017-11-11T05:09:41.917808",
          "2017-11-12T05:10:41.095890",
          "2017-11-13T05:11:40.273972",
          "2017-11-14T05:12:39.452054",
          "2017-11-15T05:13:38.630137",
          "2017-11-16T05:14:37.808219",
          "2017-11-17T05:15:36.986301",
          "2017-11-18T05:16:36.164383",
          "2017-11-19T05:17:35.342465",
          "2017-11-20T05:18:34.520547",
          "2017-11-21T05:19:33.698630",
          "2017-11-22T05:20:32.876712",
          "2017-11-23T05:21:32.054794",
          "2017-11-24T05:22:31.232876",
          "2017-11-25T05:23:30.410958",
          "2017-11-26T05:24:29.589041",
          "2017-11-27T05:25:28.767123",
          "2017-11-28T05:26:27.945205",
          "2017-11-29T05:27:27.123287",
          "2017-11-30T05:28:26.301369",
          "2017-12-01T05:29:25.479452",
          "2017-12-02T05:30:24.657534",
          "2017-12-03T05:31:23.835616",
          "2017-12-04T05:32:23.013698",
          "2017-12-05T05:33:22.191780",
          "2017-12-06T05:34:21.369862",
          "2017-12-07T05:35:20.547945",
          "2017-12-08T05:36:19.726027",
          "2017-12-09T05:37:18.904109",
          "2017-12-10T05:38:18.082191",
          "2017-12-11T05:39:17.260273",
          "2017-12-12T05:40:16.438356",
          "2017-12-13T05:41:15.616438",
          "2017-12-14T05:42:14.794520",
          "2017-12-15T05:43:13.972602",
          "2017-12-16T05:44:13.150684",
          "2017-12-17T05:45:12.328767",
          "2017-12-18T05:46:11.506849",
          "2017-12-19T05:47:10.684931",
          "2017-12-20T05:48:09.863013",
          "2017-12-21T05:49:09.041095",
          "2017-12-22T05:50:08.219177",
          "2017-12-23T05:51:07.397260",
          "2017-12-24T05:52:06.575342",
          "2017-12-25T05:53:05.753424",
          "2017-12-26T05:54:04.931506",
          "2017-12-27T05:55:04.109588",
          "2017-12-28T05:56:03.287671",
          "2017-12-29T05:57:02.465753",
          "2017-12-30T05:58:01.643835",
          "2017-12-31T05:59:00.821917"
         ],
         "xaxis": "x2",
         "y": [
          3.6400148696494448,
          3.0927603969764497,
          2.971771732716088,
          3.221580755355019,
          3.7785689987202735,
          4.573424137556567,
          5.533695819482362,
          6.586369277361704,
          7.660375948282749,
          8.688963572434597,
          9.611853822652144,
          10.377123235434636,
          10.942752823240726,
          11.277802935175975,
          11.363182345804452,
          11.191993798072888,
          10.76945189458893,
          10.112382897129208,
          9.248329236941345,
          8.214293952609173,
          7.055171477724178,
          5.8219208603475625,
          4.569545317113818,
          3.3549477744703466,
          2.2347355607302672,
          1.2630485836134222,
          0.48948413456977263,
          -0.0428120522795892,
          -0.29882457372580007,
          -0.25306078263319,
          0.10938981422096973,
          0.7921648941052458,
          1.7873310071008424,
          3.0754883944792657,
          4.626276540103359,
          6.399264955565602,
          8.34520108188096,
          10.407575452044297,
          12.524453768954759,
          14.630516642682174,
          16.65924068005581,
          18.545149655771183,
          20.226061774796143,
          21.64525865485108,
          22.75350363428285,
          23.510841289894916,
          23.88811651049874,
          23.868159919621238,
          23.44659662342037,
          22.63224686989047,
          21.44709988833057,
          19.925855548011686,
          18.11504212187962,
          16.07173194394697,
          13.86188969144833,
          11.558400000155288,
          9.23883176152234,
          6.983005412929082,
          4.870436534906028,
          2.977733879070953,
          1.3760324061618454,
          0.12854192200194686,
          -0.7117105609974812,
          -1.1038714801137433,
          -1.020918294921362,
          -0.4509271160552206,
          0.6020954061915427,
          2.117849160116883,
          4.059866136825006,
          6.376129555063339,
          9.00017686755569,
          11.85266234652313,
          14.843340889924411,
          17.873421626764205,
          20.838228224651207,
          23.63009287665566,
          26.141403073646906,
          28.267714703881595,
          29.91084194736494,
          30.981833957288906,
          31.403750480419216,
          31.114153320253166,
          30.06723776938316,
          28.23553764069514,
          25.611149047235507,
          22.20643129747191,
          18.054157813061394,
          13.207105424298422,
          7.737086314194083,
          1.7334428029545512,
          -4.6989593666534875,
          -11.442189021382685,
          -18.36809537317764,
          -25.34146669586473,
          -32.22341745322382,
          -38.87491236844192,
          -45.16033138774027,
          -50.95097765961555,
          -56.12843159149207,
          -60.58765774278779,
          -64.23977767557315,
          -67.01443073568406,
          -68.86165583931795,
          -69.75324038100308,
          -69.68349699211635,
          -68.66944465441885,
          -66.75038716221651,
          -63.98689866194116,
          -60.45924250278174,
          -56.265265436277744,
          -51.51782385396295,
          -46.341811832863584,
          -40.87087189322903,
          -35.2438782426287,
          -29.601288630764785,
          -24.081464589725336,
          -18.81706067471955,
          -13.931581333823447,
          -9.536199270832107,
          -5.726921763773051,
          -2.5821815742529184,
          -0.1609171075105196,
          1.498807291244031,
          2.380605206110645,
          2.4899766454878742,
          1.8539182969339367,
          0.519949386083061,
          -1.445416743958138,
          -3.958709846126797,
          -6.921989255355824,
          -10.22570782771679,
          -13.751871293058812,
          -17.3774031286931,
          -20.977619788003196,
          -24.429718570158247,
          -27.6161806558526,
          -30.427994840036966,
          -32.76761317344781,
          -34.551557900639665,
          -35.712609512865,
          -36.20151810521317,
          -35.9881941779259,
          -35.06235014042738,
          -33.43357962270399,
          -31.130877812208116,
          -28.201621948152102,
          -24.71004636125756,
          -20.735260607147517,
          -16.368871902746474,
          -11.712283878211839,
          -6.873752300889698,
          -1.9652846716541874,
          2.9005257257225154,
          7.613639719340371,
          12.069596132343412,
          16.172333951468914,
          19.836733794687877,
          22.990808659349234,
          25.577484875396532,
          27.5559267707438,
          28.902372398043894,
          29.610462358357438,
          29.691058849036935,
          29.1715671125494,
          28.094786024488148,
          26.51732820786863,
          24.50766239369264,
          22.14384141302258,
          19.510987892691066,
          16.69861619153041,
          13.797873180151011,
          10.898782024343221,
          8.087572154430253,
          5.4441751321793515,
          3.0399602840519386,
          0.9357759445830278,
          -0.8196478000900199,
          -2.190890548924737,
          -3.156595712728587,
          -3.709769535567405,
          -3.8576213554316876,
          -3.62095560488359,
          -3.0331397948797414,
          -2.138685639409916,
          -0.9914921752967382,
          0.3471901377723077,
          1.8110070904950897,
          3.3308867753556997,
          4.837486764443714,
          6.2636237061640925,
          7.546607616725397,
          8.630406522819065,
          9.46757278422798,
          10.020870204063996,
          10.264550679559541,
          10.185240356419634,
          9.782407677591113,
          9.068398979194956,
          8.068040973916087,
          6.8178231536021485,
          5.364686417820543,
          3.764456685090041,
          2.079973486750685,
          0.37897323304709635,
          -1.26820532014707,
          -2.7910201297216095,
          -4.121152700278391,
          -5.194884852216902,
          -5.9553489014491285,
          -6.354578430029005,
          -6.35529279674985,
          -5.93235659689726,
          -5.073865187188945,
          -3.7818188454930968,
          -2.0723607888219657,
          0.02443225872546452,
          2.465204382987601,
          5.194403262279836,
          8.145761584130142,
          11.244134707423957,
          14.407640864588368,
          17.550040473133482,
          20.583283294435475,
          23.42014648691444,
          25.976883232335496,
          28.17580068179837,
          29.94768750917801,
          31.234015341143316,
          31.988844643505214,
          32.18037410380986,
          31.79208291449747,
          30.82342732457054,
          29.29006603783039,
          27.22360309926095,
          24.67085140810124,
          21.6926344921771,
          18.362158236139965,
          14.76299745155201,
          10.986754107154065,
          7.1304543392011075,
          3.2937597150375386,
          -0.4239256319079196,
          -3.926366637254592,
          -7.123341142730559,
          -9.933330737287255,
          -12.285977327687712,
          -14.12423053993907,
          -15.4061197003036,
          -16.10609482401857,
          -16.21589343997595,
          -15.744903843728489,
          -14.72001009689904,
          -13.18491934664302,
          -11.198987373853843,
          -8.83557324001863,
          -6.1799680436529325,
          -3.3269556955874857,
          -0.37807488894330304,
          2.561339266455609,
          5.385248440792669,
          7.990049051765218,
          10.277663011629356,
          12.158490030879433,
          13.554133711521304,
          14.399819721196602,
          14.646432835609804,
          14.262110331993894,
          13.23334181113776,
          11.565539657390254,
          9.28305961031849,
          6.428666875741193,
          3.0624593853810707,
          -0.739724251249269,
          -4.888369335801642,
          -9.28276538320104,
          -13.813832825484187,
          -18.36721627096342,
          -22.82655620386476,
          -27.076845259301724,
          -31.00777215289234,
          -34.51695608982968,
          -37.51297704134426,
          -39.918112595607646,
          -41.6707000275298,
          -42.72705256258262,
          -43.0628712513069,
          -42.67410806738575,
          -41.577251393001106,
          -39.80902151522223,
          -37.42548065517708,
          -34.50057890165562,
          -31.12417373648586,
          -27.399576148676648,
          -23.440690192913998,
          -19.36882485199424,
          -15.309266860365817,
          -11.387710449595478,
          -7.72664456501887,
          -4.4417998414928554,
          -1.6387564508160772,
          0.5901901261563565,
          2.1688151881200533,
          3.0393219753380265,
          3.1642008720939674,
          2.527535367079624,
          1.135714848332041,
          -0.982469157700101,
          -3.7763494553106254,
          -7.174521055638441,
          -11.086561985109235,
          -15.405292148015853,
          -20.009510196605643,
          -24.767134861835597,
          -29.53866575050977,
          -34.180869542218005,
          -38.550591086785026,
          -42.50858528406457,
          -45.92326493205092,
          -48.674261970771155,
          -50.65570466445185,
          -51.77912110637091,
          -51.975889773654835,
          -51.19917040855428,
          -49.425262899423394,
          -46.65435766863254,
          -42.91065789589626,
          -38.24187123524384,
          -32.71808603264888,
          -26.430063927162156,
          -19.486996645971086,
          -12.013789337692932,
          -4.147945519303442,
          3.9638607091905396,
          12.169431396239554,
          20.3148111597185,
          28.248071379306957,
          35.823010447598165,
          42.90267141932195,
          49.36258419737353,
          55.09364775665461,
          60.00457858187347,
          64.02386416345466,
          67.10117468510222,
          69.2082015268295,
          70.338907448947,
          70.50918984736282,
          69.755974801749,
          68.135775310725,
          65.72276167764446,
          62.6064050673666,
          58.88876643474615,
          54.68151202489038,
          50.10274322049405,
          45.27373249673309,
          40.315658544199344,
          35.34643222520724,
          30.477701001228596,
          25.812112953276433,
          21.440912725899846,
          17.441930937291154,
          13.87801615087135,
          10.795944774788817,
          8.225829667679724,
          6.181033214560405,
          4.658575648149006
         ],
         "yaxis": "y2"
        }
       ],
       "layout": {
        "height": 400,
        "showlegend": false,
        "template": {
         "data": {
          "bar": [
           {
            "error_x": {
             "color": "#2a3f5f"
            },
            "error_y": {
             "color": "#2a3f5f"
            },
            "marker": {
             "line": {
              "color": "#E5ECF6",
              "width": 0.5
             },
             "pattern": {
              "fillmode": "overlay",
              "size": 10,
              "solidity": 0.2
             }
            },
            "type": "bar"
           }
          ],
          "barpolar": [
           {
            "marker": {
             "line": {
              "color": "#E5ECF6",
              "width": 0.5
             },
             "pattern": {
              "fillmode": "overlay",
              "size": 10,
              "solidity": 0.2
             }
            },
            "type": "barpolar"
           }
          ],
          "carpet": [
           {
            "aaxis": {
             "endlinecolor": "#2a3f5f",
             "gridcolor": "white",
             "linecolor": "white",
             "minorgridcolor": "white",
             "startlinecolor": "#2a3f5f"
            },
            "baxis": {
             "endlinecolor": "#2a3f5f",
             "gridcolor": "white",
             "linecolor": "white",
             "minorgridcolor": "white",
             "startlinecolor": "#2a3f5f"
            },
            "type": "carpet"
           }
          ],
          "choropleth": [
           {
            "colorbar": {
             "outlinewidth": 0,
             "ticks": ""
            },
            "type": "choropleth"
           }
          ],
          "contour": [
           {
            "colorbar": {
             "outlinewidth": 0,
             "ticks": ""
            },
            "colorscale": [
             [
              0,
              "#0d0887"
             ],
             [
              0.1111111111111111,
              "#46039f"
             ],
             [
              0.2222222222222222,
              "#7201a8"
             ],
             [
              0.3333333333333333,
              "#9c179e"
             ],
             [
              0.4444444444444444,
              "#bd3786"
             ],
             [
              0.5555555555555556,
              "#d8576b"
             ],
             [
              0.6666666666666666,
              "#ed7953"
             ],
             [
              0.7777777777777778,
              "#fb9f3a"
             ],
             [
              0.8888888888888888,
              "#fdca26"
             ],
             [
              1,
              "#f0f921"
             ]
            ],
            "type": "contour"
           }
          ],
          "contourcarpet": [
           {
            "colorbar": {
             "outlinewidth": 0,
             "ticks": ""
            },
            "type": "contourcarpet"
           }
          ],
          "heatmap": [
           {
            "colorbar": {
             "outlinewidth": 0,
             "ticks": ""
            },
            "colorscale": [
             [
              0,
              "#0d0887"
             ],
             [
              0.1111111111111111,
              "#46039f"
             ],
             [
              0.2222222222222222,
              "#7201a8"
             ],
             [
              0.3333333333333333,
              "#9c179e"
             ],
             [
              0.4444444444444444,
              "#bd3786"
             ],
             [
              0.5555555555555556,
              "#d8576b"
             ],
             [
              0.6666666666666666,
              "#ed7953"
             ],
             [
              0.7777777777777778,
              "#fb9f3a"
             ],
             [
              0.8888888888888888,
              "#fdca26"
             ],
             [
              1,
              "#f0f921"
             ]
            ],
            "type": "heatmap"
           }
          ],
          "heatmapgl": [
           {
            "colorbar": {
             "outlinewidth": 0,
             "ticks": ""
            },
            "colorscale": [
             [
              0,
              "#0d0887"
             ],
             [
              0.1111111111111111,
              "#46039f"
             ],
             [
              0.2222222222222222,
              "#7201a8"
             ],
             [
              0.3333333333333333,
              "#9c179e"
             ],
             [
              0.4444444444444444,
              "#bd3786"
             ],
             [
              0.5555555555555556,
              "#d8576b"
             ],
             [
              0.6666666666666666,
              "#ed7953"
             ],
             [
              0.7777777777777778,
              "#fb9f3a"
             ],
             [
              0.8888888888888888,
              "#fdca26"
             ],
             [
              1,
              "#f0f921"
             ]
            ],
            "type": "heatmapgl"
           }
          ],
          "histogram": [
           {
            "marker": {
             "pattern": {
              "fillmode": "overlay",
              "size": 10,
              "solidity": 0.2
             }
            },
            "type": "histogram"
           }
          ],
          "histogram2d": [
           {
            "colorbar": {
             "outlinewidth": 0,
             "ticks": ""
            },
            "colorscale": [
             [
              0,
              "#0d0887"
             ],
             [
              0.1111111111111111,
              "#46039f"
             ],
             [
              0.2222222222222222,
              "#7201a8"
             ],
             [
              0.3333333333333333,
              "#9c179e"
             ],
             [
              0.4444444444444444,
              "#bd3786"
             ],
             [
              0.5555555555555556,
              "#d8576b"
             ],
             [
              0.6666666666666666,
              "#ed7953"
             ],
             [
              0.7777777777777778,
              "#fb9f3a"
             ],
             [
              0.8888888888888888,
              "#fdca26"
             ],
             [
              1,
              "#f0f921"
             ]
            ],
            "type": "histogram2d"
           }
          ],
          "histogram2dcontour": [
           {
            "colorbar": {
             "outlinewidth": 0,
             "ticks": ""
            },
            "colorscale": [
             [
              0,
              "#0d0887"
             ],
             [
              0.1111111111111111,
              "#46039f"
             ],
             [
              0.2222222222222222,
              "#7201a8"
             ],
             [
              0.3333333333333333,
              "#9c179e"
             ],
             [
              0.4444444444444444,
              "#bd3786"
             ],
             [
              0.5555555555555556,
              "#d8576b"
             ],
             [
              0.6666666666666666,
              "#ed7953"
             ],
             [
              0.7777777777777778,
              "#fb9f3a"
             ],
             [
              0.8888888888888888,
              "#fdca26"
             ],
             [
              1,
              "#f0f921"
             ]
            ],
            "type": "histogram2dcontour"
           }
          ],
          "mesh3d": [
           {
            "colorbar": {
             "outlinewidth": 0,
             "ticks": ""
            },
            "type": "mesh3d"
           }
          ],
          "parcoords": [
           {
            "line": {
             "colorbar": {
              "outlinewidth": 0,
              "ticks": ""
             }
            },
            "type": "parcoords"
           }
          ],
          "pie": [
           {
            "automargin": true,
            "type": "pie"
           }
          ],
          "scatter": [
           {
            "fillpattern": {
             "fillmode": "overlay",
             "size": 10,
             "solidity": 0.2
            },
            "type": "scatter"
           }
          ],
          "scatter3d": [
           {
            "line": {
             "colorbar": {
              "outlinewidth": 0,
              "ticks": ""
             }
            },
            "marker": {
             "colorbar": {
              "outlinewidth": 0,
              "ticks": ""
             }
            },
            "type": "scatter3d"
           }
          ],
          "scattercarpet": [
           {
            "marker": {
             "colorbar": {
              "outlinewidth": 0,
              "ticks": ""
             }
            },
            "type": "scattercarpet"
           }
          ],
          "scattergeo": [
           {
            "marker": {
             "colorbar": {
              "outlinewidth": 0,
              "ticks": ""
             }
            },
            "type": "scattergeo"
           }
          ],
          "scattergl": [
           {
            "marker": {
             "colorbar": {
              "outlinewidth": 0,
              "ticks": ""
             }
            },
            "type": "scattergl"
           }
          ],
          "scattermapbox": [
           {
            "marker": {
             "colorbar": {
              "outlinewidth": 0,
              "ticks": ""
             }
            },
            "type": "scattermapbox"
           }
          ],
          "scatterpolar": [
           {
            "marker": {
             "colorbar": {
              "outlinewidth": 0,
              "ticks": ""
             }
            },
            "type": "scatterpolar"
           }
          ],
          "scatterpolargl": [
           {
            "marker": {
             "colorbar": {
              "outlinewidth": 0,
              "ticks": ""
             }
            },
            "type": "scatterpolargl"
           }
          ],
          "scatterternary": [
           {
            "marker": {
             "colorbar": {
              "outlinewidth": 0,
              "ticks": ""
             }
            },
            "type": "scatterternary"
           }
          ],
          "surface": [
           {
            "colorbar": {
             "outlinewidth": 0,
             "ticks": ""
            },
            "colorscale": [
             [
              0,
              "#0d0887"
             ],
             [
              0.1111111111111111,
              "#46039f"
             ],
             [
              0.2222222222222222,
              "#7201a8"
             ],
             [
              0.3333333333333333,
              "#9c179e"
             ],
             [
              0.4444444444444444,
              "#bd3786"
             ],
             [
              0.5555555555555556,
              "#d8576b"
             ],
             [
              0.6666666666666666,
              "#ed7953"
             ],
             [
              0.7777777777777778,
              "#fb9f3a"
             ],
             [
              0.8888888888888888,
              "#fdca26"
             ],
             [
              1,
              "#f0f921"
             ]
            ],
            "type": "surface"
           }
          ],
          "table": [
           {
            "cells": {
             "fill": {
              "color": "#EBF0F8"
             },
             "line": {
              "color": "white"
             }
            },
            "header": {
             "fill": {
              "color": "#C8D4E3"
             },
             "line": {
              "color": "white"
             }
            },
            "type": "table"
           }
          ]
         },
         "layout": {
          "annotationdefaults": {
           "arrowcolor": "#2a3f5f",
           "arrowhead": 0,
           "arrowwidth": 1
          },
          "autotypenumbers": "strict",
          "coloraxis": {
           "colorbar": {
            "outlinewidth": 0,
            "ticks": ""
           }
          },
          "colorscale": {
           "diverging": [
            [
             0,
             "#8e0152"
            ],
            [
             0.1,
             "#c51b7d"
            ],
            [
             0.2,
             "#de77ae"
            ],
            [
             0.3,
             "#f1b6da"
            ],
            [
             0.4,
             "#fde0ef"
            ],
            [
             0.5,
             "#f7f7f7"
            ],
            [
             0.6,
             "#e6f5d0"
            ],
            [
             0.7,
             "#b8e186"
            ],
            [
             0.8,
             "#7fbc41"
            ],
            [
             0.9,
             "#4d9221"
            ],
            [
             1,
             "#276419"
            ]
           ],
           "sequential": [
            [
             0,
             "#0d0887"
            ],
            [
             0.1111111111111111,
             "#46039f"
            ],
            [
             0.2222222222222222,
             "#7201a8"
            ],
            [
             0.3333333333333333,
             "#9c179e"
            ],
            [
             0.4444444444444444,
             "#bd3786"
            ],
            [
             0.5555555555555556,
             "#d8576b"
            ],
            [
             0.6666666666666666,
             "#ed7953"
            ],
            [
             0.7777777777777778,
             "#fb9f3a"
            ],
            [
             0.8888888888888888,
             "#fdca26"
            ],
            [
             1,
             "#f0f921"
            ]
           ],
           "sequentialminus": [
            [
             0,
             "#0d0887"
            ],
            [
             0.1111111111111111,
             "#46039f"
            ],
            [
             0.2222222222222222,
             "#7201a8"
            ],
            [
             0.3333333333333333,
             "#9c179e"
            ],
            [
             0.4444444444444444,
             "#bd3786"
            ],
            [
             0.5555555555555556,
             "#d8576b"
            ],
            [
             0.6666666666666666,
             "#ed7953"
            ],
            [
             0.7777777777777778,
             "#fb9f3a"
            ],
            [
             0.8888888888888888,
             "#fdca26"
            ],
            [
             1,
             "#f0f921"
            ]
           ]
          },
          "colorway": [
           "#636efa",
           "#EF553B",
           "#00cc96",
           "#ab63fa",
           "#FFA15A",
           "#19d3f3",
           "#FF6692",
           "#B6E880",
           "#FF97FF",
           "#FECB52"
          ],
          "font": {
           "color": "#2a3f5f"
          },
          "geo": {
           "bgcolor": "white",
           "lakecolor": "white",
           "landcolor": "#E5ECF6",
           "showlakes": true,
           "showland": true,
           "subunitcolor": "white"
          },
          "hoverlabel": {
           "align": "left"
          },
          "hovermode": "closest",
          "mapbox": {
           "style": "light"
          },
          "paper_bgcolor": "white",
          "plot_bgcolor": "#E5ECF6",
          "polar": {
           "angularaxis": {
            "gridcolor": "white",
            "linecolor": "white",
            "ticks": ""
           },
           "bgcolor": "#E5ECF6",
           "radialaxis": {
            "gridcolor": "white",
            "linecolor": "white",
            "ticks": ""
           }
          },
          "scene": {
           "xaxis": {
            "backgroundcolor": "#E5ECF6",
            "gridcolor": "white",
            "gridwidth": 2,
            "linecolor": "white",
            "showbackground": true,
            "ticks": "",
            "zerolinecolor": "white"
           },
           "yaxis": {
            "backgroundcolor": "#E5ECF6",
            "gridcolor": "white",
            "gridwidth": 2,
            "linecolor": "white",
            "showbackground": true,
            "ticks": "",
            "zerolinecolor": "white"
           },
           "zaxis": {
            "backgroundcolor": "#E5ECF6",
            "gridcolor": "white",
            "gridwidth": 2,
            "linecolor": "white",
            "showbackground": true,
            "ticks": "",
            "zerolinecolor": "white"
           }
          },
          "shapedefaults": {
           "line": {
            "color": "#2a3f5f"
           }
          },
          "ternary": {
           "aaxis": {
            "gridcolor": "white",
            "linecolor": "white",
            "ticks": ""
           },
           "baxis": {
            "gridcolor": "white",
            "linecolor": "white",
            "ticks": ""
           },
           "bgcolor": "#E5ECF6",
           "caxis": {
            "gridcolor": "white",
            "linecolor": "white",
            "ticks": ""
           }
          },
          "title": {
           "x": 0.05
          },
          "xaxis": {
           "automargin": true,
           "gridcolor": "white",
           "linecolor": "white",
           "ticks": "",
           "title": {
            "standoff": 15
           },
           "zerolinecolor": "white",
           "zerolinewidth": 2
          },
          "yaxis": {
           "automargin": true,
           "gridcolor": "white",
           "linecolor": "white",
           "ticks": "",
           "title": {
            "standoff": 15
           },
           "zerolinecolor": "white",
           "zerolinewidth": 2
          }
         }
        },
        "width": 900,
        "xaxis": {
         "anchor": "y",
         "domain": [
          0,
          1
         ],
         "range": [
          "2009-06-20T04:48:00",
          "2021-03-14T19:12:00"
         ],
         "type": "date"
        },
        "xaxis2": {
         "anchor": "y2",
         "domain": [
          0,
          1
         ],
         "range": [
          "2016-12-13T18:54:02.958904115",
          "2018-01-18T11:04:57.863013581"
         ],
         "tickformat": "%B %e",
         "type": "date"
        },
        "yaxis": {
         "anchor": "x",
         "domain": [
          0.575,
          1
         ],
         "rangemode": "normal",
         "title": {
          "text": "trend"
         },
         "zerolinecolor": "#AAA"
        },
        "yaxis2": {
         "anchor": "x2",
         "domain": [
          0,
          0.425
         ],
         "title": {
          "text": "yearly"
         },
         "zerolinecolor": "#AAA"
        }
       }
      },
      "text/html": [
       "<div>                            <div id=\"3488218c-c454-42ac-9f56-89e2961437d0\" class=\"plotly-graph-div\" style=\"height:400px; width:900px;\"></div>            <script type=\"text/javascript\">                require([\"plotly\"], function(Plotly) {                    window.PLOTLYENV=window.PLOTLYENV || {};                                    if (document.getElementById(\"3488218c-c454-42ac-9f56-89e2961437d0\")) {                    Plotly.newPlot(                        \"3488218c-c454-42ac-9f56-89e2961437d0\",                        [{\"line\":{\"color\":\"#0072B2\",\"width\":2},\"mode\":\"lines\",\"name\":\"trend\",\"x\":[\"2010-01-01T00:00:00\",\"2010-02-01T00:00:00\",\"2010-03-01T00:00:00\",\"2010-04-01T00:00:00\",\"2010-05-01T00:00:00\",\"2010-06-01T00:00:00\",\"2010-07-01T00:00:00\",\"2010-08-01T00:00:00\",\"2010-09-01T00:00:00\",\"2010-10-01T00:00:00\",\"2010-11-01T00:00:00\",\"2010-12-01T00:00:00\",\"2011-01-01T00:00:00\",\"2011-02-01T00:00:00\",\"2011-03-01T00:00:00\",\"2011-04-01T00:00:00\",\"2011-05-01T00:00:00\",\"2011-06-01T00:00:00\",\"2011-07-01T00:00:00\",\"2011-08-01T00:00:00\",\"2011-09-01T00:00:00\",\"2011-10-01T00:00:00\",\"2011-11-01T00:00:00\",\"2011-12-01T00:00:00\",\"2012-01-01T00:00:00\",\"2012-02-01T00:00:00\",\"2012-03-01T00:00:00\",\"2012-04-01T00:00:00\",\"2012-05-01T00:00:00\",\"2012-06-01T00:00:00\",\"2012-07-01T00:00:00\",\"2012-08-01T00:00:00\",\"2012-09-01T00:00:00\",\"2012-10-01T00:00:00\",\"2012-11-01T00:00:00\",\"2012-12-01T00:00:00\",\"2013-01-01T00:00:00\",\"2013-02-01T00:00:00\",\"2013-03-01T00:00:00\",\"2013-04-01T00:00:00\",\"2013-05-01T00:00:00\",\"2013-06-01T00:00:00\",\"2013-07-01T00:00:00\",\"2013-08-01T00:00:00\",\"2013-09-01T00:00:00\",\"2013-10-01T00:00:00\",\"2013-11-01T00:00:00\",\"2013-12-01T00:00:00\",\"2014-01-01T00:00:00\",\"2014-02-01T00:00:00\",\"2014-03-01T00:00:00\",\"2014-04-01T00:00:00\",\"2014-05-01T00:00:00\",\"2014-06-01T00:00:00\",\"2014-07-01T00:00:00\",\"2014-08-01T00:00:00\",\"2014-09-01T00:00:00\",\"2014-10-01T00:00:00\",\"2014-11-01T00:00:00\",\"2014-12-01T00:00:00\",\"2015-01-01T00:00:00\",\"2015-02-01T00:00:00\",\"2015-03-01T00:00:00\",\"2015-04-01T00:00:00\",\"2015-05-01T00:00:00\",\"2015-06-01T00:00:00\",\"2015-07-01T00:00:00\",\"2015-08-01T00:00:00\",\"2015-09-01T00:00:00\",\"2015-10-01T00:00:00\",\"2015-11-01T00:00:00\",\"2015-12-01T00:00:00\",\"2016-01-01T00:00:00\",\"2016-02-01T00:00:00\",\"2016-03-01T00:00:00\",\"2016-04-01T00:00:00\",\"2016-05-01T00:00:00\",\"2016-06-01T00:00:00\",\"2016-07-01T00:00:00\",\"2016-08-01T00:00:00\",\"2016-09-01T00:00:00\",\"2016-10-01T00:00:00\",\"2016-11-01T00:00:00\",\"2016-12-01T00:00:00\",\"2017-01-01T00:00:00\",\"2017-02-01T00:00:00\",\"2017-03-01T00:00:00\",\"2017-04-01T00:00:00\",\"2017-05-01T00:00:00\",\"2017-06-01T00:00:00\",\"2017-07-01T00:00:00\",\"2017-08-01T00:00:00\",\"2017-09-01T00:00:00\",\"2017-10-01T00:00:00\",\"2017-11-01T00:00:00\",\"2017-12-01T00:00:00\",\"2018-01-01T00:00:00\",\"2018-02-01T00:00:00\",\"2018-03-01T00:00:00\",\"2018-04-01T00:00:00\",\"2018-05-01T00:00:00\",\"2018-06-01T00:00:00\",\"2018-07-01T00:00:00\",\"2018-08-01T00:00:00\",\"2018-09-01T00:00:00\",\"2018-10-01T00:00:00\",\"2018-11-01T00:00:00\",\"2018-12-01T00:00:00\",\"2019-01-01T00:00:00\",\"2019-02-01T00:00:00\",\"2019-03-01T00:00:00\",\"2019-04-01T00:00:00\",\"2019-05-01T00:00:00\",\"2019-06-01T00:00:00\",\"2019-07-01T00:00:00\",\"2019-08-01T00:00:00\",\"2019-09-01T00:00:00\",\"2019-10-01T00:00:00\",\"2019-11-01T00:00:00\",\"2019-12-01T00:00:00\",\"2020-01-01T00:00:00\",\"2020-02-01T00:00:00\",\"2020-03-01T00:00:00\",\"2020-04-01T00:00:00\",\"2020-05-01T00:00:00\",\"2020-06-01T00:00:00\",\"2020-07-01T00:00:00\",\"2020-08-01T00:00:00\",\"2020-09-01T00:00:00\"],\"y\":[38.52099,39.26671328820116,39.9402698065764,40.685993094714995,41.40766079313476,42.15338408150185,42.87505178024371,43.62077506872583,44.366498357207945,45.088166058501905,45.833889349839005,46.5555593192026,47.30128495777171,48.047010596340826,48.72056923743236,49.46629487585016,50.187964848512536,50.93368992853099,51.655359360806905,52.400814744423045,53.14522772935446,53.8656273921913,54.608756914163344,55.29033577332514,55.99463392779233,56.69752353160189,57.355065419036634,58.0563483480106,58.561070059396776,59.08261582782915,59.586151316584754,60.1053879022125,60.62462448784024,61.125981370793134,61.644050149844475,62.14448984401594,62.66082958217753,63.17716932033912,63.64350467910289,64.15980441415778,64.6594493190496,65.17574905367493,65.67539395815106,66.19169369277638,66.70799342740172,67.20763833187783,67.72393806650315,68.2235829709793,68.73988270560461,69.25618244022994,69.72251768440765,70.23881741903298,70.73846232350911,71.25476205813443,71.75440696261056,72.27070669723588,72.78700643186122,73.28665133633734,73.80295107096266,74.30259597543879,74.81889571006413,75.33519544468945,75.80153068886716,76.3178304234925,76.81747532796861,77.33377506259393,77.83341996707006,78.34971970169539,78.86601943632071,79.36566434079684,79.88196407542218,80.38160897989829,80.89790871452362,81.41420844914894,81.89719852347586,82.4134982581012,82.91314316257733,83.42944289720265,83.92908780167878,84.44538753630411,84.96168727092943,85.46133217540554,85.97763191003088,86.477276814507,86.99357654913231,87.50987628375766,87.97621152793536,88.4925112625607,88.99215616703682,89.50845590166215,90.00810080613827,90.5244005407636,91.04070027538893,91.54034517986507,92.05664491449038,92.5562898189665,93.07258955359185,93.58888928821715,94.05522453239486,94.57152426702021,95.07116917149634,95.58746890612166,96.08711381059777,96.60341354522312,97.11971327984843,97.61935818432455,98.1356579189499,98.63530282342602,99.15160255805134,99.66790229267667,100.13423753685439,100.6505372714797,101.15018217595582,101.66648191058117,102.1661268150573,102.6824265496826,103.19872628430795,103.69837118878407,104.21467092340939,104.71431582788551,105.23061556251083,105.74691529713616,106.22990537146309,106.74620510608842,107.24585001056454,107.76214974518986,108.261794649666,108.77809438429132,109.29439411891664],\"type\":\"scatter\",\"xaxis\":\"x\",\"yaxis\":\"y\"},{\"line\":{\"color\":\"rgba(0, 114, 178, 0.2)\",\"width\":0},\"mode\":\"lines\",\"name\":\"trend_upper\",\"x\":[\"2010-01-01T00:00:00\",\"2010-02-01T00:00:00\",\"2010-03-01T00:00:00\",\"2010-04-01T00:00:00\",\"2010-05-01T00:00:00\",\"2010-06-01T00:00:00\",\"2010-07-01T00:00:00\",\"2010-08-01T00:00:00\",\"2010-09-01T00:00:00\",\"2010-10-01T00:00:00\",\"2010-11-01T00:00:00\",\"2010-12-01T00:00:00\",\"2011-01-01T00:00:00\",\"2011-02-01T00:00:00\",\"2011-03-01T00:00:00\",\"2011-04-01T00:00:00\",\"2011-05-01T00:00:00\",\"2011-06-01T00:00:00\",\"2011-07-01T00:00:00\",\"2011-08-01T00:00:00\",\"2011-09-01T00:00:00\",\"2011-10-01T00:00:00\",\"2011-11-01T00:00:00\",\"2011-12-01T00:00:00\",\"2012-01-01T00:00:00\",\"2012-02-01T00:00:00\",\"2012-03-01T00:00:00\",\"2012-04-01T00:00:00\",\"2012-05-01T00:00:00\",\"2012-06-01T00:00:00\",\"2012-07-01T00:00:00\",\"2012-08-01T00:00:00\",\"2012-09-01T00:00:00\",\"2012-10-01T00:00:00\",\"2012-11-01T00:00:00\",\"2012-12-01T00:00:00\",\"2013-01-01T00:00:00\",\"2013-02-01T00:00:00\",\"2013-03-01T00:00:00\",\"2013-04-01T00:00:00\",\"2013-05-01T00:00:00\",\"2013-06-01T00:00:00\",\"2013-07-01T00:00:00\",\"2013-08-01T00:00:00\",\"2013-09-01T00:00:00\",\"2013-10-01T00:00:00\",\"2013-11-01T00:00:00\",\"2013-12-01T00:00:00\",\"2014-01-01T00:00:00\",\"2014-02-01T00:00:00\",\"2014-03-01T00:00:00\",\"2014-04-01T00:00:00\",\"2014-05-01T00:00:00\",\"2014-06-01T00:00:00\",\"2014-07-01T00:00:00\",\"2014-08-01T00:00:00\",\"2014-09-01T00:00:00\",\"2014-10-01T00:00:00\",\"2014-11-01T00:00:00\",\"2014-12-01T00:00:00\",\"2015-01-01T00:00:00\",\"2015-02-01T00:00:00\",\"2015-03-01T00:00:00\",\"2015-04-01T00:00:00\",\"2015-05-01T00:00:00\",\"2015-06-01T00:00:00\",\"2015-07-01T00:00:00\",\"2015-08-01T00:00:00\",\"2015-09-01T00:00:00\",\"2015-10-01T00:00:00\",\"2015-11-01T00:00:00\",\"2015-12-01T00:00:00\",\"2016-01-01T00:00:00\",\"2016-02-01T00:00:00\",\"2016-03-01T00:00:00\",\"2016-04-01T00:00:00\",\"2016-05-01T00:00:00\",\"2016-06-01T00:00:00\",\"2016-07-01T00:00:00\",\"2016-08-01T00:00:00\",\"2016-09-01T00:00:00\",\"2016-10-01T00:00:00\",\"2016-11-01T00:00:00\",\"2016-12-01T00:00:00\",\"2017-01-01T00:00:00\",\"2017-02-01T00:00:00\",\"2017-03-01T00:00:00\",\"2017-04-01T00:00:00\",\"2017-05-01T00:00:00\",\"2017-06-01T00:00:00\",\"2017-07-01T00:00:00\",\"2017-08-01T00:00:00\",\"2017-09-01T00:00:00\",\"2017-10-01T00:00:00\",\"2017-11-01T00:00:00\",\"2017-12-01T00:00:00\",\"2018-01-01T00:00:00\",\"2018-02-01T00:00:00\",\"2018-03-01T00:00:00\",\"2018-04-01T00:00:00\",\"2018-05-01T00:00:00\",\"2018-06-01T00:00:00\",\"2018-07-01T00:00:00\",\"2018-08-01T00:00:00\",\"2018-09-01T00:00:00\",\"2018-10-01T00:00:00\",\"2018-11-01T00:00:00\",\"2018-12-01T00:00:00\",\"2019-01-01T00:00:00\",\"2019-02-01T00:00:00\",\"2019-03-01T00:00:00\",\"2019-04-01T00:00:00\",\"2019-05-01T00:00:00\",\"2019-06-01T00:00:00\",\"2019-07-01T00:00:00\",\"2019-08-01T00:00:00\",\"2019-09-01T00:00:00\",\"2019-10-01T00:00:00\",\"2019-11-01T00:00:00\",\"2019-12-01T00:00:00\",\"2020-01-01T00:00:00\",\"2020-02-01T00:00:00\",\"2020-03-01T00:00:00\",\"2020-04-01T00:00:00\",\"2020-05-01T00:00:00\",\"2020-06-01T00:00:00\",\"2020-07-01T00:00:00\",\"2020-08-01T00:00:00\",\"2020-09-01T00:00:00\"],\"y\":[38.52099,39.26671328820116,39.9402698065764,40.685993094714995,41.40766079313476,42.15338408150185,42.87505178024371,43.62077506872583,44.366498357207945,45.088166058501905,45.833889349839005,46.5555593192026,47.30128495777171,48.047010596340826,48.72056923743236,49.46629487585016,50.187964848512536,50.93368992853099,51.655359360806905,52.400814744423045,53.14522772935446,53.8656273921913,54.608756914163344,55.29033577332514,55.99463392779233,56.69752353160189,57.355065419036634,58.0563483480106,58.561070059396776,59.08261582782915,59.586151316584754,60.1053879022125,60.62462448784024,61.125981370793134,61.644050149844475,62.14448984401594,62.66082958217753,63.17716932033912,63.64350467910289,64.15980441415778,64.6594493190496,65.17574905367493,65.67539395815106,66.19169369277638,66.70799342740172,67.20763833187783,67.72393806650315,68.2235829709793,68.73988270560461,69.25618244022994,69.72251768440765,70.23881741903298,70.74312443287266,71.27068432226825,71.78385274855066,72.31675721708824,72.85320958330755,73.37600168512235,73.91665931313949,74.4416287195343,74.98410423695763,75.53098631369049,76.04191135589903,76.59690109590699,77.12994066922121,77.69535852343085,78.23725300556433,78.79124804270741,79.3436644999162,79.88675435296088,80.44255450984801,80.98068952367113,81.5341055055888,82.09829126691699,82.61922549803174,83.18726379116531,83.73649024831215,84.31058077735385,84.8577680120875,85.43841125605688,85.98778804038406,86.52302368170866,87.10287683070969,87.6610915430699,88.24077157139546,88.82577378437962,89.349758142067,89.90426649552087,90.46462825908246,91.0416398771754,91.60780272063387,92.18060822298627,92.77862587137415,93.36495152094048,93.9240043903793,94.49474401728543,95.11114117647361,95.68824349189009,96.22613113514478,96.84297406942639,97.42213782444571,97.99910563294443,98.54880346621071,99.14869091983692,99.71016040719184,100.26392919416675,100.83096294137705,101.39277690589617,102.00157003626359,102.60768369702572,103.17571655857755,103.77319357606059,104.36091226872392,104.97193463729248,105.52487686945061,106.10257350956547,106.70435451178004,107.30256868637761,107.91608849049723,108.52607968262161,109.13316515254174,109.7406017896991,110.3146496133896,110.9063782908179,111.495493520694,112.08396385031013,112.66774928744188,113.26659588701082,113.84866705257164],\"type\":\"scatter\",\"xaxis\":\"x\",\"yaxis\":\"y\"},{\"fill\":\"tonexty\",\"fillcolor\":\"rgba(0, 114, 178, 0.2)\",\"line\":{\"color\":\"rgba(0, 114, 178, 0.2)\",\"width\":0},\"mode\":\"lines\",\"name\":\"trend_lower\",\"x\":[\"2010-01-01T00:00:00\",\"2010-02-01T00:00:00\",\"2010-03-01T00:00:00\",\"2010-04-01T00:00:00\",\"2010-05-01T00:00:00\",\"2010-06-01T00:00:00\",\"2010-07-01T00:00:00\",\"2010-08-01T00:00:00\",\"2010-09-01T00:00:00\",\"2010-10-01T00:00:00\",\"2010-11-01T00:00:00\",\"2010-12-01T00:00:00\",\"2011-01-01T00:00:00\",\"2011-02-01T00:00:00\",\"2011-03-01T00:00:00\",\"2011-04-01T00:00:00\",\"2011-05-01T00:00:00\",\"2011-06-01T00:00:00\",\"2011-07-01T00:00:00\",\"2011-08-01T00:00:00\",\"2011-09-01T00:00:00\",\"2011-10-01T00:00:00\",\"2011-11-01T00:00:00\",\"2011-12-01T00:00:00\",\"2012-01-01T00:00:00\",\"2012-02-01T00:00:00\",\"2012-03-01T00:00:00\",\"2012-04-01T00:00:00\",\"2012-05-01T00:00:00\",\"2012-06-01T00:00:00\",\"2012-07-01T00:00:00\",\"2012-08-01T00:00:00\",\"2012-09-01T00:00:00\",\"2012-10-01T00:00:00\",\"2012-11-01T00:00:00\",\"2012-12-01T00:00:00\",\"2013-01-01T00:00:00\",\"2013-02-01T00:00:00\",\"2013-03-01T00:00:00\",\"2013-04-01T00:00:00\",\"2013-05-01T00:00:00\",\"2013-06-01T00:00:00\",\"2013-07-01T00:00:00\",\"2013-08-01T00:00:00\",\"2013-09-01T00:00:00\",\"2013-10-01T00:00:00\",\"2013-11-01T00:00:00\",\"2013-12-01T00:00:00\",\"2014-01-01T00:00:00\",\"2014-02-01T00:00:00\",\"2014-03-01T00:00:00\",\"2014-04-01T00:00:00\",\"2014-05-01T00:00:00\",\"2014-06-01T00:00:00\",\"2014-07-01T00:00:00\",\"2014-08-01T00:00:00\",\"2014-09-01T00:00:00\",\"2014-10-01T00:00:00\",\"2014-11-01T00:00:00\",\"2014-12-01T00:00:00\",\"2015-01-01T00:00:00\",\"2015-02-01T00:00:00\",\"2015-03-01T00:00:00\",\"2015-04-01T00:00:00\",\"2015-05-01T00:00:00\",\"2015-06-01T00:00:00\",\"2015-07-01T00:00:00\",\"2015-08-01T00:00:00\",\"2015-09-01T00:00:00\",\"2015-10-01T00:00:00\",\"2015-11-01T00:00:00\",\"2015-12-01T00:00:00\",\"2016-01-01T00:00:00\",\"2016-02-01T00:00:00\",\"2016-03-01T00:00:00\",\"2016-04-01T00:00:00\",\"2016-05-01T00:00:00\",\"2016-06-01T00:00:00\",\"2016-07-01T00:00:00\",\"2016-08-01T00:00:00\",\"2016-09-01T00:00:00\",\"2016-10-01T00:00:00\",\"2016-11-01T00:00:00\",\"2016-12-01T00:00:00\",\"2017-01-01T00:00:00\",\"2017-02-01T00:00:00\",\"2017-03-01T00:00:00\",\"2017-04-01T00:00:00\",\"2017-05-01T00:00:00\",\"2017-06-01T00:00:00\",\"2017-07-01T00:00:00\",\"2017-08-01T00:00:00\",\"2017-09-01T00:00:00\",\"2017-10-01T00:00:00\",\"2017-11-01T00:00:00\",\"2017-12-01T00:00:00\",\"2018-01-01T00:00:00\",\"2018-02-01T00:00:00\",\"2018-03-01T00:00:00\",\"2018-04-01T00:00:00\",\"2018-05-01T00:00:00\",\"2018-06-01T00:00:00\",\"2018-07-01T00:00:00\",\"2018-08-01T00:00:00\",\"2018-09-01T00:00:00\",\"2018-10-01T00:00:00\",\"2018-11-01T00:00:00\",\"2018-12-01T00:00:00\",\"2019-01-01T00:00:00\",\"2019-02-01T00:00:00\",\"2019-03-01T00:00:00\",\"2019-04-01T00:00:00\",\"2019-05-01T00:00:00\",\"2019-06-01T00:00:00\",\"2019-07-01T00:00:00\",\"2019-08-01T00:00:00\",\"2019-09-01T00:00:00\",\"2019-10-01T00:00:00\",\"2019-11-01T00:00:00\",\"2019-12-01T00:00:00\",\"2020-01-01T00:00:00\",\"2020-02-01T00:00:00\",\"2020-03-01T00:00:00\",\"2020-04-01T00:00:00\",\"2020-05-01T00:00:00\",\"2020-06-01T00:00:00\",\"2020-07-01T00:00:00\",\"2020-08-01T00:00:00\",\"2020-09-01T00:00:00\"],\"y\":[38.52099,39.26671328820116,39.9402698065764,40.685993094714995,41.40766079313476,42.15338408150185,42.87505178024371,43.62077506872583,44.366498357207945,45.088166058501905,45.833889349839005,46.5555593192026,47.30128495777171,48.047010596340826,48.72056923743236,49.46629487585016,50.187964848512536,50.93368992853099,51.655359360806905,52.400814744423045,53.14522772935446,53.8656273921913,54.608756914163344,55.29033577332514,55.99463392779233,56.69752353160189,57.355065419036634,58.0563483480106,58.561070059396776,59.08261582782915,59.586151316584754,60.1053879022125,60.62462448784024,61.125981370793134,61.644050149844475,62.14448984401594,62.66082958217753,63.17716932033912,63.64350467910289,64.15980441415778,64.6594493190496,65.17574905367493,65.67539395815106,66.19169369277638,66.70799342740172,67.20763833187783,67.72393806650315,68.2235829709793,68.73988270560461,69.25618244022994,69.72251768440765,70.23881741903298,70.73457987654258,71.24235831454676,71.72665095172584,72.22499002992176,72.72257058425882,73.2014734955194,73.69794879231621,74.16925193517798,74.65501320190747,75.14565666804673,75.58484421216532,76.07056592238685,76.53636523438374,77.02019464741608,77.47787523478797,77.96068482055567,78.43371852119554,78.89860109891531,79.37582844801348,79.84587822630724,80.32591803560946,80.80390404985381,81.23876383812342,81.69490984979117,82.15496064635573,82.63137135367099,83.0729737297698,83.54536496796614,84.01611492142506,84.47197709414264,84.93832345631101,85.39940452118971,85.85765508381625,86.32256895576029,86.73786112356689,87.19485034087344,87.65021227428714,88.1155593275988,88.56594707251205,89.03117236099841,89.48652862866852,89.92075232921287,90.37780200727495,90.80866410088237,91.25410160909534,91.71919592338408,92.14413381273188,92.61187657016518,93.0562875961685,93.51121937983615,93.9321504519074,94.37878214798053,94.83089598609901,95.26212749494387,95.68737488658681,96.12479462937517,96.56395481608321,97.04447724983841,97.43933180329829,97.88220906372523,98.31753057901979,98.76357880330987,99.20917362998034,99.64765652662747,100.09548962768055,100.52811924429487,100.9710559650525,101.42076433689782,101.84070347004257,102.27793271982014,102.690602106368,103.1252197423468,103.54986782253769,103.99065579598245,104.41740746994995,104.84541854462327,105.2786784433073],\"type\":\"scatter\",\"xaxis\":\"x\",\"yaxis\":\"y\"},{\"line\":{\"color\":\"#0072B2\",\"width\":2},\"mode\":\"lines\",\"name\":\"yearly\",\"x\":[\"2017-01-01T00:00:00\",\"2017-01-02T00:00:59.178082\",\"2017-01-03T00:01:58.356164\",\"2017-01-04T00:02:57.534246\",\"2017-01-05T00:03:56.712328\",\"2017-01-06T00:04:55.890411\",\"2017-01-07T00:05:55.068493\",\"2017-01-08T00:06:54.246575\",\"2017-01-09T00:07:53.424657\",\"2017-01-10T00:08:52.602739\",\"2017-01-11T00:09:51.780822\",\"2017-01-12T00:10:50.958904\",\"2017-01-13T00:11:50.136986\",\"2017-01-14T00:12:49.315068\",\"2017-01-15T00:13:48.493150\",\"2017-01-16T00:14:47.671232\",\"2017-01-17T00:15:46.849315\",\"2017-01-18T00:16:46.027397\",\"2017-01-19T00:17:45.205479\",\"2017-01-20T00:18:44.383561\",\"2017-01-21T00:19:43.561643\",\"2017-01-22T00:20:42.739726\",\"2017-01-23T00:21:41.917808\",\"2017-01-24T00:22:41.095890\",\"2017-01-25T00:23:40.273972\",\"2017-01-26T00:24:39.452054\",\"2017-01-27T00:25:38.630137\",\"2017-01-28T00:26:37.808219\",\"2017-01-29T00:27:36.986301\",\"2017-01-30T00:28:36.164383\",\"2017-01-31T00:29:35.342465\",\"2017-02-01T00:30:34.520547\",\"2017-02-02T00:31:33.698630\",\"2017-02-03T00:32:32.876712\",\"2017-02-04T00:33:32.054794\",\"2017-02-05T00:34:31.232876\",\"2017-02-06T00:35:30.410958\",\"2017-02-07T00:36:29.589041\",\"2017-02-08T00:37:28.767123\",\"2017-02-09T00:38:27.945205\",\"2017-02-10T00:39:27.123287\",\"2017-02-11T00:40:26.301369\",\"2017-02-12T00:41:25.479452\",\"2017-02-13T00:42:24.657534\",\"2017-02-14T00:43:23.835616\",\"2017-02-15T00:44:23.013698\",\"2017-02-16T00:45:22.191780\",\"2017-02-17T00:46:21.369862\",\"2017-02-18T00:47:20.547945\",\"2017-02-19T00:48:19.726027\",\"2017-02-20T00:49:18.904109\",\"2017-02-21T00:50:18.082191\",\"2017-02-22T00:51:17.260273\",\"2017-02-23T00:52:16.438356\",\"2017-02-24T00:53:15.616438\",\"2017-02-25T00:54:14.794520\",\"2017-02-26T00:55:13.972602\",\"2017-02-27T00:56:13.150684\",\"2017-02-28T00:57:12.328767\",\"2017-03-01T00:58:11.506849\",\"2017-03-02T00:59:10.684931\",\"2017-03-03T01:00:09.863013\",\"2017-03-04T01:01:09.041095\",\"2017-03-05T01:02:08.219177\",\"2017-03-06T01:03:07.397260\",\"2017-03-07T01:04:06.575342\",\"2017-03-08T01:05:05.753424\",\"2017-03-09T01:06:04.931506\",\"2017-03-10T01:07:04.109588\",\"2017-03-11T01:08:03.287671\",\"2017-03-12T01:09:02.465753\",\"2017-03-13T01:10:01.643835\",\"2017-03-14T01:11:00.821917\",\"2017-03-15T01:12:00\",\"2017-03-16T01:12:59.178082\",\"2017-03-17T01:13:58.356164\",\"2017-03-18T01:14:57.534246\",\"2017-03-19T01:15:56.712328\",\"2017-03-20T01:16:55.890411\",\"2017-03-21T01:17:55.068493\",\"2017-03-22T01:18:54.246575\",\"2017-03-23T01:19:53.424657\",\"2017-03-24T01:20:52.602739\",\"2017-03-25T01:21:51.780822\",\"2017-03-26T01:22:50.958904\",\"2017-03-27T01:23:50.136986\",\"2017-03-28T01:24:49.315068\",\"2017-03-29T01:25:48.493150\",\"2017-03-30T01:26:47.671232\",\"2017-03-31T01:27:46.849315\",\"2017-04-01T01:28:46.027397\",\"2017-04-02T01:29:45.205479\",\"2017-04-03T01:30:44.383561\",\"2017-04-04T01:31:43.561643\",\"2017-04-05T01:32:42.739726\",\"2017-04-06T01:33:41.917808\",\"2017-04-07T01:34:41.095890\",\"2017-04-08T01:35:40.273972\",\"2017-04-09T01:36:39.452054\",\"2017-04-10T01:37:38.630137\",\"2017-04-11T01:38:37.808219\",\"2017-04-12T01:39:36.986301\",\"2017-04-13T01:40:36.164383\",\"2017-04-14T01:41:35.342465\",\"2017-04-15T01:42:34.520547\",\"2017-04-16T01:43:33.698630\",\"2017-04-17T01:44:32.876712\",\"2017-04-18T01:45:32.054794\",\"2017-04-19T01:46:31.232876\",\"2017-04-20T01:47:30.410958\",\"2017-04-21T01:48:29.589041\",\"2017-04-22T01:49:28.767123\",\"2017-04-23T01:50:27.945205\",\"2017-04-24T01:51:27.123287\",\"2017-04-25T01:52:26.301369\",\"2017-04-26T01:53:25.479452\",\"2017-04-27T01:54:24.657534\",\"2017-04-28T01:55:23.835616\",\"2017-04-29T01:56:23.013698\",\"2017-04-30T01:57:22.191780\",\"2017-05-01T01:58:21.369862\",\"2017-05-02T01:59:20.547945\",\"2017-05-03T02:00:19.726027\",\"2017-05-04T02:01:18.904109\",\"2017-05-05T02:02:18.082191\",\"2017-05-06T02:03:17.260273\",\"2017-05-07T02:04:16.438356\",\"2017-05-08T02:05:15.616438\",\"2017-05-09T02:06:14.794520\",\"2017-05-10T02:07:13.972602\",\"2017-05-11T02:08:13.150684\",\"2017-05-12T02:09:12.328767\",\"2017-05-13T02:10:11.506849\",\"2017-05-14T02:11:10.684931\",\"2017-05-15T02:12:09.863013\",\"2017-05-16T02:13:09.041095\",\"2017-05-17T02:14:08.219177\",\"2017-05-18T02:15:07.397260\",\"2017-05-19T02:16:06.575342\",\"2017-05-20T02:17:05.753424\",\"2017-05-21T02:18:04.931506\",\"2017-05-22T02:19:04.109588\",\"2017-05-23T02:20:03.287671\",\"2017-05-24T02:21:02.465753\",\"2017-05-25T02:22:01.643835\",\"2017-05-26T02:23:00.821917\",\"2017-05-27T02:24:00\",\"2017-05-28T02:24:59.178082\",\"2017-05-29T02:25:58.356164\",\"2017-05-30T02:26:57.534246\",\"2017-05-31T02:27:56.712328\",\"2017-06-01T02:28:55.890411\",\"2017-06-02T02:29:55.068493\",\"2017-06-03T02:30:54.246575\",\"2017-06-04T02:31:53.424657\",\"2017-06-05T02:32:52.602739\",\"2017-06-06T02:33:51.780822\",\"2017-06-07T02:34:50.958904\",\"2017-06-08T02:35:50.136986\",\"2017-06-09T02:36:49.315068\",\"2017-06-10T02:37:48.493150\",\"2017-06-11T02:38:47.671232\",\"2017-06-12T02:39:46.849315\",\"2017-06-13T02:40:46.027397\",\"2017-06-14T02:41:45.205479\",\"2017-06-15T02:42:44.383561\",\"2017-06-16T02:43:43.561643\",\"2017-06-17T02:44:42.739726\",\"2017-06-18T02:45:41.917808\",\"2017-06-19T02:46:41.095890\",\"2017-06-20T02:47:40.273972\",\"2017-06-21T02:48:39.452054\",\"2017-06-22T02:49:38.630137\",\"2017-06-23T02:50:37.808219\",\"2017-06-24T02:51:36.986301\",\"2017-06-25T02:52:36.164383\",\"2017-06-26T02:53:35.342465\",\"2017-06-27T02:54:34.520547\",\"2017-06-28T02:55:33.698630\",\"2017-06-29T02:56:32.876712\",\"2017-06-30T02:57:32.054794\",\"2017-07-01T02:58:31.232876\",\"2017-07-02T02:59:30.410958\",\"2017-07-03T03:00:29.589041\",\"2017-07-04T03:01:28.767123\",\"2017-07-05T03:02:27.945205\",\"2017-07-06T03:03:27.123287\",\"2017-07-07T03:04:26.301369\",\"2017-07-08T03:05:25.479452\",\"2017-07-09T03:06:24.657534\",\"2017-07-10T03:07:23.835616\",\"2017-07-11T03:08:23.013698\",\"2017-07-12T03:09:22.191780\",\"2017-07-13T03:10:21.369862\",\"2017-07-14T03:11:20.547945\",\"2017-07-15T03:12:19.726027\",\"2017-07-16T03:13:18.904109\",\"2017-07-17T03:14:18.082191\",\"2017-07-18T03:15:17.260273\",\"2017-07-19T03:16:16.438356\",\"2017-07-20T03:17:15.616438\",\"2017-07-21T03:18:14.794520\",\"2017-07-22T03:19:13.972602\",\"2017-07-23T03:20:13.150684\",\"2017-07-24T03:21:12.328767\",\"2017-07-25T03:22:11.506849\",\"2017-07-26T03:23:10.684931\",\"2017-07-27T03:24:09.863013\",\"2017-07-28T03:25:09.041095\",\"2017-07-29T03:26:08.219177\",\"2017-07-30T03:27:07.397260\",\"2017-07-31T03:28:06.575342\",\"2017-08-01T03:29:05.753424\",\"2017-08-02T03:30:04.931506\",\"2017-08-03T03:31:04.109588\",\"2017-08-04T03:32:03.287671\",\"2017-08-05T03:33:02.465753\",\"2017-08-06T03:34:01.643835\",\"2017-08-07T03:35:00.821917\",\"2017-08-08T03:36:00\",\"2017-08-09T03:36:59.178082\",\"2017-08-10T03:37:58.356164\",\"2017-08-11T03:38:57.534246\",\"2017-08-12T03:39:56.712328\",\"2017-08-13T03:40:55.890411\",\"2017-08-14T03:41:55.068493\",\"2017-08-15T03:42:54.246575\",\"2017-08-16T03:43:53.424657\",\"2017-08-17T03:44:52.602739\",\"2017-08-18T03:45:51.780822\",\"2017-08-19T03:46:50.958904\",\"2017-08-20T03:47:50.136986\",\"2017-08-21T03:48:49.315068\",\"2017-08-22T03:49:48.493150\",\"2017-08-23T03:50:47.671232\",\"2017-08-24T03:51:46.849315\",\"2017-08-25T03:52:46.027397\",\"2017-08-26T03:53:45.205479\",\"2017-08-27T03:54:44.383561\",\"2017-08-28T03:55:43.561643\",\"2017-08-29T03:56:42.739726\",\"2017-08-30T03:57:41.917808\",\"2017-08-31T03:58:41.095890\",\"2017-09-01T03:59:40.273972\",\"2017-09-02T04:00:39.452054\",\"2017-09-03T04:01:38.630137\",\"2017-09-04T04:02:37.808219\",\"2017-09-05T04:03:36.986301\",\"2017-09-06T04:04:36.164383\",\"2017-09-07T04:05:35.342465\",\"2017-09-08T04:06:34.520547\",\"2017-09-09T04:07:33.698630\",\"2017-09-10T04:08:32.876712\",\"2017-09-11T04:09:32.054794\",\"2017-09-12T04:10:31.232876\",\"2017-09-13T04:11:30.410958\",\"2017-09-14T04:12:29.589041\",\"2017-09-15T04:13:28.767123\",\"2017-09-16T04:14:27.945205\",\"2017-09-17T04:15:27.123287\",\"2017-09-18T04:16:26.301369\",\"2017-09-19T04:17:25.479452\",\"2017-09-20T04:18:24.657534\",\"2017-09-21T04:19:23.835616\",\"2017-09-22T04:20:23.013698\",\"2017-09-23T04:21:22.191780\",\"2017-09-24T04:22:21.369862\",\"2017-09-25T04:23:20.547945\",\"2017-09-26T04:24:19.726027\",\"2017-09-27T04:25:18.904109\",\"2017-09-28T04:26:18.082191\",\"2017-09-29T04:27:17.260273\",\"2017-09-30T04:28:16.438356\",\"2017-10-01T04:29:15.616438\",\"2017-10-02T04:30:14.794520\",\"2017-10-03T04:31:13.972602\",\"2017-10-04T04:32:13.150684\",\"2017-10-05T04:33:12.328767\",\"2017-10-06T04:34:11.506849\",\"2017-10-07T04:35:10.684931\",\"2017-10-08T04:36:09.863013\",\"2017-10-09T04:37:09.041095\",\"2017-10-10T04:38:08.219177\",\"2017-10-11T04:39:07.397260\",\"2017-10-12T04:40:06.575342\",\"2017-10-13T04:41:05.753424\",\"2017-10-14T04:42:04.931506\",\"2017-10-15T04:43:04.109588\",\"2017-10-16T04:44:03.287671\",\"2017-10-17T04:45:02.465753\",\"2017-10-18T04:46:01.643835\",\"2017-10-19T04:47:00.821917\",\"2017-10-20T04:48:00\",\"2017-10-21T04:48:59.178082\",\"2017-10-22T04:49:58.356164\",\"2017-10-23T04:50:57.534246\",\"2017-10-24T04:51:56.712328\",\"2017-10-25T04:52:55.890411\",\"2017-10-26T04:53:55.068493\",\"2017-10-27T04:54:54.246575\",\"2017-10-28T04:55:53.424657\",\"2017-10-29T04:56:52.602739\",\"2017-10-30T04:57:51.780822\",\"2017-10-31T04:58:50.958904\",\"2017-11-01T04:59:50.136986\",\"2017-11-02T05:00:49.315068\",\"2017-11-03T05:01:48.493150\",\"2017-11-04T05:02:47.671232\",\"2017-11-05T05:03:46.849315\",\"2017-11-06T05:04:46.027397\",\"2017-11-07T05:05:45.205479\",\"2017-11-08T05:06:44.383561\",\"2017-11-09T05:07:43.561643\",\"2017-11-10T05:08:42.739726\",\"2017-11-11T05:09:41.917808\",\"2017-11-12T05:10:41.095890\",\"2017-11-13T05:11:40.273972\",\"2017-11-14T05:12:39.452054\",\"2017-11-15T05:13:38.630137\",\"2017-11-16T05:14:37.808219\",\"2017-11-17T05:15:36.986301\",\"2017-11-18T05:16:36.164383\",\"2017-11-19T05:17:35.342465\",\"2017-11-20T05:18:34.520547\",\"2017-11-21T05:19:33.698630\",\"2017-11-22T05:20:32.876712\",\"2017-11-23T05:21:32.054794\",\"2017-11-24T05:22:31.232876\",\"2017-11-25T05:23:30.410958\",\"2017-11-26T05:24:29.589041\",\"2017-11-27T05:25:28.767123\",\"2017-11-28T05:26:27.945205\",\"2017-11-29T05:27:27.123287\",\"2017-11-30T05:28:26.301369\",\"2017-12-01T05:29:25.479452\",\"2017-12-02T05:30:24.657534\",\"2017-12-03T05:31:23.835616\",\"2017-12-04T05:32:23.013698\",\"2017-12-05T05:33:22.191780\",\"2017-12-06T05:34:21.369862\",\"2017-12-07T05:35:20.547945\",\"2017-12-08T05:36:19.726027\",\"2017-12-09T05:37:18.904109\",\"2017-12-10T05:38:18.082191\",\"2017-12-11T05:39:17.260273\",\"2017-12-12T05:40:16.438356\",\"2017-12-13T05:41:15.616438\",\"2017-12-14T05:42:14.794520\",\"2017-12-15T05:43:13.972602\",\"2017-12-16T05:44:13.150684\",\"2017-12-17T05:45:12.328767\",\"2017-12-18T05:46:11.506849\",\"2017-12-19T05:47:10.684931\",\"2017-12-20T05:48:09.863013\",\"2017-12-21T05:49:09.041095\",\"2017-12-22T05:50:08.219177\",\"2017-12-23T05:51:07.397260\",\"2017-12-24T05:52:06.575342\",\"2017-12-25T05:53:05.753424\",\"2017-12-26T05:54:04.931506\",\"2017-12-27T05:55:04.109588\",\"2017-12-28T05:56:03.287671\",\"2017-12-29T05:57:02.465753\",\"2017-12-30T05:58:01.643835\",\"2017-12-31T05:59:00.821917\"],\"y\":[3.6400148696494448,3.0927603969764497,2.971771732716088,3.221580755355019,3.7785689987202735,4.573424137556567,5.533695819482362,6.586369277361704,7.660375948282749,8.688963572434597,9.611853822652144,10.377123235434636,10.942752823240726,11.277802935175975,11.363182345804452,11.191993798072888,10.76945189458893,10.112382897129208,9.248329236941345,8.214293952609173,7.055171477724178,5.8219208603475625,4.569545317113818,3.3549477744703466,2.2347355607302672,1.2630485836134222,0.48948413456977263,-0.0428120522795892,-0.29882457372580007,-0.25306078263319,0.10938981422096973,0.7921648941052458,1.7873310071008424,3.0754883944792657,4.626276540103359,6.399264955565602,8.34520108188096,10.407575452044297,12.524453768954759,14.630516642682174,16.65924068005581,18.545149655771183,20.226061774796143,21.64525865485108,22.75350363428285,23.510841289894916,23.88811651049874,23.868159919621238,23.44659662342037,22.63224686989047,21.44709988833057,19.925855548011686,18.11504212187962,16.07173194394697,13.86188969144833,11.558400000155288,9.23883176152234,6.983005412929082,4.870436534906028,2.977733879070953,1.3760324061618454,0.12854192200194686,-0.7117105609974812,-1.1038714801137433,-1.020918294921362,-0.4509271160552206,0.6020954061915427,2.117849160116883,4.059866136825006,6.376129555063339,9.00017686755569,11.85266234652313,14.843340889924411,17.873421626764205,20.838228224651207,23.63009287665566,26.141403073646906,28.267714703881595,29.91084194736494,30.981833957288906,31.403750480419216,31.114153320253166,30.06723776938316,28.23553764069514,25.611149047235507,22.20643129747191,18.054157813061394,13.207105424298422,7.737086314194083,1.7334428029545512,-4.6989593666534875,-11.442189021382685,-18.36809537317764,-25.34146669586473,-32.22341745322382,-38.87491236844192,-45.16033138774027,-50.95097765961555,-56.12843159149207,-60.58765774278779,-64.23977767557315,-67.01443073568406,-68.86165583931795,-69.75324038100308,-69.68349699211635,-68.66944465441885,-66.75038716221651,-63.98689866194116,-60.45924250278174,-56.265265436277744,-51.51782385396295,-46.341811832863584,-40.87087189322903,-35.2438782426287,-29.601288630764785,-24.081464589725336,-18.81706067471955,-13.931581333823447,-9.536199270832107,-5.726921763773051,-2.5821815742529184,-0.1609171075105196,1.498807291244031,2.380605206110645,2.4899766454878742,1.8539182969339367,0.519949386083061,-1.445416743958138,-3.958709846126797,-6.921989255355824,-10.22570782771679,-13.751871293058812,-17.3774031286931,-20.977619788003196,-24.429718570158247,-27.6161806558526,-30.427994840036966,-32.76761317344781,-34.551557900639665,-35.712609512865,-36.20151810521317,-35.9881941779259,-35.06235014042738,-33.43357962270399,-31.130877812208116,-28.201621948152102,-24.71004636125756,-20.735260607147517,-16.368871902746474,-11.712283878211839,-6.873752300889698,-1.9652846716541874,2.9005257257225154,7.613639719340371,12.069596132343412,16.172333951468914,19.836733794687877,22.990808659349234,25.577484875396532,27.5559267707438,28.902372398043894,29.610462358357438,29.691058849036935,29.1715671125494,28.094786024488148,26.51732820786863,24.50766239369264,22.14384141302258,19.510987892691066,16.69861619153041,13.797873180151011,10.898782024343221,8.087572154430253,5.4441751321793515,3.0399602840519386,0.9357759445830278,-0.8196478000900199,-2.190890548924737,-3.156595712728587,-3.709769535567405,-3.8576213554316876,-3.62095560488359,-3.0331397948797414,-2.138685639409916,-0.9914921752967382,0.3471901377723077,1.8110070904950897,3.3308867753556997,4.837486764443714,6.2636237061640925,7.546607616725397,8.630406522819065,9.46757278422798,10.020870204063996,10.264550679559541,10.185240356419634,9.782407677591113,9.068398979194956,8.068040973916087,6.8178231536021485,5.364686417820543,3.764456685090041,2.079973486750685,0.37897323304709635,-1.26820532014707,-2.7910201297216095,-4.121152700278391,-5.194884852216902,-5.9553489014491285,-6.354578430029005,-6.35529279674985,-5.93235659689726,-5.073865187188945,-3.7818188454930968,-2.0723607888219657,0.02443225872546452,2.465204382987601,5.194403262279836,8.145761584130142,11.244134707423957,14.407640864588368,17.550040473133482,20.583283294435475,23.42014648691444,25.976883232335496,28.17580068179837,29.94768750917801,31.234015341143316,31.988844643505214,32.18037410380986,31.79208291449747,30.82342732457054,29.29006603783039,27.22360309926095,24.67085140810124,21.6926344921771,18.362158236139965,14.76299745155201,10.986754107154065,7.1304543392011075,3.2937597150375386,-0.4239256319079196,-3.926366637254592,-7.123341142730559,-9.933330737287255,-12.285977327687712,-14.12423053993907,-15.4061197003036,-16.10609482401857,-16.21589343997595,-15.744903843728489,-14.72001009689904,-13.18491934664302,-11.198987373853843,-8.83557324001863,-6.1799680436529325,-3.3269556955874857,-0.37807488894330304,2.561339266455609,5.385248440792669,7.990049051765218,10.277663011629356,12.158490030879433,13.554133711521304,14.399819721196602,14.646432835609804,14.262110331993894,13.23334181113776,11.565539657390254,9.28305961031849,6.428666875741193,3.0624593853810707,-0.739724251249269,-4.888369335801642,-9.28276538320104,-13.813832825484187,-18.36721627096342,-22.82655620386476,-27.076845259301724,-31.00777215289234,-34.51695608982968,-37.51297704134426,-39.918112595607646,-41.6707000275298,-42.72705256258262,-43.0628712513069,-42.67410806738575,-41.577251393001106,-39.80902151522223,-37.42548065517708,-34.50057890165562,-31.12417373648586,-27.399576148676648,-23.440690192913998,-19.36882485199424,-15.309266860365817,-11.387710449595478,-7.72664456501887,-4.4417998414928554,-1.6387564508160772,0.5901901261563565,2.1688151881200533,3.0393219753380265,3.1642008720939674,2.527535367079624,1.135714848332041,-0.982469157700101,-3.7763494553106254,-7.174521055638441,-11.086561985109235,-15.405292148015853,-20.009510196605643,-24.767134861835597,-29.53866575050977,-34.180869542218005,-38.550591086785026,-42.50858528406457,-45.92326493205092,-48.674261970771155,-50.65570466445185,-51.77912110637091,-51.975889773654835,-51.19917040855428,-49.425262899423394,-46.65435766863254,-42.91065789589626,-38.24187123524384,-32.71808603264888,-26.430063927162156,-19.486996645971086,-12.013789337692932,-4.147945519303442,3.9638607091905396,12.169431396239554,20.3148111597185,28.248071379306957,35.823010447598165,42.90267141932195,49.36258419737353,55.09364775665461,60.00457858187347,64.02386416345466,67.10117468510222,69.2082015268295,70.338907448947,70.50918984736282,69.755974801749,68.135775310725,65.72276167764446,62.6064050673666,58.88876643474615,54.68151202489038,50.10274322049405,45.27373249673309,40.315658544199344,35.34643222520724,30.477701001228596,25.812112953276433,21.440912725899846,17.441930937291154,13.87801615087135,10.795944774788817,8.225829667679724,6.181033214560405,4.658575648149006],\"type\":\"scatter\",\"xaxis\":\"x2\",\"yaxis\":\"y2\"}],                        {\"template\":{\"data\":{\"histogram2dcontour\":[{\"type\":\"histogram2dcontour\",\"colorbar\":{\"outlinewidth\":0,\"ticks\":\"\"},\"colorscale\":[[0.0,\"#0d0887\"],[0.1111111111111111,\"#46039f\"],[0.2222222222222222,\"#7201a8\"],[0.3333333333333333,\"#9c179e\"],[0.4444444444444444,\"#bd3786\"],[0.5555555555555556,\"#d8576b\"],[0.6666666666666666,\"#ed7953\"],[0.7777777777777778,\"#fb9f3a\"],[0.8888888888888888,\"#fdca26\"],[1.0,\"#f0f921\"]]}],\"choropleth\":[{\"type\":\"choropleth\",\"colorbar\":{\"outlinewidth\":0,\"ticks\":\"\"}}],\"histogram2d\":[{\"type\":\"histogram2d\",\"colorbar\":{\"outlinewidth\":0,\"ticks\":\"\"},\"colorscale\":[[0.0,\"#0d0887\"],[0.1111111111111111,\"#46039f\"],[0.2222222222222222,\"#7201a8\"],[0.3333333333333333,\"#9c179e\"],[0.4444444444444444,\"#bd3786\"],[0.5555555555555556,\"#d8576b\"],[0.6666666666666666,\"#ed7953\"],[0.7777777777777778,\"#fb9f3a\"],[0.8888888888888888,\"#fdca26\"],[1.0,\"#f0f921\"]]}],\"heatmap\":[{\"type\":\"heatmap\",\"colorbar\":{\"outlinewidth\":0,\"ticks\":\"\"},\"colorscale\":[[0.0,\"#0d0887\"],[0.1111111111111111,\"#46039f\"],[0.2222222222222222,\"#7201a8\"],[0.3333333333333333,\"#9c179e\"],[0.4444444444444444,\"#bd3786\"],[0.5555555555555556,\"#d8576b\"],[0.6666666666666666,\"#ed7953\"],[0.7777777777777778,\"#fb9f3a\"],[0.8888888888888888,\"#fdca26\"],[1.0,\"#f0f921\"]]}],\"heatmapgl\":[{\"type\":\"heatmapgl\",\"colorbar\":{\"outlinewidth\":0,\"ticks\":\"\"},\"colorscale\":[[0.0,\"#0d0887\"],[0.1111111111111111,\"#46039f\"],[0.2222222222222222,\"#7201a8\"],[0.3333333333333333,\"#9c179e\"],[0.4444444444444444,\"#bd3786\"],[0.5555555555555556,\"#d8576b\"],[0.6666666666666666,\"#ed7953\"],[0.7777777777777778,\"#fb9f3a\"],[0.8888888888888888,\"#fdca26\"],[1.0,\"#f0f921\"]]}],\"contourcarpet\":[{\"type\":\"contourcarpet\",\"colorbar\":{\"outlinewidth\":0,\"ticks\":\"\"}}],\"contour\":[{\"type\":\"contour\",\"colorbar\":{\"outlinewidth\":0,\"ticks\":\"\"},\"colorscale\":[[0.0,\"#0d0887\"],[0.1111111111111111,\"#46039f\"],[0.2222222222222222,\"#7201a8\"],[0.3333333333333333,\"#9c179e\"],[0.4444444444444444,\"#bd3786\"],[0.5555555555555556,\"#d8576b\"],[0.6666666666666666,\"#ed7953\"],[0.7777777777777778,\"#fb9f3a\"],[0.8888888888888888,\"#fdca26\"],[1.0,\"#f0f921\"]]}],\"surface\":[{\"type\":\"surface\",\"colorbar\":{\"outlinewidth\":0,\"ticks\":\"\"},\"colorscale\":[[0.0,\"#0d0887\"],[0.1111111111111111,\"#46039f\"],[0.2222222222222222,\"#7201a8\"],[0.3333333333333333,\"#9c179e\"],[0.4444444444444444,\"#bd3786\"],[0.5555555555555556,\"#d8576b\"],[0.6666666666666666,\"#ed7953\"],[0.7777777777777778,\"#fb9f3a\"],[0.8888888888888888,\"#fdca26\"],[1.0,\"#f0f921\"]]}],\"mesh3d\":[{\"type\":\"mesh3d\",\"colorbar\":{\"outlinewidth\":0,\"ticks\":\"\"}}],\"scatter\":[{\"fillpattern\":{\"fillmode\":\"overlay\",\"size\":10,\"solidity\":0.2},\"type\":\"scatter\"}],\"parcoords\":[{\"type\":\"parcoords\",\"line\":{\"colorbar\":{\"outlinewidth\":0,\"ticks\":\"\"}}}],\"scatterpolargl\":[{\"type\":\"scatterpolargl\",\"marker\":{\"colorbar\":{\"outlinewidth\":0,\"ticks\":\"\"}}}],\"bar\":[{\"error_x\":{\"color\":\"#2a3f5f\"},\"error_y\":{\"color\":\"#2a3f5f\"},\"marker\":{\"line\":{\"color\":\"#E5ECF6\",\"width\":0.5},\"pattern\":{\"fillmode\":\"overlay\",\"size\":10,\"solidity\":0.2}},\"type\":\"bar\"}],\"scattergeo\":[{\"type\":\"scattergeo\",\"marker\":{\"colorbar\":{\"outlinewidth\":0,\"ticks\":\"\"}}}],\"scatterpolar\":[{\"type\":\"scatterpolar\",\"marker\":{\"colorbar\":{\"outlinewidth\":0,\"ticks\":\"\"}}}],\"histogram\":[{\"marker\":{\"pattern\":{\"fillmode\":\"overlay\",\"size\":10,\"solidity\":0.2}},\"type\":\"histogram\"}],\"scattergl\":[{\"type\":\"scattergl\",\"marker\":{\"colorbar\":{\"outlinewidth\":0,\"ticks\":\"\"}}}],\"scatter3d\":[{\"type\":\"scatter3d\",\"line\":{\"colorbar\":{\"outlinewidth\":0,\"ticks\":\"\"}},\"marker\":{\"colorbar\":{\"outlinewidth\":0,\"ticks\":\"\"}}}],\"scattermapbox\":[{\"type\":\"scattermapbox\",\"marker\":{\"colorbar\":{\"outlinewidth\":0,\"ticks\":\"\"}}}],\"scatterternary\":[{\"type\":\"scatterternary\",\"marker\":{\"colorbar\":{\"outlinewidth\":0,\"ticks\":\"\"}}}],\"scattercarpet\":[{\"type\":\"scattercarpet\",\"marker\":{\"colorbar\":{\"outlinewidth\":0,\"ticks\":\"\"}}}],\"carpet\":[{\"aaxis\":{\"endlinecolor\":\"#2a3f5f\",\"gridcolor\":\"white\",\"linecolor\":\"white\",\"minorgridcolor\":\"white\",\"startlinecolor\":\"#2a3f5f\"},\"baxis\":{\"endlinecolor\":\"#2a3f5f\",\"gridcolor\":\"white\",\"linecolor\":\"white\",\"minorgridcolor\":\"white\",\"startlinecolor\":\"#2a3f5f\"},\"type\":\"carpet\"}],\"table\":[{\"cells\":{\"fill\":{\"color\":\"#EBF0F8\"},\"line\":{\"color\":\"white\"}},\"header\":{\"fill\":{\"color\":\"#C8D4E3\"},\"line\":{\"color\":\"white\"}},\"type\":\"table\"}],\"barpolar\":[{\"marker\":{\"line\":{\"color\":\"#E5ECF6\",\"width\":0.5},\"pattern\":{\"fillmode\":\"overlay\",\"size\":10,\"solidity\":0.2}},\"type\":\"barpolar\"}],\"pie\":[{\"automargin\":true,\"type\":\"pie\"}]},\"layout\":{\"autotypenumbers\":\"strict\",\"colorway\":[\"#636efa\",\"#EF553B\",\"#00cc96\",\"#ab63fa\",\"#FFA15A\",\"#19d3f3\",\"#FF6692\",\"#B6E880\",\"#FF97FF\",\"#FECB52\"],\"font\":{\"color\":\"#2a3f5f\"},\"hovermode\":\"closest\",\"hoverlabel\":{\"align\":\"left\"},\"paper_bgcolor\":\"white\",\"plot_bgcolor\":\"#E5ECF6\",\"polar\":{\"bgcolor\":\"#E5ECF6\",\"angularaxis\":{\"gridcolor\":\"white\",\"linecolor\":\"white\",\"ticks\":\"\"},\"radialaxis\":{\"gridcolor\":\"white\",\"linecolor\":\"white\",\"ticks\":\"\"}},\"ternary\":{\"bgcolor\":\"#E5ECF6\",\"aaxis\":{\"gridcolor\":\"white\",\"linecolor\":\"white\",\"ticks\":\"\"},\"baxis\":{\"gridcolor\":\"white\",\"linecolor\":\"white\",\"ticks\":\"\"},\"caxis\":{\"gridcolor\":\"white\",\"linecolor\":\"white\",\"ticks\":\"\"}},\"coloraxis\":{\"colorbar\":{\"outlinewidth\":0,\"ticks\":\"\"}},\"colorscale\":{\"sequential\":[[0.0,\"#0d0887\"],[0.1111111111111111,\"#46039f\"],[0.2222222222222222,\"#7201a8\"],[0.3333333333333333,\"#9c179e\"],[0.4444444444444444,\"#bd3786\"],[0.5555555555555556,\"#d8576b\"],[0.6666666666666666,\"#ed7953\"],[0.7777777777777778,\"#fb9f3a\"],[0.8888888888888888,\"#fdca26\"],[1.0,\"#f0f921\"]],\"sequentialminus\":[[0.0,\"#0d0887\"],[0.1111111111111111,\"#46039f\"],[0.2222222222222222,\"#7201a8\"],[0.3333333333333333,\"#9c179e\"],[0.4444444444444444,\"#bd3786\"],[0.5555555555555556,\"#d8576b\"],[0.6666666666666666,\"#ed7953\"],[0.7777777777777778,\"#fb9f3a\"],[0.8888888888888888,\"#fdca26\"],[1.0,\"#f0f921\"]],\"diverging\":[[0,\"#8e0152\"],[0.1,\"#c51b7d\"],[0.2,\"#de77ae\"],[0.3,\"#f1b6da\"],[0.4,\"#fde0ef\"],[0.5,\"#f7f7f7\"],[0.6,\"#e6f5d0\"],[0.7,\"#b8e186\"],[0.8,\"#7fbc41\"],[0.9,\"#4d9221\"],[1,\"#276419\"]]},\"xaxis\":{\"gridcolor\":\"white\",\"linecolor\":\"white\",\"ticks\":\"\",\"title\":{\"standoff\":15},\"zerolinecolor\":\"white\",\"automargin\":true,\"zerolinewidth\":2},\"yaxis\":{\"gridcolor\":\"white\",\"linecolor\":\"white\",\"ticks\":\"\",\"title\":{\"standoff\":15},\"zerolinecolor\":\"white\",\"automargin\":true,\"zerolinewidth\":2},\"scene\":{\"xaxis\":{\"backgroundcolor\":\"#E5ECF6\",\"gridcolor\":\"white\",\"linecolor\":\"white\",\"showbackground\":true,\"ticks\":\"\",\"zerolinecolor\":\"white\",\"gridwidth\":2},\"yaxis\":{\"backgroundcolor\":\"#E5ECF6\",\"gridcolor\":\"white\",\"linecolor\":\"white\",\"showbackground\":true,\"ticks\":\"\",\"zerolinecolor\":\"white\",\"gridwidth\":2},\"zaxis\":{\"backgroundcolor\":\"#E5ECF6\",\"gridcolor\":\"white\",\"linecolor\":\"white\",\"showbackground\":true,\"ticks\":\"\",\"zerolinecolor\":\"white\",\"gridwidth\":2}},\"shapedefaults\":{\"line\":{\"color\":\"#2a3f5f\"}},\"annotationdefaults\":{\"arrowcolor\":\"#2a3f5f\",\"arrowhead\":0,\"arrowwidth\":1},\"geo\":{\"bgcolor\":\"white\",\"landcolor\":\"#E5ECF6\",\"subunitcolor\":\"white\",\"showland\":true,\"showlakes\":true,\"lakecolor\":\"white\"},\"title\":{\"x\":0.05},\"mapbox\":{\"style\":\"light\"}}},\"xaxis\":{\"anchor\":\"y\",\"domain\":[0.0,1.0],\"range\":[\"2009-06-20T04:48:00\",\"2021-03-14T19:12:00\"],\"type\":\"date\"},\"yaxis\":{\"anchor\":\"x\",\"domain\":[0.575,1.0],\"title\":{\"text\":\"trend\"},\"rangemode\":\"normal\",\"zerolinecolor\":\"#AAA\"},\"xaxis2\":{\"anchor\":\"y2\",\"domain\":[0.0,1.0],\"range\":[\"2016-12-13T18:54:02.958904115\",\"2018-01-18T11:04:57.863013581\"],\"tickformat\":\"%B %e\",\"type\":\"date\"},\"yaxis2\":{\"anchor\":\"x2\",\"domain\":[0.0,0.425],\"title\":{\"text\":\"yearly\"},\"zerolinecolor\":\"#AAA\"},\"height\":400,\"showlegend\":false,\"width\":900},                        {\"responsive\": true}                    ).then(function(){\n",
       "                            \n",
       "var gd = document.getElementById('3488218c-c454-42ac-9f56-89e2961437d0');\n",
       "var x = new MutationObserver(function (mutations, observer) {{\n",
       "        var display = window.getComputedStyle(gd).display;\n",
       "        if (!display || display === 'none') {{\n",
       "            console.log([gd, 'removed!']);\n",
       "            Plotly.purge(gd);\n",
       "            observer.disconnect();\n",
       "        }}\n",
       "}});\n",
       "\n",
       "// Listen for the removal of the full notebook cells\n",
       "var notebookContainer = gd.closest('#notebook-container');\n",
       "if (notebookContainer) {{\n",
       "    x.observe(notebookContainer, {childList: true});\n",
       "}}\n",
       "\n",
       "// Listen for the clearing of the current output cell\n",
       "var outputEl = gd.closest('.output');\n",
       "if (outputEl) {{\n",
       "    x.observe(outputEl, {childList: true});\n",
       "}}\n",
       "\n",
       "                        })                };                });            </script>        </div>"
      ]
     },
     "metadata": {},
     "output_type": "display_data"
    }
   ],
   "source": [
    "plot_components_plotly(m, forecast)"
   ]
  },
  {
   "cell_type": "code",
   "execution_count": 50,
   "id": "2516de06",
   "metadata": {},
   "outputs": [],
   "source": [
    "from statsmodels.tools.eval_measures import rmse"
   ]
  },
  {
   "cell_type": "code",
   "execution_count": 51,
   "id": "39ca4b58",
   "metadata": {},
   "outputs": [],
   "source": [
    "predictions = forecast.iloc[-20:]['yhat']"
   ]
  },
  {
   "cell_type": "code",
   "execution_count": 52,
   "id": "98e32ba1",
   "metadata": {},
   "outputs": [
    {
     "name": "stdout",
     "output_type": "stream",
     "text": [
      "Mean Value of Test Dataset: 72.4\n"
     ]
    }
   ],
   "source": [
    "\n",
    "print(\"Mean Value of Test Dataset:\", test['y'].mean())"
   ]
  },
  {
   "cell_type": "code",
   "execution_count": null,
   "id": "02a83505",
   "metadata": {},
   "outputs": [],
   "source": []
  }
 ],
 "metadata": {
  "kernelspec": {
   "display_name": "Python 3 (ipykernel)",
   "language": "python",
   "name": "python3"
  },
  "language_info": {
   "codemirror_mode": {
    "name": "ipython",
    "version": 3
   },
   "file_extension": ".py",
   "mimetype": "text/x-python",
   "name": "python",
   "nbconvert_exporter": "python",
   "pygments_lexer": "ipython3",
   "version": "3.8.13"
  }
 },
 "nbformat": 4,
 "nbformat_minor": 5
}
